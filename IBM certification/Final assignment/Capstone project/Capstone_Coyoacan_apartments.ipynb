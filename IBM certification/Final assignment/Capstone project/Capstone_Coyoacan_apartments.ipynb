{
  "nbformat": 4,
  "nbformat_minor": 0,
  "metadata": {
    "colab": {
      "name": "Capstone_Coyoacan_apartments.ipynb",
      "provenance": []
    },
    "kernelspec": {
      "name": "python3",
      "display_name": "Python 3"
    },
    "language_info": {
      "name": "python"
    }
  },
  "cells": [
    {
      "cell_type": "markdown",
      "metadata": {
        "id": "3MOJwkP-HsLY"
      },
      "source": [
        "# Capstone project"
      ]
    },
    {
      "cell_type": "markdown",
      "metadata": {
        "id": "GBIzcA0iHz1S"
      },
      "source": [
        "## Table of contents\n",
        "* [Introduction: Business Problem](#introduction)\n",
        "* [Data](#data)"
      ]
    },
    {
      "cell_type": "markdown",
      "metadata": {
        "id": "G8euW4R8H1eo"
      },
      "source": [
        "## Introduction: Business Problem <a name=\"introduction\"></a>"
      ]
    },
    {
      "cell_type": "markdown",
      "metadata": {
        "id": "tu_3A_2MH9GO"
      },
      "source": [
        "Coyoacan is a delegation from Mexico City that is growing economically every year. In addition to this, the culture that exists in this place is attractive to encourage people to live here. Coyoacan is a place full of history and traditions, it has the neighborhoods of the town of Los Reyes, San Pedro Tepetlapa, La Candelaria, San Francisco Culhuacán, Santa Úrsula Coapa, San Francisco, El Niño Jesús, La Conchita, San Lucas, Santa Catarina. For these reasons, any company with sufficient capital should consider building apartments in this zone. \n",
        "\n",
        "In this project we will try to analyze which of these neighborhoods is the best option to consider investing in real estate construction. With the power of machine learning, there will be a projection of the growth of the population in this place, and therefore of the economy and the possibilities of generating profits through the collection of rents. Likewise, an attempt will be made to project through data science which neighborhood is the best option, considering that the region with the greatest number of shops and cultural places will generate the most interest."
      ]
    },
    {
      "cell_type": "markdown",
      "metadata": {
        "id": "nX5Egps7IAti"
      },
      "source": [
        "## Data <a name=\"data\"></a>"
      ]
    },
    {
      "cell_type": "markdown",
      "metadata": {
        "id": "Bmrwz-ebMd4T"
      },
      "source": [
        "Based on the business problem we will obtain through webscrapping the data on the rental prices of the apartments in the Coyoacan area, we will also use the Foursquare location to obtain the information of each of the neighborhoods about the shops and cultural places, since the existence of these places in the area where the apartments will be built will have a great influence on the rental costs and the interest of people to live in these places."
      ]
    },
    {
      "cell_type": "code",
      "metadata": {
        "id": "nmXyFAKrHurh"
      },
      "source": [
        ""
      ],
      "execution_count": null,
      "outputs": []
    }
  ]
}