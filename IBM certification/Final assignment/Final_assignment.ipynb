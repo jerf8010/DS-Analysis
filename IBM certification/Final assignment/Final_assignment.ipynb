{
  "nbformat": 4,
  "nbformat_minor": 0,
  "metadata": {
    "colab": {
      "name": "Final assignment.ipynb",
      "provenance": []
    },
    "kernelspec": {
      "name": "python3",
      "display_name": "Python 3"
    },
    "language_info": {
      "name": "python"
    }
  },
  "cells": [
    {
      "cell_type": "markdown",
      "metadata": {
        "id": "6IS5wAg89UIC"
      },
      "source": [
        "# Final Assignment"
      ]
    },
    {
      "cell_type": "markdown",
      "metadata": {
        "id": "nHBLOiQA9Xf7"
      },
      "source": [
        "This notebook will be mainly used for the capstone project"
      ]
    },
    {
      "cell_type": "code",
      "metadata": {
        "id": "oUtTyvB-9ctb"
      },
      "source": [
        "import pandas as pd\n",
        "import numpy as np"
      ],
      "execution_count": 2,
      "outputs": []
    },
    {
      "cell_type": "code",
      "metadata": {
        "colab": {
          "base_uri": "https://localhost:8080/"
        },
        "id": "dIhMjL7w9iQT",
        "outputId": "d9f134ac-1dd5-4d63-bfe1-291a5d16a766"
      },
      "source": [
        "print('Hello Capstone Project Course!')"
      ],
      "execution_count": 3,
      "outputs": [
        {
          "output_type": "stream",
          "name": "stdout",
          "text": [
            "Hello Capstone Project Course!\n"
          ]
        }
      ]
    }
  ]
}