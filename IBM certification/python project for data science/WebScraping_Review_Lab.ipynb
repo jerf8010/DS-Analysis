{
  "nbformat": 4,
  "nbformat_minor": 0,
  "metadata": {
    "kernelspec": {
      "display_name": "Python",
      "language": "python",
      "name": "conda-env-python-py"
    },
    "language_info": {
      "codemirror_mode": {
        "name": "ipython",
        "version": 3
      },
      "file_extension": ".py",
      "mimetype": "text/x-python",
      "name": "python",
      "nbconvert_exporter": "python",
      "pygments_lexer": "ipython3",
      "version": "3.7.10"
    },
    "colab": {
      "name": "WebScraping_Review_Lab.ipynb",
      "provenance": []
    }
  },
  "cells": [
    {
      "cell_type": "markdown",
      "metadata": {
        "id": "47pfu4-kS4Rz"
      },
      "source": [
        "<center>\n",
        "    <img src=\"https://gitlab.com/ibm/skills-network/courses/placeholder101/-/raw/master/labs/module%201/images/IDSNlogo.png\" width=\"300\" alt=\"cognitiveclass.ai logo\"  />\n",
        "</center>\n"
      ]
    },
    {
      "cell_type": "markdown",
      "metadata": {
        "id": "xRJg2VvKS4R2"
      },
      "source": [
        "# **Web Scraping Lab**\n"
      ]
    },
    {
      "cell_type": "markdown",
      "metadata": {
        "id": "cLuuW0pDS4R3"
      },
      "source": [
        "Estimated time needed: **30** minutes\n"
      ]
    },
    {
      "cell_type": "markdown",
      "metadata": {
        "id": "-mMMopsCS4R4"
      },
      "source": [
        "## Objectives\n"
      ]
    },
    {
      "cell_type": "markdown",
      "metadata": {
        "id": "gNfJYO2JS4R5"
      },
      "source": [
        "After completing this lab you will be able to:\n"
      ]
    },
    {
      "cell_type": "markdown",
      "metadata": {
        "id": "aaxDhHZNS4R6"
      },
      "source": [
        "<h2>Table of Contents</h2>\n",
        "<div class=\"alert alert-block alert-info\" style=\"margin-top: 20px\">\n",
        "    <ul>\n",
        "        <li>\n",
        "            <a href=\"https://bso/?utm_medium=Exinfluencer&utm_source=Exinfluencer&utm_content=000026UJ&utm_term=10006555&utm_id=NA-SkillsNetwork-Channel-SkillsNetworkCoursesIBMDeveloperSkillsNetworkPY0220ENSkillsNetwork23455606-2021-01-01\">Beautiful Soup Object</a>\n",
        "            <ul>\n",
        "                <li>Tag</li>\n",
        "                <li>Children, Parents, and Siblings</li>\n",
        "                <li>HTML Attributes</li>\n",
        "                <li>Navigable String</li>\n",
        "            </ul>\n",
        "        </li>\n",
        "     </ul>\n",
        "    <ul>\n",
        "        <li>\n",
        "            <a href=\"https://filter/?utm_medium=Exinfluencer&utm_source=Exinfluencer&utm_content=000026UJ&utm_term=10006555&utm_id=NA-SkillsNetwork-Channel-SkillsNetworkCoursesIBMDeveloperSkillsNetworkPY0220ENSkillsNetwork23455606-2021-01-01\">Filter</a>\n",
        "            <ul>\n",
        "                <li>find All</li>\n",
        "                <li>find </li>\n",
        "                <li>HTML Attributes</li>\n",
        "                <li>Navigable String</li>\n",
        "            </ul>\n",
        "        </li>\n",
        "     </ul>\n",
        "     <ul>\n",
        "        <li>\n",
        "            <a href=\"https://dscw/?utm_medium=Exinfluencer&utm_source=Exinfluencer&utm_content=000026UJ&utm_term=10006555&utm_id=NA-SkillsNetwork-Channel-SkillsNetworkCoursesIBMDeveloperSkillsNetworkPY0220ENSkillsNetwork23455606-2021-01-01\">Downloading And Scraping The Contents Of A Web</a>\n",
        "    </li>\n",
        "         </ul>\n",
        "    <p>\n",
        "        Estimated time needed: <strong>25 min</strong>\n",
        "    </p>\n",
        "\n",
        "</div>\n",
        "\n",
        "<hr>\n"
      ]
    },
    {
      "cell_type": "markdown",
      "metadata": {
        "id": "ZnqFM3XoS4R7"
      },
      "source": [
        ""
      ]
    },
    {
      "cell_type": "markdown",
      "metadata": {
        "id": "xDi5DG9xS4R7"
      },
      "source": [
        "For this lab, we are going to be using Python and several Python libraries. Some of these libraries might be installed in your lab environment or in SN Labs. Others may need to be installed by you. The cells below will install these libraries when executed.\n"
      ]
    },
    {
      "cell_type": "code",
      "metadata": {
        "colab": {
          "base_uri": "https://localhost:8080/"
        },
        "id": "RcdXGIG4S4R8",
        "outputId": "16c7fa9a-53db-41f9-fc4c-d1d78422ab91"
      },
      "source": [
        "!pip install bs4\n",
        "!pip install lxml\n",
        "!pip install html5lib\n",
        "#!pip install requests"
      ],
      "execution_count": 1,
      "outputs": [
        {
          "output_type": "stream",
          "name": "stdout",
          "text": [
            "Requirement already satisfied: bs4 in /usr/local/lib/python3.7/dist-packages (0.0.1)\n",
            "Requirement already satisfied: beautifulsoup4 in /usr/local/lib/python3.7/dist-packages (from bs4) (4.6.3)\n",
            "Requirement already satisfied: lxml in /usr/local/lib/python3.7/dist-packages (4.2.6)\n",
            "Requirement already satisfied: html5lib in /usr/local/lib/python3.7/dist-packages (1.0.1)\n",
            "Requirement already satisfied: six>=1.9 in /usr/local/lib/python3.7/dist-packages (from html5lib) (1.15.0)\n",
            "Requirement already satisfied: webencodings in /usr/local/lib/python3.7/dist-packages (from html5lib) (0.5.1)\n"
          ]
        }
      ]
    },
    {
      "cell_type": "markdown",
      "metadata": {
        "id": "gGSVYTdlS4R-"
      },
      "source": [
        "Import the required modules and functions\n"
      ]
    },
    {
      "cell_type": "code",
      "metadata": {
        "id": "0VcdHLwBS4R_"
      },
      "source": [
        "from bs4 import BeautifulSoup # this module helps in web scrapping.\n",
        "import requests  # this module helps us to download a web page"
      ],
      "execution_count": 2,
      "outputs": []
    },
    {
      "cell_type": "markdown",
      "metadata": {
        "id": "P7I9YkPTS4R_"
      },
      "source": [
        "<h2 id=\"BSO\">Beautiful Soup Objects</h2>\n"
      ]
    },
    {
      "cell_type": "markdown",
      "metadata": {
        "id": "PRfEdV3fS4SA"
      },
      "source": [
        "Beautiful Soup is a Python library for pulling data out of HTML and XML files, we will focus on HTML files. This is accomplished by representing the HTML as a set of objects with methods used to parse the HTML.  We can navigate the HTML as a tree and/or filter out what we are looking for.\n",
        "\n",
        "Consider the following HTML:\n"
      ]
    },
    {
      "cell_type": "code",
      "metadata": {
        "colab": {
          "base_uri": "https://localhost:8080/",
          "height": 203
        },
        "id": "gaIalh8LS4SA",
        "outputId": "412bc392-85c2-4889-988f-7c699bfb5e35"
      },
      "source": [
        "%%html\n",
        "<!DOCTYPE html>\n",
        "<html>\n",
        "<head>\n",
        "<title>Page Title</title>\n",
        "</head>\n",
        "<body>\n",
        "<h3><b id='boldest'>Lebron James</b></h3>\n",
        "<p> Salary: $ 92,000,000 </p>\n",
        "<h3> Stephen Curry</h3>\n",
        "<p> Salary: $85,000, 000 </p>\n",
        "<h3> Kevin Durant </h3>\n",
        "<p> Salary: $73,200, 000</p>\n",
        "</body>\n",
        "</html>"
      ],
      "execution_count": 3,
      "outputs": [
        {
          "output_type": "display_data",
          "data": {
            "text/html": [
              "<!DOCTYPE html>\n",
              "<html>\n",
              "<head>\n",
              "<title>Page Title</title>\n",
              "</head>\n",
              "<body>\n",
              "<h3><b id='boldest'>Lebron James</b></h3>\n",
              "<p> Salary: $ 92,000,000 </p>\n",
              "<h3> Stephen Curry</h3>\n",
              "<p> Salary: $85,000, 000 </p>\n",
              "<h3> Kevin Durant </h3>\n",
              "<p> Salary: $73,200, 000</p>\n",
              "</body>\n",
              "</html>"
            ],
            "text/plain": [
              "<IPython.core.display.HTML object>"
            ]
          },
          "metadata": {}
        }
      ]
    },
    {
      "cell_type": "markdown",
      "metadata": {
        "id": "oQ_mhYyQS4SC"
      },
      "source": [
        "We can store it as a string in the variable HTML:\n"
      ]
    },
    {
      "cell_type": "code",
      "metadata": {
        "id": "y5FYjIZaS4SC"
      },
      "source": [
        "html=\"<!DOCTYPE html><html><head><title>Page Title</title></head><body><h3><b id='boldest'>Lebron James</b></h3><p> Salary: $ 92,000,000 </p><h3> Stephen Curry</h3><p> Salary: $85,000, 000 </p><h3> Kevin Durant </h3><p> Salary: $73,200, 000</p></body></html>\""
      ],
      "execution_count": 4,
      "outputs": []
    },
    {
      "cell_type": "markdown",
      "metadata": {
        "id": "XeZgm2BRS4SC"
      },
      "source": [
        "To parse a document, pass it into the <code>BeautifulSoup</code> constructor, the <code>BeautifulSoup</code> object, which represents the document as a nested data structure:\n"
      ]
    },
    {
      "cell_type": "code",
      "metadata": {
        "id": "OCn3odLPS4SD"
      },
      "source": [
        "soup = BeautifulSoup(html, \"html.parser\")"
      ],
      "execution_count": 5,
      "outputs": []
    },
    {
      "cell_type": "markdown",
      "metadata": {
        "id": "ix4Ip7D7S4SD"
      },
      "source": [
        "First, the document is converted to Unicode, (similar to ASCII),  and HTML entities are converted to Unicode characters. Beautiful Soup transforms a complex HTML document into a complex tree of Python objects. The <code>BeautifulSoup</code> object can create other types of objects. In this lab, we will cover <code>BeautifulSoup</code> and <code>Tag</code> objects that for the purposes of this lab are identical, and <code>NavigableString</code> objects.\n"
      ]
    },
    {
      "cell_type": "markdown",
      "metadata": {
        "id": "Ci13mj70S4SD"
      },
      "source": [
        "We can use the method <code>prettify()</code> to display the HTML in the nested structure:\n"
      ]
    },
    {
      "cell_type": "code",
      "metadata": {
        "colab": {
          "base_uri": "https://localhost:8080/"
        },
        "id": "z0nRQ6gQS4SE",
        "outputId": "07220169-c4f5-40f1-c42e-286c8d8cdc84"
      },
      "source": [
        "print(soup.prettify())"
      ],
      "execution_count": 6,
      "outputs": [
        {
          "output_type": "stream",
          "name": "stdout",
          "text": [
            "<!DOCTYPE html>\n",
            "<html>\n",
            " <head>\n",
            "  <title>\n",
            "   Page Title\n",
            "  </title>\n",
            " </head>\n",
            " <body>\n",
            "  <h3>\n",
            "   <b id=\"boldest\">\n",
            "    Lebron James\n",
            "   </b>\n",
            "  </h3>\n",
            "  <p>\n",
            "   Salary: $ 92,000,000\n",
            "  </p>\n",
            "  <h3>\n",
            "   Stephen Curry\n",
            "  </h3>\n",
            "  <p>\n",
            "   Salary: $85,000, 000\n",
            "  </p>\n",
            "  <h3>\n",
            "   Kevin Durant\n",
            "  </h3>\n",
            "  <p>\n",
            "   Salary: $73,200, 000\n",
            "  </p>\n",
            " </body>\n",
            "</html>\n"
          ]
        }
      ]
    },
    {
      "cell_type": "markdown",
      "metadata": {
        "id": "zef6fWKWS4SE"
      },
      "source": [
        "## Tags\n"
      ]
    },
    {
      "cell_type": "markdown",
      "metadata": {
        "id": "BqByjQ4cS4SE"
      },
      "source": [
        "Let's say we want the  title of the page and the name of the top paid player we can use the <code>Tag</code>. The <code>Tag</code> object corresponds to an HTML tag in the original document, for example, the tag title.\n"
      ]
    },
    {
      "cell_type": "code",
      "metadata": {
        "colab": {
          "base_uri": "https://localhost:8080/"
        },
        "id": "KAvmLhFWS4SF",
        "outputId": "45bb01d9-7c9f-42f5-a1f3-ba79b49dfffa"
      },
      "source": [
        "tag_object=soup.title\n",
        "print(\"tag object:\",tag_object)"
      ],
      "execution_count": 7,
      "outputs": [
        {
          "output_type": "stream",
          "name": "stdout",
          "text": [
            "tag object: <title>Page Title</title>\n"
          ]
        }
      ]
    },
    {
      "cell_type": "markdown",
      "metadata": {
        "id": "RF7fWA4YS4SF"
      },
      "source": [
        "we can see the tag type <code>bs4.element.Tag</code>\n"
      ]
    },
    {
      "cell_type": "code",
      "metadata": {
        "colab": {
          "base_uri": "https://localhost:8080/"
        },
        "id": "gE4BUUNHS4SG",
        "outputId": "20dc5bf1-e3c4-4037-cb9a-97da8cce5a8b"
      },
      "source": [
        "print(\"tag object type:\",type(tag_object))"
      ],
      "execution_count": 8,
      "outputs": [
        {
          "output_type": "stream",
          "name": "stdout",
          "text": [
            "tag object type: <class 'bs4.element.Tag'>\n"
          ]
        }
      ]
    },
    {
      "cell_type": "markdown",
      "metadata": {
        "id": "UOUYZPFDS4SG"
      },
      "source": [
        "If there is more than one <code>Tag</code>  with the same name, the first element with that <code>Tag</code> name is called, this corresponds to the most paid player:\n"
      ]
    },
    {
      "cell_type": "code",
      "metadata": {
        "colab": {
          "base_uri": "https://localhost:8080/"
        },
        "id": "aGP5kiQCS4SG",
        "outputId": "5baa1a5f-c0b1-491a-b3b9-84d9188fe8f1"
      },
      "source": [
        "tag_object=soup.h3\n",
        "tag_object"
      ],
      "execution_count": 9,
      "outputs": [
        {
          "output_type": "execute_result",
          "data": {
            "text/plain": [
              "<h3><b id=\"boldest\">Lebron James</b></h3>"
            ]
          },
          "metadata": {},
          "execution_count": 9
        }
      ]
    },
    {
      "cell_type": "markdown",
      "metadata": {
        "id": "H0LUUqjAS4SH"
      },
      "source": [
        "Enclosed in the bold attribute <code>b</code>, it helps to use the tree representation. We can navigate down the tree using the child attribute to get the name.\n"
      ]
    },
    {
      "cell_type": "markdown",
      "metadata": {
        "id": "D0J2yGMlS4SH"
      },
      "source": [
        "### Children, Parents, and Siblings\n"
      ]
    },
    {
      "cell_type": "markdown",
      "metadata": {
        "id": "QbX6lOgbS4SH"
      },
      "source": [
        "As stated above the <code>Tag</code> object is a tree of objects we can access the child of the tag or navigate down the branch as follows:\n"
      ]
    },
    {
      "cell_type": "code",
      "metadata": {
        "colab": {
          "base_uri": "https://localhost:8080/"
        },
        "id": "fZQ31KccS4SH",
        "outputId": "a94fefc2-1aa5-47aa-f9d9-e60bfbdac49a"
      },
      "source": [
        "tag_child =tag_object.b\n",
        "tag_child"
      ],
      "execution_count": 13,
      "outputs": [
        {
          "output_type": "execute_result",
          "data": {
            "text/plain": [
              "<b id=\"boldest\">Lebron James</b>"
            ]
          },
          "metadata": {},
          "execution_count": 13
        }
      ]
    },
    {
      "cell_type": "markdown",
      "metadata": {
        "id": "nqbyenL_S4SI"
      },
      "source": [
        "You can access the parent with the <code> parent</code>\n"
      ]
    },
    {
      "cell_type": "code",
      "metadata": {
        "colab": {
          "base_uri": "https://localhost:8080/"
        },
        "id": "wneTrqNjS4SI",
        "outputId": "8d035d7b-ea3a-43d0-a233-9415092539aa"
      },
      "source": [
        "parent_tag=tag_child.parent\n",
        "parent_tag"
      ],
      "execution_count": 11,
      "outputs": [
        {
          "output_type": "execute_result",
          "data": {
            "text/plain": [
              "<h3><b id=\"boldest\">Lebron James</b></h3>"
            ]
          },
          "metadata": {},
          "execution_count": 11
        }
      ]
    },
    {
      "cell_type": "markdown",
      "metadata": {
        "id": "s2ewJxHRS4SI"
      },
      "source": [
        "this is identical to\n"
      ]
    },
    {
      "cell_type": "code",
      "metadata": {
        "colab": {
          "base_uri": "https://localhost:8080/"
        },
        "id": "Xwn6gLTtS4SI",
        "outputId": "85860750-54a7-4f35-e053-eb410908e9c5"
      },
      "source": [
        "tag_object"
      ],
      "execution_count": 14,
      "outputs": [
        {
          "output_type": "execute_result",
          "data": {
            "text/plain": [
              "<h3><b id=\"boldest\">Lebron James</b></h3>"
            ]
          },
          "metadata": {},
          "execution_count": 14
        }
      ]
    },
    {
      "cell_type": "markdown",
      "metadata": {
        "id": "soZgrJV5S4SJ"
      },
      "source": [
        "<code>tag_object</code> parent is the <code>body</code> element.\n"
      ]
    },
    {
      "cell_type": "code",
      "metadata": {
        "colab": {
          "base_uri": "https://localhost:8080/"
        },
        "id": "MXqRKKa5S4SJ",
        "outputId": "bbe994b7-ed16-41de-c85b-de208f3faa23"
      },
      "source": [
        "tag_object.parent"
      ],
      "execution_count": 15,
      "outputs": [
        {
          "output_type": "execute_result",
          "data": {
            "text/plain": [
              "<body><h3><b id=\"boldest\">Lebron James</b></h3><p> Salary: $ 92,000,000 </p><h3> Stephen Curry</h3><p> Salary: $85,000, 000 </p><h3> Kevin Durant </h3><p> Salary: $73,200, 000</p></body>"
            ]
          },
          "metadata": {},
          "execution_count": 15
        }
      ]
    },
    {
      "cell_type": "markdown",
      "metadata": {
        "id": "hCh4-cHVS4SJ"
      },
      "source": [
        "<code>tag_object</code> sibling is the <code>paragraph</code> element\n"
      ]
    },
    {
      "cell_type": "code",
      "metadata": {
        "colab": {
          "base_uri": "https://localhost:8080/"
        },
        "id": "5ZcUBWvXS4SJ",
        "outputId": "b5dbc2ab-b172-4a54-ca61-3d123fbfeca1"
      },
      "source": [
        "sibling_1=tag_object.next_sibling\n",
        "sibling_1"
      ],
      "execution_count": 16,
      "outputs": [
        {
          "output_type": "execute_result",
          "data": {
            "text/plain": [
              "<p> Salary: $ 92,000,000 </p>"
            ]
          },
          "metadata": {},
          "execution_count": 16
        }
      ]
    },
    {
      "cell_type": "markdown",
      "metadata": {
        "id": "VdU-NQ4kS4SK"
      },
      "source": [
        "`sibling_2` is the `header` element which is also a sibling of both `sibling_1` and `tag_object`\n"
      ]
    },
    {
      "cell_type": "code",
      "metadata": {
        "colab": {
          "base_uri": "https://localhost:8080/"
        },
        "id": "GAA-m6G3S4SK",
        "outputId": "a2f8e2fd-98dc-4566-b17c-9cd370e14159"
      },
      "source": [
        "sibling_2=sibling_1.next_sibling\n",
        "sibling_2"
      ],
      "execution_count": 17,
      "outputs": [
        {
          "output_type": "execute_result",
          "data": {
            "text/plain": [
              "<h3> Stephen Curry</h3>"
            ]
          },
          "metadata": {},
          "execution_count": 17
        }
      ]
    },
    {
      "cell_type": "markdown",
      "metadata": {
        "id": "84csPLM2S4SK"
      },
      "source": [
        "<h3 id=\"first_question\">Exercise: <code>next_sibling</code></h3>\n"
      ]
    },
    {
      "cell_type": "markdown",
      "metadata": {
        "id": "CTbQOp_SS4SK"
      },
      "source": [
        "Using the object <code>sibling\\_2</code> and the property <code>next_sibling</code> to find the salary of Stephen Curry:\n"
      ]
    },
    {
      "cell_type": "code",
      "metadata": {
        "colab": {
          "base_uri": "https://localhost:8080/"
        },
        "id": "gAjsCFzvS4SK",
        "outputId": "59b073f7-cdf5-42dc-85ee-89c8ee8bee05"
      },
      "source": [
        "sibling_2.next_sibling"
      ],
      "execution_count": 18,
      "outputs": [
        {
          "output_type": "execute_result",
          "data": {
            "text/plain": [
              "<p> Salary: $85,000, 000 </p>"
            ]
          },
          "metadata": {},
          "execution_count": 18
        }
      ]
    },
    {
      "cell_type": "markdown",
      "metadata": {
        "id": "0zOdasbXS4SK"
      },
      "source": [
        "<details><summary>Click here for the solution</summary>\n",
        "\n",
        "```\n",
        "sibling_2.next_sibling\n",
        "\n",
        "```\n",
        "\n",
        "</details>\n"
      ]
    },
    {
      "cell_type": "markdown",
      "metadata": {
        "id": "Dww4nS21S4SL"
      },
      "source": [
        "### HTML Attributes\n"
      ]
    },
    {
      "cell_type": "markdown",
      "metadata": {
        "id": "2WxqvWoGS4SL"
      },
      "source": [
        "If the tag has attributes, the tag <code>id=\"boldest\"</code> has an attribute <code>id</code> whose value is <code>boldest</code>. You can access a tag’s attributes by treating the tag like a dictionary:\n"
      ]
    },
    {
      "cell_type": "code",
      "metadata": {
        "colab": {
          "base_uri": "https://localhost:8080/",
          "height": 38
        },
        "id": "7aWQVs3BS4SL",
        "outputId": "52bc443b-1fc4-4bbe-f493-46e63c72596d"
      },
      "source": [
        "tag_child['id']"
      ],
      "execution_count": 19,
      "outputs": [
        {
          "output_type": "execute_result",
          "data": {
            "application/vnd.google.colaboratory.intrinsic+json": {
              "type": "string"
            },
            "text/plain": [
              "'boldest'"
            ]
          },
          "metadata": {},
          "execution_count": 19
        }
      ]
    },
    {
      "cell_type": "markdown",
      "metadata": {
        "id": "hIsLT8MDS4SL"
      },
      "source": [
        "You can access that dictionary directly as <code>attrs</code>:\n"
      ]
    },
    {
      "cell_type": "code",
      "metadata": {
        "colab": {
          "base_uri": "https://localhost:8080/"
        },
        "id": "9vNclwilS4SL",
        "outputId": "a6d7dc15-e6f7-47e7-c8f5-f64f7962c606"
      },
      "source": [
        "tag_child.attrs"
      ],
      "execution_count": 20,
      "outputs": [
        {
          "output_type": "execute_result",
          "data": {
            "text/plain": [
              "{'id': 'boldest'}"
            ]
          },
          "metadata": {},
          "execution_count": 20
        }
      ]
    },
    {
      "cell_type": "markdown",
      "metadata": {
        "id": "jjEQthLpS4SM"
      },
      "source": [
        "You can also work with Multi-valued attribute check out <a href=\"https://www.crummy.com/software/BeautifulSoup/bs4/doc/?utm_medium=Exinfluencer&utm_source=Exinfluencer&utm_content=000026UJ&utm_term=10006555&utm_id=NA-SkillsNetwork-Channel-SkillsNetworkCoursesIBMDeveloperSkillsNetworkPY0220ENSkillsNetwork23455606-2021-01-01\">\\[1]</a> for more.\n"
      ]
    },
    {
      "cell_type": "markdown",
      "metadata": {
        "id": "3B24nmfKS4SM"
      },
      "source": [
        "We can also obtain the content if the attribute of the <code>tag</code> using the Python <code>get()</code> method.\n"
      ]
    },
    {
      "cell_type": "code",
      "metadata": {
        "colab": {
          "base_uri": "https://localhost:8080/",
          "height": 38
        },
        "id": "8NcaHyvPS4SM",
        "outputId": "ad248381-3f41-45e7-cad1-68f6a9c5fc58"
      },
      "source": [
        "tag_child.get('id')"
      ],
      "execution_count": 21,
      "outputs": [
        {
          "output_type": "execute_result",
          "data": {
            "application/vnd.google.colaboratory.intrinsic+json": {
              "type": "string"
            },
            "text/plain": [
              "'boldest'"
            ]
          },
          "metadata": {},
          "execution_count": 21
        }
      ]
    },
    {
      "cell_type": "markdown",
      "metadata": {
        "id": "JZANmW-8S4SM"
      },
      "source": [
        "### Navigable String\n"
      ]
    },
    {
      "cell_type": "markdown",
      "metadata": {
        "id": "czHr5YUES4SM"
      },
      "source": [
        "A string corresponds to a bit of text or content within a tag. Beautiful Soup uses the <code>NavigableString</code> class to contain this text. In our HTML we can obtain the name of the first player by extracting the sting of the <code>Tag</code> object <code>tag_child</code> as follows:\n"
      ]
    },
    {
      "cell_type": "code",
      "metadata": {
        "colab": {
          "base_uri": "https://localhost:8080/",
          "height": 38
        },
        "id": "FteVxHMMS4SM",
        "outputId": "8764d71e-e3eb-45eb-ab94-214f03e4b3e5"
      },
      "source": [
        "tag_string=tag_child.string\n",
        "tag_string"
      ],
      "execution_count": 22,
      "outputs": [
        {
          "output_type": "execute_result",
          "data": {
            "application/vnd.google.colaboratory.intrinsic+json": {
              "type": "string"
            },
            "text/plain": [
              "'Lebron James'"
            ]
          },
          "metadata": {},
          "execution_count": 22
        }
      ]
    },
    {
      "cell_type": "markdown",
      "metadata": {
        "id": "RBEMGOkKS4SN"
      },
      "source": [
        "we can verify the type is Navigable String\n"
      ]
    },
    {
      "cell_type": "code",
      "metadata": {
        "colab": {
          "base_uri": "https://localhost:8080/"
        },
        "id": "YOMsh8jyS4SN",
        "outputId": "9fb5818d-5d42-4621-e2e2-f43899f437fa"
      },
      "source": [
        "type(tag_string)"
      ],
      "execution_count": 23,
      "outputs": [
        {
          "output_type": "execute_result",
          "data": {
            "text/plain": [
              "bs4.element.NavigableString"
            ]
          },
          "metadata": {},
          "execution_count": 23
        }
      ]
    },
    {
      "cell_type": "markdown",
      "metadata": {
        "id": "JpI4AHCKS4SN"
      },
      "source": [
        "A NavigableString is just like a Python string or Unicode string, to be more precise. The main difference is that it also supports some  <code>BeautifulSoup</code> features. We can covert it to sting object in Python:\n"
      ]
    },
    {
      "cell_type": "code",
      "metadata": {
        "colab": {
          "base_uri": "https://localhost:8080/",
          "height": 38
        },
        "id": "MnZD44VES4SN",
        "outputId": "538c4ad2-7709-4e9c-99fa-57fa1f108347"
      },
      "source": [
        "unicode_string = str(tag_string)\n",
        "unicode_string"
      ],
      "execution_count": 24,
      "outputs": [
        {
          "output_type": "execute_result",
          "data": {
            "application/vnd.google.colaboratory.intrinsic+json": {
              "type": "string"
            },
            "text/plain": [
              "'Lebron James'"
            ]
          },
          "metadata": {},
          "execution_count": 24
        }
      ]
    },
    {
      "cell_type": "markdown",
      "metadata": {
        "id": "4LONWTMbS4SN"
      },
      "source": [
        "<h2 id=\"filter\">Filter</h2>\n"
      ]
    },
    {
      "cell_type": "markdown",
      "metadata": {
        "id": "I6pxqq5iS4SO"
      },
      "source": [
        "Filters allow you to find complex patterns, the simplest filter is a string. In this section we will pass a string to a different filter method and Beautiful Soup will perform a match against that exact string.  Consider the following HTML of rocket launchs:\n"
      ]
    },
    {
      "cell_type": "code",
      "metadata": {
        "colab": {
          "base_uri": "https://localhost:8080/",
          "height": 102
        },
        "id": "OzI3XvMGS4SO",
        "outputId": "fa252667-2cc7-415f-ea66-5b030f6376e7"
      },
      "source": [
        "%%html\n",
        "<table>\n",
        "  <tr>\n",
        "    <td id='flight' >Flight No</td>\n",
        "    <td>Launch site</td> \n",
        "    <td>Payload mass</td>\n",
        "   </tr>\n",
        "  <tr> \n",
        "    <td>1</td>\n",
        "    <td><a href='https://en.wikipedia.org/wiki/Florida'>Florida</a></td>\n",
        "    <td>300 kg</td>\n",
        "  </tr>\n",
        "  <tr>\n",
        "    <td>2</td>\n",
        "    <td><a href='https://en.wikipedia.org/wiki/Texas'>Texas</a></td>\n",
        "    <td>94 kg</td>\n",
        "  </tr>\n",
        "  <tr>\n",
        "    <td>3</td>\n",
        "    <td><a href='https://en.wikipedia.org/wiki/Florida'>Florida<a> </td>\n",
        "    <td>80 kg</td>\n",
        "  </tr>\n",
        "</table>"
      ],
      "execution_count": 25,
      "outputs": [
        {
          "output_type": "display_data",
          "data": {
            "text/html": [
              "<table>\n",
              "  <tr>\n",
              "    <td id='flight' >Flight No</td>\n",
              "    <td>Launch site</td> \n",
              "    <td>Payload mass</td>\n",
              "   </tr>\n",
              "  <tr> \n",
              "    <td>1</td>\n",
              "    <td><a href='https://en.wikipedia.org/wiki/Florida'>Florida</a></td>\n",
              "    <td>300 kg</td>\n",
              "  </tr>\n",
              "  <tr>\n",
              "    <td>2</td>\n",
              "    <td><a href='https://en.wikipedia.org/wiki/Texas'>Texas</a></td>\n",
              "    <td>94 kg</td>\n",
              "  </tr>\n",
              "  <tr>\n",
              "    <td>3</td>\n",
              "    <td><a href='https://en.wikipedia.org/wiki/Florida'>Florida<a> </td>\n",
              "    <td>80 kg</td>\n",
              "  </tr>\n",
              "</table>"
            ],
            "text/plain": [
              "<IPython.core.display.HTML object>"
            ]
          },
          "metadata": {}
        }
      ]
    },
    {
      "cell_type": "markdown",
      "metadata": {
        "id": "d_X6GWjGS4SO"
      },
      "source": [
        "We can store it as a string in the variable <code>table</code>:\n"
      ]
    },
    {
      "cell_type": "code",
      "metadata": {
        "id": "5zrD_sIvS4SO"
      },
      "source": [
        "table=\"<table><tr><td id='flight'>Flight No</td><td>Launch site</td> <td>Payload mass</td></tr><tr> <td>1</td><td><a href='https://en.wikipedia.org/wiki/Florida'>Florida<a></td><td>300 kg</td></tr><tr><td>2</td><td><a href='https://en.wikipedia.org/wiki/Texas'>Texas</a></td><td>94 kg</td></tr><tr><td>3</td><td><a href='https://en.wikipedia.org/wiki/Florida'>Florida<a> </td><td>80 kg</td></tr></table>\""
      ],
      "execution_count": 26,
      "outputs": []
    },
    {
      "cell_type": "code",
      "metadata": {
        "id": "1dwmqR7kS4SO"
      },
      "source": [
        "table_bs = BeautifulSoup(table, \"html.parser\")"
      ],
      "execution_count": 27,
      "outputs": []
    },
    {
      "cell_type": "markdown",
      "metadata": {
        "id": "i72INjfXS4SP"
      },
      "source": [
        "## find All\n"
      ]
    },
    {
      "cell_type": "markdown",
      "metadata": {
        "id": "Q-XP5HF1S4SP"
      },
      "source": [
        "The <code>find_all()</code> method looks through a tag’s descendants and retrieves all descendants that match your filters.\n",
        "\n",
        "<p>\n",
        "The Method signature for <code>find_all(name, attrs, recursive, string, limit, **kwargs)<c/ode>\n",
        "</p>\n"
      ]
    },
    {
      "cell_type": "markdown",
      "metadata": {
        "id": "hI1nhh1NS4SP"
      },
      "source": [
        "### Name\n"
      ]
    },
    {
      "cell_type": "markdown",
      "metadata": {
        "id": "PUpNnCOBS4SP"
      },
      "source": [
        "When we set the <code>name</code> parameter to a tag name, the method will extract all the tags with that name and its children.\n"
      ]
    },
    {
      "cell_type": "code",
      "metadata": {
        "colab": {
          "base_uri": "https://localhost:8080/"
        },
        "id": "vPtlNoDnS4SP",
        "outputId": "71bce680-33fc-41c0-bd82-aacf25cd2a8f"
      },
      "source": [
        "table_rows=table_bs.find_all('tr')\n",
        "table_rows"
      ],
      "execution_count": 28,
      "outputs": [
        {
          "output_type": "execute_result",
          "data": {
            "text/plain": [
              "[<tr><td id=\"flight\">Flight No</td><td>Launch site</td> <td>Payload mass</td></tr>,\n",
              " <tr> <td>1</td><td><a href=\"https://en.wikipedia.org/wiki/Florida\">Florida<a></a></a></td><td>300 kg</td></tr>,\n",
              " <tr><td>2</td><td><a href=\"https://en.wikipedia.org/wiki/Texas\">Texas</a></td><td>94 kg</td></tr>,\n",
              " <tr><td>3</td><td><a href=\"https://en.wikipedia.org/wiki/Florida\">Florida<a> </a></a></td><td>80 kg</td></tr>]"
            ]
          },
          "metadata": {},
          "execution_count": 28
        }
      ]
    },
    {
      "cell_type": "markdown",
      "metadata": {
        "id": "Sg9dU7Z0S4SQ"
      },
      "source": [
        "The result is a Python Iterable just like a list, each element is a <code>tag</code> object:\n"
      ]
    },
    {
      "cell_type": "code",
      "metadata": {
        "colab": {
          "base_uri": "https://localhost:8080/"
        },
        "id": "9joCgPY-S4SQ",
        "outputId": "97dcf10c-189a-4e27-a83d-be44adfc739a"
      },
      "source": [
        "first_row =table_rows[0]\n",
        "first_row"
      ],
      "execution_count": 29,
      "outputs": [
        {
          "output_type": "execute_result",
          "data": {
            "text/plain": [
              "<tr><td id=\"flight\">Flight No</td><td>Launch site</td> <td>Payload mass</td></tr>"
            ]
          },
          "metadata": {},
          "execution_count": 29
        }
      ]
    },
    {
      "cell_type": "markdown",
      "metadata": {
        "id": "N_NfFdFVS4SQ"
      },
      "source": [
        "The type is <code>tag</code>\n"
      ]
    },
    {
      "cell_type": "code",
      "metadata": {
        "colab": {
          "base_uri": "https://localhost:8080/"
        },
        "id": "nQehyQRJS4SQ",
        "outputId": "088b4ce8-c824-43ac-d842-ddf477ecc76e"
      },
      "source": [
        "print(type(first_row))"
      ],
      "execution_count": 30,
      "outputs": [
        {
          "output_type": "stream",
          "name": "stdout",
          "text": [
            "<class 'bs4.element.Tag'>\n"
          ]
        }
      ]
    },
    {
      "cell_type": "markdown",
      "metadata": {
        "id": "RAccWzEeS4SQ"
      },
      "source": [
        "we can obtain the child\n"
      ]
    },
    {
      "cell_type": "code",
      "metadata": {
        "colab": {
          "base_uri": "https://localhost:8080/"
        },
        "id": "Q4VGiN2xS4SQ",
        "outputId": "62a2033f-93a8-449e-f505-1ab0f9ea0352"
      },
      "source": [
        "first_row.td"
      ],
      "execution_count": 31,
      "outputs": [
        {
          "output_type": "execute_result",
          "data": {
            "text/plain": [
              "<td id=\"flight\">Flight No</td>"
            ]
          },
          "metadata": {},
          "execution_count": 31
        }
      ]
    },
    {
      "cell_type": "markdown",
      "metadata": {
        "id": "ehlzGAoNS4SR"
      },
      "source": [
        "If we iterate through the list, each element corresponds to a row in the table:\n"
      ]
    },
    {
      "cell_type": "code",
      "metadata": {
        "colab": {
          "base_uri": "https://localhost:8080/"
        },
        "id": "SY28qOCuS4SR",
        "outputId": "5fad340d-6eea-4638-a624-97d2365b7a2c"
      },
      "source": [
        "for i,row in enumerate(table_rows):\n",
        "    print(\"row\",i,\"is\",row)\n",
        "    "
      ],
      "execution_count": 32,
      "outputs": [
        {
          "output_type": "stream",
          "name": "stdout",
          "text": [
            "row 0 is <tr><td id=\"flight\">Flight No</td><td>Launch site</td> <td>Payload mass</td></tr>\n",
            "row 1 is <tr> <td>1</td><td><a href=\"https://en.wikipedia.org/wiki/Florida\">Florida<a></a></a></td><td>300 kg</td></tr>\n",
            "row 2 is <tr><td>2</td><td><a href=\"https://en.wikipedia.org/wiki/Texas\">Texas</a></td><td>94 kg</td></tr>\n",
            "row 3 is <tr><td>3</td><td><a href=\"https://en.wikipedia.org/wiki/Florida\">Florida<a> </a></a></td><td>80 kg</td></tr>\n"
          ]
        }
      ]
    },
    {
      "cell_type": "markdown",
      "metadata": {
        "id": "mxVlTxs3S4SV"
      },
      "source": [
        "As <code>row</code> is a <code>cell</code> object, we can apply the method <code>find_all</code> to it and extract table cells in the object <code>cells</code> using the tag <code>td</code>, this is all the children with the name <code>td</code>. The result is a list, each element corresponds to a cell and is a <code>Tag</code> object, we can iterate through this list as well. We can extract the content using the <code>string</code>  attribute.\n"
      ]
    },
    {
      "cell_type": "code",
      "metadata": {
        "colab": {
          "base_uri": "https://localhost:8080/"
        },
        "id": "yEhXJzeVS4SW",
        "outputId": "f111e093-a1dc-4212-e609-025d0662ffff"
      },
      "source": [
        "for i,row in enumerate(table_rows):\n",
        "    print(\"row\",i)\n",
        "    cells=row.find_all('td')\n",
        "    for j,cell in enumerate(cells):\n",
        "        print('colunm',j,\"cell\",cell)"
      ],
      "execution_count": 33,
      "outputs": [
        {
          "output_type": "stream",
          "name": "stdout",
          "text": [
            "row 0\n",
            "colunm 0 cell <td id=\"flight\">Flight No</td>\n",
            "colunm 1 cell <td>Launch site</td>\n",
            "colunm 2 cell <td>Payload mass</td>\n",
            "row 1\n",
            "colunm 0 cell <td>1</td>\n",
            "colunm 1 cell <td><a href=\"https://en.wikipedia.org/wiki/Florida\">Florida<a></a></a></td>\n",
            "colunm 2 cell <td>300 kg</td>\n",
            "row 2\n",
            "colunm 0 cell <td>2</td>\n",
            "colunm 1 cell <td><a href=\"https://en.wikipedia.org/wiki/Texas\">Texas</a></td>\n",
            "colunm 2 cell <td>94 kg</td>\n",
            "row 3\n",
            "colunm 0 cell <td>3</td>\n",
            "colunm 1 cell <td><a href=\"https://en.wikipedia.org/wiki/Florida\">Florida<a> </a></a></td>\n",
            "colunm 2 cell <td>80 kg</td>\n"
          ]
        }
      ]
    },
    {
      "cell_type": "markdown",
      "metadata": {
        "id": "9vpPaCHzS4SW"
      },
      "source": [
        "If we use a list we can match against any item in that list.\n"
      ]
    },
    {
      "cell_type": "code",
      "metadata": {
        "colab": {
          "base_uri": "https://localhost:8080/"
        },
        "id": "QlRjYOThS4SW",
        "outputId": "647b5eb5-08db-48ec-a1c2-5a73f2486ffa"
      },
      "source": [
        "list_input=table_bs .find_all(name=[\"tr\", \"td\"])\n",
        "list_input"
      ],
      "execution_count": 34,
      "outputs": [
        {
          "output_type": "execute_result",
          "data": {
            "text/plain": [
              "[<tr><td id=\"flight\">Flight No</td><td>Launch site</td> <td>Payload mass</td></tr>,\n",
              " <td id=\"flight\">Flight No</td>,\n",
              " <td>Launch site</td>,\n",
              " <td>Payload mass</td>,\n",
              " <tr> <td>1</td><td><a href=\"https://en.wikipedia.org/wiki/Florida\">Florida<a></a></a></td><td>300 kg</td></tr>,\n",
              " <td>1</td>,\n",
              " <td><a href=\"https://en.wikipedia.org/wiki/Florida\">Florida<a></a></a></td>,\n",
              " <td>300 kg</td>,\n",
              " <tr><td>2</td><td><a href=\"https://en.wikipedia.org/wiki/Texas\">Texas</a></td><td>94 kg</td></tr>,\n",
              " <td>2</td>,\n",
              " <td><a href=\"https://en.wikipedia.org/wiki/Texas\">Texas</a></td>,\n",
              " <td>94 kg</td>,\n",
              " <tr><td>3</td><td><a href=\"https://en.wikipedia.org/wiki/Florida\">Florida<a> </a></a></td><td>80 kg</td></tr>,\n",
              " <td>3</td>,\n",
              " <td><a href=\"https://en.wikipedia.org/wiki/Florida\">Florida<a> </a></a></td>,\n",
              " <td>80 kg</td>]"
            ]
          },
          "metadata": {},
          "execution_count": 34
        }
      ]
    },
    {
      "cell_type": "markdown",
      "metadata": {
        "id": "x-dk4TjLS4SW"
      },
      "source": [
        "## Attributes\n"
      ]
    },
    {
      "cell_type": "markdown",
      "metadata": {
        "id": "EWEaAKYOS4SX"
      },
      "source": [
        "If the argument is not recognized it will be turned into a filter on the tag’s attributes. For example the <code>id</code>  argument, Beautiful Soup will filter against each tag’s <code>id</code> attribute. For example, the first <code>td</code> elements have a value of <code>id</code> of <code>flight</code>, therefore we can filter based on that <code>id</code> value.\n"
      ]
    },
    {
      "cell_type": "code",
      "metadata": {
        "colab": {
          "base_uri": "https://localhost:8080/"
        },
        "id": "OrMPUWHxS4SX",
        "outputId": "4509467f-7aaf-403f-e179-a6b4cf3dc321"
      },
      "source": [
        "table_bs.find_all(id=\"flight\")"
      ],
      "execution_count": 35,
      "outputs": [
        {
          "output_type": "execute_result",
          "data": {
            "text/plain": [
              "[<td id=\"flight\">Flight No</td>]"
            ]
          },
          "metadata": {},
          "execution_count": 35
        }
      ]
    },
    {
      "cell_type": "markdown",
      "metadata": {
        "id": "kzxFXahTS4SX"
      },
      "source": [
        "We can find all the elements that have links to the Florida Wikipedia page:\n"
      ]
    },
    {
      "cell_type": "code",
      "metadata": {
        "colab": {
          "base_uri": "https://localhost:8080/"
        },
        "id": "m2fqM0VjS4SX",
        "outputId": "e7e2bd4f-a3a0-4dc2-f1ff-b2a3cdca2eb2"
      },
      "source": [
        "list_input=table_bs.find_all(href=\"https://en.wikipedia.org/wiki/Florida\")\n",
        "list_input"
      ],
      "execution_count": 36,
      "outputs": [
        {
          "output_type": "execute_result",
          "data": {
            "text/plain": [
              "[<a href=\"https://en.wikipedia.org/wiki/Florida\">Florida<a></a></a>,\n",
              " <a href=\"https://en.wikipedia.org/wiki/Florida\">Florida<a> </a></a>]"
            ]
          },
          "metadata": {},
          "execution_count": 36
        }
      ]
    },
    {
      "cell_type": "markdown",
      "metadata": {
        "id": "gRT6hz3MS4SX"
      },
      "source": [
        "If we set the  <code>href</code> attribute to True, regardless of what the value is, the code finds all tags with <code>href</code> value:\n"
      ]
    },
    {
      "cell_type": "code",
      "metadata": {
        "colab": {
          "base_uri": "https://localhost:8080/"
        },
        "id": "wEAXDBIoS4SY",
        "outputId": "e291b7af-3399-4e22-ccf4-08756c554270"
      },
      "source": [
        "table_bs.find_all(href=True)"
      ],
      "execution_count": 37,
      "outputs": [
        {
          "output_type": "execute_result",
          "data": {
            "text/plain": [
              "[<a href=\"https://en.wikipedia.org/wiki/Florida\">Florida<a></a></a>,\n",
              " <a href=\"https://en.wikipedia.org/wiki/Texas\">Texas</a>,\n",
              " <a href=\"https://en.wikipedia.org/wiki/Florida\">Florida<a> </a></a>]"
            ]
          },
          "metadata": {},
          "execution_count": 37
        }
      ]
    },
    {
      "cell_type": "markdown",
      "metadata": {
        "id": "y7DHG_wlS4SY"
      },
      "source": [
        "There are other methods for dealing with attributes and other related methods; Check out the following <a href='https://www.crummy.com/software/BeautifulSoup/bs4/doc/?utm_medium=Exinfluencer&utm_source=Exinfluencer&utm_content=000026UJ&utm_term=10006555&utm_id=NA-SkillsNetwork-Channel-SkillsNetworkCoursesIBMDeveloperSkillsNetworkPY0220ENSkillsNetwork23455606-2021-01-01#css-selectors'>link</a>\n"
      ]
    },
    {
      "cell_type": "markdown",
      "metadata": {
        "id": "s3WsrH6TS4SY"
      },
      "source": [
        "<h3 id=\"exer_type\">Exercise: <code>find_all</code></h3>\n"
      ]
    },
    {
      "cell_type": "markdown",
      "metadata": {
        "id": "zJlSEzznS4SY"
      },
      "source": [
        "Using the logic above, find all the elements without <code>href</code> value\n"
      ]
    },
    {
      "cell_type": "code",
      "metadata": {
        "colab": {
          "base_uri": "https://localhost:8080/"
        },
        "id": "pH9tCU-PS4SY",
        "outputId": "02b67987-9daa-4bc3-e228-f525908f23d5"
      },
      "source": [
        "table_bs.find_all(href = False)"
      ],
      "execution_count": 39,
      "outputs": [
        {
          "output_type": "execute_result",
          "data": {
            "text/plain": [
              "[<table><tr><td id=\"flight\">Flight No</td><td>Launch site</td> <td>Payload mass</td></tr><tr> <td>1</td><td><a href=\"https://en.wikipedia.org/wiki/Florida\">Florida<a></a></a></td><td>300 kg</td></tr><tr><td>2</td><td><a href=\"https://en.wikipedia.org/wiki/Texas\">Texas</a></td><td>94 kg</td></tr><tr><td>3</td><td><a href=\"https://en.wikipedia.org/wiki/Florida\">Florida<a> </a></a></td><td>80 kg</td></tr></table>,\n",
              " <tr><td id=\"flight\">Flight No</td><td>Launch site</td> <td>Payload mass</td></tr>,\n",
              " <td id=\"flight\">Flight No</td>,\n",
              " <td>Launch site</td>,\n",
              " <td>Payload mass</td>,\n",
              " <tr> <td>1</td><td><a href=\"https://en.wikipedia.org/wiki/Florida\">Florida<a></a></a></td><td>300 kg</td></tr>,\n",
              " <td>1</td>,\n",
              " <td><a href=\"https://en.wikipedia.org/wiki/Florida\">Florida<a></a></a></td>,\n",
              " <a></a>,\n",
              " <td>300 kg</td>,\n",
              " <tr><td>2</td><td><a href=\"https://en.wikipedia.org/wiki/Texas\">Texas</a></td><td>94 kg</td></tr>,\n",
              " <td>2</td>,\n",
              " <td><a href=\"https://en.wikipedia.org/wiki/Texas\">Texas</a></td>,\n",
              " <td>94 kg</td>,\n",
              " <tr><td>3</td><td><a href=\"https://en.wikipedia.org/wiki/Florida\">Florida<a> </a></a></td><td>80 kg</td></tr>,\n",
              " <td>3</td>,\n",
              " <td><a href=\"https://en.wikipedia.org/wiki/Florida\">Florida<a> </a></a></td>,\n",
              " <a> </a>,\n",
              " <td>80 kg</td>]"
            ]
          },
          "metadata": {},
          "execution_count": 39
        }
      ]
    },
    {
      "cell_type": "markdown",
      "metadata": {
        "id": "xIwLgt_QS4SY"
      },
      "source": [
        "<details><summary>Click here for the solution</summary>\n",
        "\n",
        "```\n",
        "table_bs.find_all(href=False)\n",
        "\n",
        "```\n",
        "\n",
        "</details>\n"
      ]
    },
    {
      "cell_type": "markdown",
      "metadata": {
        "id": "bEQzNFmbS4SZ"
      },
      "source": [
        "Using the soup object <code>soup</code>, find the element with the <code>id</code> attribute content set to <code>\"boldest\"</code>.\n"
      ]
    },
    {
      "cell_type": "code",
      "metadata": {
        "colab": {
          "base_uri": "https://localhost:8080/"
        },
        "id": "bFX9-5VhS4SZ",
        "outputId": "d9f5e6ce-7568-4511-ab4c-3b7cbe96e809"
      },
      "source": [
        "soup.find_all(id = 'boldest')"
      ],
      "execution_count": 42,
      "outputs": [
        {
          "output_type": "execute_result",
          "data": {
            "text/plain": [
              "[<b id=\"boldest\">Lebron James</b>]"
            ]
          },
          "metadata": {},
          "execution_count": 42
        }
      ]
    },
    {
      "cell_type": "markdown",
      "metadata": {
        "id": "_VWTfBBRS4SZ"
      },
      "source": [
        "<details><summary>Click here for the solution</summary>\n",
        "\n",
        "```\n",
        "soup.find_all(id=\"boldest\")\n",
        "\n",
        "```\n",
        "\n",
        "</details>\n"
      ]
    },
    {
      "cell_type": "markdown",
      "metadata": {
        "id": "0D-InnSpS4SZ"
      },
      "source": [
        "### string\n"
      ]
    },
    {
      "cell_type": "markdown",
      "metadata": {
        "id": "NpyqLq75S4SZ"
      },
      "source": [
        "With string you can search for strings instead of tags, where we find all the elments with Florida:\n"
      ]
    },
    {
      "cell_type": "code",
      "metadata": {
        "colab": {
          "base_uri": "https://localhost:8080/"
        },
        "id": "IC0HpckmS4SZ",
        "outputId": "4271b491-6663-4fb2-884c-725433841db2"
      },
      "source": [
        "table_bs.find_all(string=\"Florida\")"
      ],
      "execution_count": 43,
      "outputs": [
        {
          "output_type": "execute_result",
          "data": {
            "text/plain": [
              "['Florida', 'Florida']"
            ]
          },
          "metadata": {},
          "execution_count": 43
        }
      ]
    },
    {
      "cell_type": "markdown",
      "metadata": {
        "id": "7Sj2r_VOS4Sa"
      },
      "source": [
        "## find\n"
      ]
    },
    {
      "cell_type": "markdown",
      "metadata": {
        "id": "2oYsmayBS4Sa"
      },
      "source": [
        "The <code>find_all()</code> method scans the entire document looking for results, it’s if you are looking for one element you can use the <code>find()</code> method to find the first element in the document. Consider the following two table:\n"
      ]
    },
    {
      "cell_type": "code",
      "metadata": {
        "colab": {
          "base_uri": "https://localhost:8080/",
          "height": 271
        },
        "id": "dApQ7cUFS4Sa",
        "outputId": "221ffd33-29ce-4998-fa82-d9a73dd7a5f8"
      },
      "source": [
        "%%html\n",
        "<h3>Rocket Launch </h3>\n",
        "\n",
        "<p>\n",
        "<table class='rocket'>\n",
        "  <tr>\n",
        "    <td>Flight No</td>\n",
        "    <td>Launch site</td> \n",
        "    <td>Payload mass</td>\n",
        "  </tr>\n",
        "  <tr>\n",
        "    <td>1</td>\n",
        "    <td>Florida</td>\n",
        "    <td>300 kg</td>\n",
        "  </tr>\n",
        "  <tr>\n",
        "    <td>2</td>\n",
        "    <td>Texas</td>\n",
        "    <td>94 kg</td>\n",
        "  </tr>\n",
        "  <tr>\n",
        "    <td>3</td>\n",
        "    <td>Florida </td>\n",
        "    <td>80 kg</td>\n",
        "  </tr>\n",
        "</table>\n",
        "</p>\n",
        "<p>\n",
        "\n",
        "<h3>Pizza Party  </h3>\n",
        "  \n",
        "    \n",
        "<table class='pizza'>\n",
        "  <tr>\n",
        "    <td>Pizza Place</td>\n",
        "    <td>Orders</td> \n",
        "    <td>Slices </td>\n",
        "   </tr>\n",
        "  <tr>\n",
        "    <td>Domino's Pizza</td>\n",
        "    <td>10</td>\n",
        "    <td>100</td>\n",
        "  </tr>\n",
        "  <tr>\n",
        "    <td>Little Caesars</td>\n",
        "    <td>12</td>\n",
        "    <td >144 </td>\n",
        "  </tr>\n",
        "  <tr>\n",
        "    <td>Papa John's </td>\n",
        "    <td>15 </td>\n",
        "    <td>165</td>\n",
        "  </tr>\n"
      ],
      "execution_count": 44,
      "outputs": [
        {
          "output_type": "display_data",
          "data": {
            "text/html": [
              "<h3>Rocket Launch </h3>\n",
              "\n",
              "<p>\n",
              "<table class='rocket'>\n",
              "  <tr>\n",
              "    <td>Flight No</td>\n",
              "    <td>Launch site</td> \n",
              "    <td>Payload mass</td>\n",
              "  </tr>\n",
              "  <tr>\n",
              "    <td>1</td>\n",
              "    <td>Florida</td>\n",
              "    <td>300 kg</td>\n",
              "  </tr>\n",
              "  <tr>\n",
              "    <td>2</td>\n",
              "    <td>Texas</td>\n",
              "    <td>94 kg</td>\n",
              "  </tr>\n",
              "  <tr>\n",
              "    <td>3</td>\n",
              "    <td>Florida </td>\n",
              "    <td>80 kg</td>\n",
              "  </tr>\n",
              "</table>\n",
              "</p>\n",
              "<p>\n",
              "\n",
              "<h3>Pizza Party  </h3>\n",
              "  \n",
              "    \n",
              "<table class='pizza'>\n",
              "  <tr>\n",
              "    <td>Pizza Place</td>\n",
              "    <td>Orders</td> \n",
              "    <td>Slices </td>\n",
              "   </tr>\n",
              "  <tr>\n",
              "    <td>Domino's Pizza</td>\n",
              "    <td>10</td>\n",
              "    <td>100</td>\n",
              "  </tr>\n",
              "  <tr>\n",
              "    <td>Little Caesars</td>\n",
              "    <td>12</td>\n",
              "    <td >144 </td>\n",
              "  </tr>\n",
              "  <tr>\n",
              "    <td>Papa John's </td>\n",
              "    <td>15 </td>\n",
              "    <td>165</td>\n",
              "  </tr>"
            ],
            "text/plain": [
              "<IPython.core.display.HTML object>"
            ]
          },
          "metadata": {}
        }
      ]
    },
    {
      "cell_type": "markdown",
      "metadata": {
        "id": "L8fOFVmKS4Sb"
      },
      "source": [
        "We store the HTML as a Python string and assign <code>two_tables</code>:\n"
      ]
    },
    {
      "cell_type": "code",
      "metadata": {
        "id": "MHYaf-7xS4Sb"
      },
      "source": [
        "two_tables=\"<h3>Rocket Launch </h3><p><table class='rocket'><tr><td>Flight No</td><td>Launch site</td> <td>Payload mass</td></tr><tr><td>1</td><td>Florida</td><td>300 kg</td></tr><tr><td>2</td><td>Texas</td><td>94 kg</td></tr><tr><td>3</td><td>Florida </td><td>80 kg</td></tr></table></p><p><h3>Pizza Party  </h3><table class='pizza'><tr><td>Pizza Place</td><td>Orders</td> <td>Slices </td></tr><tr><td>Domino's Pizza</td><td>10</td><td>100</td></tr><tr><td>Little Caesars</td><td>12</td><td >144 </td></tr><tr><td>Papa John's </td><td>15 </td><td>165</td></tr>\""
      ],
      "execution_count": 45,
      "outputs": []
    },
    {
      "cell_type": "markdown",
      "metadata": {
        "id": "by34pgo5S4Sb"
      },
      "source": [
        "We create a <code>BeautifulSoup</code> object  <code>two_tables_bs</code>\n"
      ]
    },
    {
      "cell_type": "code",
      "metadata": {
        "id": "xWP9uzYaS4Sb"
      },
      "source": [
        "two_tables_bs= BeautifulSoup(two_tables, 'html.parser')"
      ],
      "execution_count": 46,
      "outputs": []
    },
    {
      "cell_type": "markdown",
      "metadata": {
        "id": "yU7ONNdGS4Sb"
      },
      "source": [
        "We can find the first table using the tag name table\n"
      ]
    },
    {
      "cell_type": "code",
      "metadata": {
        "colab": {
          "base_uri": "https://localhost:8080/"
        },
        "id": "lXILLjUtS4Sb",
        "outputId": "f975e771-3eff-44d4-a8d5-40438efc2590"
      },
      "source": [
        "two_tables_bs.find(\"table\")"
      ],
      "execution_count": 47,
      "outputs": [
        {
          "output_type": "execute_result",
          "data": {
            "text/plain": [
              "<table class=\"rocket\"><tr><td>Flight No</td><td>Launch site</td> <td>Payload mass</td></tr><tr><td>1</td><td>Florida</td><td>300 kg</td></tr><tr><td>2</td><td>Texas</td><td>94 kg</td></tr><tr><td>3</td><td>Florida </td><td>80 kg</td></tr></table>"
            ]
          },
          "metadata": {},
          "execution_count": 47
        }
      ]
    },
    {
      "cell_type": "markdown",
      "metadata": {
        "id": "ikoXn-UzS4Sc"
      },
      "source": [
        "We can filter on the class attribute to find the second table, but because class is a keyword in Python, we add an underscore.\n"
      ]
    },
    {
      "cell_type": "code",
      "metadata": {
        "colab": {
          "base_uri": "https://localhost:8080/"
        },
        "id": "CDR3KpKmS4Sc",
        "outputId": "59dbdfcd-7ba3-484e-8aa3-f009327963ec"
      },
      "source": [
        "two_tables_bs.find(\"table\",class_='pizza')"
      ],
      "execution_count": 48,
      "outputs": [
        {
          "output_type": "execute_result",
          "data": {
            "text/plain": [
              "<table class=\"pizza\"><tr><td>Pizza Place</td><td>Orders</td> <td>Slices </td></tr><tr><td>Domino's Pizza</td><td>10</td><td>100</td></tr><tr><td>Little Caesars</td><td>12</td><td>144 </td></tr><tr><td>Papa John's </td><td>15 </td><td>165</td></tr></table>"
            ]
          },
          "metadata": {},
          "execution_count": 48
        }
      ]
    },
    {
      "cell_type": "markdown",
      "metadata": {
        "id": "vklgPweSS4Sc"
      },
      "source": [
        "<h2 id=\"DSCW\">Downloading And Scraping The Contents Of A Web Page</h2> \n"
      ]
    },
    {
      "cell_type": "markdown",
      "metadata": {
        "id": "-C6QuRHpS4Sc"
      },
      "source": [
        "We Download the contents of the web page:\n"
      ]
    },
    {
      "cell_type": "code",
      "metadata": {
        "id": "Kdp-3oh3S4Sc"
      },
      "source": [
        "url = \"http://www.ibm.com\""
      ],
      "execution_count": 49,
      "outputs": []
    },
    {
      "cell_type": "markdown",
      "metadata": {
        "id": "Pdtqd2FvS4Sc"
      },
      "source": [
        "We use <code>get</code> to download the contents of the webpage in text format and store in a variable called <code>data</code>:\n"
      ]
    },
    {
      "cell_type": "code",
      "metadata": {
        "colab": {
          "base_uri": "https://localhost:8080/",
          "height": 130
        },
        "id": "LSPDKL8nS4Sd",
        "outputId": "7393f24b-6149-4565-9ea3-de3f8bd1dd7a"
      },
      "source": [
        "data  = requests.get(url).text \n",
        "data"
      ],
      "execution_count": 51,
      "outputs": [
        {
          "output_type": "execute_result",
          "data": {
            "application/vnd.google.colaboratory.intrinsic+json": {
              "type": "string"
            },
            "text/plain": [
              "'<!DOCTYPE html>\\n<html lang=\"en-nl\" dir=\"ltr\">\\n  <head>\\n    <meta charset=\"utf-8\" />\\n<script>digitalData = {\\n    \"page\": {\\n        \"category\": [],\\n        \"pageInfo\": {\\n            \"language\": \"en-NL\",\\n            \"country\": \"NL\",\\n            \"publisher\": \"IBM Corporation\",\\n            \"version\": \"v19\",\\n            \"ibm\": {\\n                \"contentDelivery\": \"Drupal 9\",\\n                \"contentProducer\": \"2598578 - Page Builder\",\\n                \"owner\": \"Peter Barros/White Plains/IBM\",\\n                \"siteID\": \"DRUPAL\",\\n                \"contactModuleConfiguration\": {\\n                    \"contactInformationBundleKey\": {\\n                        \"focusArea\": \"Miscellaneous - About IBM\",\\n                        \"languageCode\": \"en\",\\n                        \"regionCode\": \"NL\"\\n                    },\\n                    \"contactModuleTranslationKey\": {\\n                        \"languageCode\": \"en\",\\n                        \"regionCode\": \"NL\"\\n                    }\\n                },\\n                \"config\": {\\n                    \"masthead\": {\\n                        \"type\": \"default\"\\n                    },\\n                    \"footer\": {\\n                        \"type\": \"default\"\\n                    }\\n                }\\n            },\\n            \"publishDate\": \"2021-11-25\",\\n            \"effectiveDate\": \"2021-03-08\",\\n            \"expiryDate\": \"2025-11-25\"\\n        }\\n    }\\n}</script>\\n<meta name=\"geo.country\" content=\"NL\" />\\n<link rel=\"canonical\" href=\"https://www.ibm.com/nl-en\" />\\n<meta name=\"robots\" content=\"index, follow\" />\\n<meta name=\"referrer\" content=\"no-referrer-when-downgrade\" />\\n<meta name=\"rights\" content=\"© Copyright IBM Corporation 2021\" />\\n<meta name=\"description\" content=\"For more than a century IBM has been dedicated to every client&#039;s success and to creating innovations that matter for the world\" />\\n<meta property=\"og:type\" content=\"website\" />\\n<meta property=\"og:url\" content=\"https://www.ibm.com/nl-en\" />\\n<meta property=\"og:title\" content=\"IBM\" />\\n<meta property=\"og:description\" content=\"For more than a century IBM has been dedicated to every client&#039;s success and to creating innovations that matter for the world\" />\\n<meta property=\"og:image\" content=\"https://1.cms.s81c.com/sites/default/files/2021-02-17/20210215-ls-red-hat-cloud-2304x983.jpg\" />\\n<meta property=\"og:locale\" content=\"en-nl\" />\\n<meta name=\"twitter:card\" content=\"summary\" />\\n<script>cpp = {\"path\":\"\\\\/cloud\\\\/ajax\\\\/product\\\\/{product}\"}</script>\\n<meta name=\"viewport\" content=\"width=device-width, initial-scale=1.0\" />\\n<script data-title=\"Components design metadata\">/*\\nLeadspace: v19 - Module 5E - Leadspace (5E)\\n\\nBands/Sections:\\n1. v19 - Module 12A - Newsflash (12A)\\n2. v19 - Carousel Module 1B - Features (1B)\\n3. v19 - Carousel Module 1B - Trials (1B)\\n4. v19 - Carousel Module 2B - Products (2B)\\n5. v19 - Module 11A (Double) - Content Spotlight (11A)\\n\\n*/</script>\\n<link rel=\"alternate\" hreflang=\"en-af\" href=\"https://www.ibm.com/af-en\" />\\n<link rel=\"alternate\" hreflang=\"fr-dz\" href=\"https://www.ibm.com/dz-fr\" />\\n<link rel=\"alternate\" hreflang=\"pt-ao\" href=\"https://www.ibm.com/ao-pt\" />\\n<link rel=\"alternate\" hreflang=\"en-ai\" href=\"https://www.ibm.com/ai-en\" />\\n<link rel=\"alternate\" hreflang=\"en-ag\" href=\"https://www.ibm.com/ag-en\" />\\n<link rel=\"alternate\" hreflang=\"es-ar\" href=\"https://www.ibm.com/ar-es\" />\\n<link rel=\"alternate\" hreflang=\"en-aw\" href=\"https://www.ibm.com/aw-en\" />\\n<link rel=\"alternate\" hreflang=\"en-au\" href=\"https://www.ibm.com/au-en\" />\\n<link rel=\"alternate\" hreflang=\"de-at\" href=\"https://www.ibm.com/at-de\" />\\n<link rel=\"alternate\" hreflang=\"en-bs\" href=\"https://www.ibm.com/bs-en\" />\\n<link rel=\"alternate\" hreflang=\"en-bh\" href=\"https://www.ibm.com/bh-en\" />\\n<link rel=\"alternate\" hreflang=\"en-bd\" href=\"https://www.ibm.com/bd-en\" />\\n<link rel=\"alternate\" hreflang=\"en-bb\" href=\"https://www.ibm.com/bb-en\" />\\n<link rel=\"alternate\" hreflang=\"en-be\" href=\"https://www.ibm.com/be-en\" />\\n<link rel=\"alternate\" hreflang=\"en-bm\" href=\"https://www.ibm.com/bm-en\" />\\n<link rel=\"alternate\" hreflang=\"es-bo\" href=\"https://www.ibm.com/bo-es\" />\\n<link rel=\"alternate\" hreflang=\"en-bw\" href=\"https://www.ibm.com/bw-en\" />\\n<link rel=\"alternate\" hreflang=\"pt-br\" href=\"https://www.ibm.com/br-pt\" />\\n<link rel=\"alternate\" hreflang=\"en-vg\" href=\"https://www.ibm.com/vg-en\" />\\n<link rel=\"alternate\" hreflang=\"en-bn\" href=\"https://www.ibm.com/bn-en\" />\\n<link rel=\"alternate\" hreflang=\"en-bg\" href=\"https://www.ibm.com/bg-en\" />\\n<link rel=\"alternate\" hreflang=\"fr-bf\" href=\"https://www.ibm.com/bf-fr\" />\\n<link rel=\"alternate\" hreflang=\"en-kh\" href=\"https://www.ibm.com/kh-en\" />\\n<link rel=\"alternate\" hreflang=\"fr-cm\" href=\"https://www.ibm.com/cm-fr\" />\\n<link rel=\"alternate\" hreflang=\"en-ca\" href=\"https://www.ibm.com/ca-en\" />\\n<link rel=\"alternate\" hreflang=\"fr-ca\" href=\"https://www.ibm.com/ca-fr\" />\\n<link rel=\"alternate\" hreflang=\"en-ky\" href=\"https://www.ibm.com/ky-en\" />\\n<link rel=\"alternate\" hreflang=\"fr-td\" href=\"https://www.ibm.com/td-fr\" />\\n<link rel=\"alternate\" hreflang=\"es-cl\" href=\"https://www.ibm.com/cl-es\" />\\n<link rel=\"alternate\" hreflang=\"zh-cn\" href=\"https://www.ibm.com/cn-zh\" />\\n<link rel=\"alternate\" hreflang=\"es-co\" href=\"https://www.ibm.com/co-es\" />\\n<link rel=\"alternate\" hreflang=\"fr-cd\" href=\"https://www.ibm.com/cd-fr\" />\\n<link rel=\"alternate\" hreflang=\"fr-cg\" href=\"https://www.ibm.com/cg-fr\" />\\n<link rel=\"alternate\" hreflang=\"es-cr\" href=\"https://www.ibm.com/cr-es\" />\\n<link rel=\"alternate\" hreflang=\"en-hr\" href=\"https://www.ibm.com/hr-en\" />\\n<link rel=\"alternate\" hreflang=\"en-cw\" href=\"https://www.ibm.com/cw-en\" />\\n<link rel=\"alternate\" hreflang=\"en-cy\" href=\"https://www.ibm.com/cy-en\" />\\n<link rel=\"alternate\" hreflang=\"en-cz\" href=\"https://www.ibm.com/cz-en\" />\\n<link rel=\"alternate\" hreflang=\"en-dm\" href=\"https://www.ibm.com/dm-en\" />\\n<link rel=\"alternate\" hreflang=\"en-dk\" href=\"https://www.ibm.com/dk-en\" />\\n<link rel=\"alternate\" hreflang=\"es-ec\" href=\"https://www.ibm.com/ec-es\" />\\n<link rel=\"alternate\" hreflang=\"en-eg\" href=\"https://www.ibm.com/eg-en\" />\\n<link rel=\"alternate\" hreflang=\"en-ee\" href=\"https://www.ibm.com/ee-en\" />\\n<link rel=\"alternate\" hreflang=\"en-et\" href=\"https://www.ibm.com/et-en\" />\\n<link rel=\"alternate\" hreflang=\"en-fi\" href=\"https://www.ibm.com/fi-en\" />\\n<link rel=\"alternate\" hreflang=\"fr-fr\" href=\"https://www.ibm.com/fr-fr\" />\\n<link rel=\"alternate\" hreflang=\"fr-ga\" href=\"https://www.ibm.com/ga-fr\" />\\n<link rel=\"alternate\" hreflang=\"de-de\" href=\"https://www.ibm.com/de-de\" />\\n<link rel=\"alternate\" hreflang=\"en-gh\" href=\"https://www.ibm.com/gh-en\" />\\n<link rel=\"alternate\" hreflang=\"en-gr\" href=\"https://www.ibm.com/gr-en\" />\\n<link rel=\"alternate\" hreflang=\"en-gd\" href=\"https://www.ibm.com/gd-en\" />\\n<link rel=\"alternate\" hreflang=\"en-gy\" href=\"https://www.ibm.com/gy-en\" />\\n<link rel=\"alternate\" hreflang=\"en-hk\" href=\"https://www.ibm.com/hk-en\" />\\n<link rel=\"alternate\" hreflang=\"en-hu\" href=\"https://www.ibm.com/hu-en\" />\\n<link rel=\"alternate\" hreflang=\"en-in\" href=\"https://www.ibm.com/in-en\" />\\n<link rel=\"alternate\" hreflang=\"en-id\" href=\"https://www.ibm.com/id-en\" />\\n<link rel=\"alternate\" hreflang=\"en-iq\" href=\"https://www.ibm.com/iq-en\" />\\n<link rel=\"alternate\" hreflang=\"en-ie\" href=\"https://www.ibm.com/ie-en\" />\\n<link rel=\"alternate\" hreflang=\"en-il\" href=\"https://www.ibm.com/il-en\" />\\n<link rel=\"alternate\" hreflang=\"it-it\" href=\"https://www.ibm.com/it-it\" />\\n<link rel=\"alternate\" hreflang=\"fr-ci\" href=\"https://www.ibm.com/ci-fr\" />\\n<link rel=\"alternate\" hreflang=\"en-jm\" href=\"https://www.ibm.com/jm-en\" />\\n<link rel=\"alternate\" hreflang=\"ja-jp\" href=\"https://www.ibm.com/jp-ja\" />\\n<link rel=\"alternate\" hreflang=\"en-jo\" href=\"https://www.ibm.com/jo-en\" />\\n<link rel=\"alternate\" hreflang=\"en-kz\" href=\"https://www.ibm.com/kz-en\" />\\n<link rel=\"alternate\" hreflang=\"en-ke\" href=\"https://www.ibm.com/ke-en\" />\\n<link rel=\"alternate\" hreflang=\"ko-kr\" href=\"https://www.ibm.com/kr-ko\" />\\n<link rel=\"alternate\" hreflang=\"en-kw\" href=\"https://www.ibm.com/kw-en\" />\\n<link rel=\"alternate\" hreflang=\"en-lv\" href=\"https://www.ibm.com/lv-en\" />\\n<link rel=\"alternate\" hreflang=\"en-lb\" href=\"https://www.ibm.com/lb-en\" />\\n<link rel=\"alternate\" hreflang=\"en-ly\" href=\"https://www.ibm.com/ly-en\" />\\n<link rel=\"alternate\" hreflang=\"en-lt\" href=\"https://www.ibm.com/lt-en\" />\\n<link rel=\"alternate\" hreflang=\"fr-mg\" href=\"https://www.ibm.com/mg-fr\" />\\n<link rel=\"alternate\" hreflang=\"en-mw\" href=\"https://www.ibm.com/mw-en\" />\\n<link rel=\"alternate\" hreflang=\"en-my\" href=\"https://www.ibm.com/my-en\" />\\n<link rel=\"alternate\" hreflang=\"fr-mu\" href=\"https://www.ibm.com/mu-fr\" />\\n<link rel=\"alternate\" hreflang=\"es-mx\" href=\"https://www.ibm.com/mx-es\" />\\n<link rel=\"alternate\" hreflang=\"en-ms\" href=\"https://www.ibm.com/ms-en\" />\\n<link rel=\"alternate\" hreflang=\"fr-ma\" href=\"https://www.ibm.com/ma-fr\" />\\n<link rel=\"alternate\" hreflang=\"pt-mz\" href=\"https://www.ibm.com/mz-pt\" />\\n<link rel=\"alternate\" hreflang=\"en-na\" href=\"https://www.ibm.com/na-en\" />\\n<link rel=\"alternate\" hreflang=\"en-np\" href=\"https://www.ibm.com/np-en\" />\\n<link rel=\"alternate\" hreflang=\"en-nl\" href=\"https://www.ibm.com/nl-en\" />\\n<link rel=\"alternate\" hreflang=\"en-nz\" href=\"https://www.ibm.com/nz-en\" />\\n<link rel=\"alternate\" hreflang=\"fr-ne\" href=\"https://www.ibm.com/ne-fr\" />\\n<link rel=\"alternate\" hreflang=\"en-ng\" href=\"https://www.ibm.com/ng-en\" />\\n<link rel=\"alternate\" hreflang=\"en-no\" href=\"https://www.ibm.com/no-en\" />\\n<link rel=\"alternate\" hreflang=\"en-om\" href=\"https://www.ibm.com/om-en\" />\\n<link rel=\"alternate\" hreflang=\"en-pk\" href=\"https://www.ibm.com/pk-en\" />\\n<link rel=\"alternate\" hreflang=\"es-py\" href=\"https://www.ibm.com/py-es\" />\\n<link rel=\"alternate\" hreflang=\"es-pe\" href=\"https://www.ibm.com/pe-es\" />\\n<link rel=\"alternate\" hreflang=\"en-ph\" href=\"https://www.ibm.com/ph-en\" />\\n<link rel=\"alternate\" hreflang=\"pl-pl\" href=\"https://www.ibm.com/pl-pl\" />\\n<link rel=\"alternate\" hreflang=\"en-pt\" href=\"https://www.ibm.com/pt-en\" />\\n<link rel=\"alternate\" hreflang=\"en-qa\" href=\"https://www.ibm.com/qa-en\" />\\n<link rel=\"alternate\" hreflang=\"en-ro\" href=\"https://www.ibm.com/ro-en\" />\\n<link rel=\"alternate\" hreflang=\"ru-ru\" href=\"https://www.ibm.com/ru-ru\" />\\n<link rel=\"alternate\" hreflang=\"en-kn\" href=\"https://www.ibm.com/kn-en\" />\\n<link rel=\"alternate\" hreflang=\"en-lc\" href=\"https://www.ibm.com/lc-en\" />\\n<link rel=\"alternate\" hreflang=\"en-vc\" href=\"https://www.ibm.com/vc-en\" />\\n<link rel=\"alternate\" hreflang=\"ar-sa\" href=\"https://www.ibm.com/sa-ar\" />\\n<link rel=\"alternate\" hreflang=\"en-sa\" href=\"https://www.ibm.com/sa-en\" />\\n<link rel=\"alternate\" hreflang=\"fr-sn\" href=\"https://www.ibm.com/sn-fr\" />\\n<link rel=\"alternate\" hreflang=\"en-rs\" href=\"https://www.ibm.com/rs-en\" />\\n<link rel=\"alternate\" hreflang=\"fr-sc\" href=\"https://www.ibm.com/sc-fr\" />\\n<link rel=\"alternate\" hreflang=\"en-sl\" href=\"https://www.ibm.com/sl-en\" />\\n<link rel=\"alternate\" hreflang=\"en-sg\" href=\"https://www.ibm.com/sg-en\" />\\n<link rel=\"alternate\" hreflang=\"en-sk\" href=\"https://www.ibm.com/sk-en\" />\\n<link rel=\"alternate\" hreflang=\"en-si\" href=\"https://www.ibm.com/si-en\" />\\n<link rel=\"alternate\" hreflang=\"en-za\" href=\"https://www.ibm.com/za-en\" />\\n<link rel=\"alternate\" hreflang=\"es-es\" href=\"https://www.ibm.com/es-es\" />\\n<link rel=\"alternate\" hreflang=\"en-lk\" href=\"https://www.ibm.com/lk-en\" />\\n<link rel=\"alternate\" hreflang=\"en-sr\" href=\"https://www.ibm.com/sr-en\" />\\n<link rel=\"alternate\" hreflang=\"en-se\" href=\"https://www.ibm.com/se-en\" />\\n<link rel=\"alternate\" hreflang=\"fr-ch\" href=\"https://www.ibm.com/ch-fr\" />\\n<link rel=\"alternate\" hreflang=\"de-ch\" href=\"https://www.ibm.com/ch-de\" />\\n<link rel=\"alternate\" hreflang=\"zh-tw\" href=\"https://www.ibm.com/tw-zh\" />\\n<link rel=\"alternate\" hreflang=\"en-tz\" href=\"https://www.ibm.com/tz-en\" />\\n<link rel=\"alternate\" hreflang=\"en-th\" href=\"https://www.ibm.com/th-en\" />\\n<link rel=\"alternate\" hreflang=\"en-tt\" href=\"https://www.ibm.com/tt-en\" />\\n<link rel=\"alternate\" hreflang=\"fr-tn\" href=\"https://www.ibm.com/tn-fr\" />\\n<link rel=\"alternate\" hreflang=\"tr-tr\" href=\"https://www.ibm.com/tr-tr\" />\\n<link rel=\"alternate\" hreflang=\"en-ye\" href=\"https://www.ibm.com/ye-en\" />\\n<link rel=\"alternate\" hreflang=\"en-tc\" href=\"https://www.ibm.com/tc-en\" />\\n<link rel=\"alternate\" hreflang=\"en-ua\" href=\"https://www.ibm.com/ua-en\" />\\n<link rel=\"alternate\" hreflang=\"en-ug\" href=\"https://www.ibm.com/ug-en\" />\\n<link rel=\"alternate\" hreflang=\"ar-ae\" href=\"https://www.ibm.com/ae-ar\" />\\n<link rel=\"alternate\" hreflang=\"en-ae\" href=\"https://www.ibm.com/ae-en\" />\\n<link rel=\"alternate\" hreflang=\"en-gb\" href=\"https://www.ibm.com/uk-en\" />\\n<link rel=\"alternate\" hreflang=\"es-uy\" href=\"https://www.ibm.com/uy-es\" />\\n<link rel=\"alternate\" hreflang=\"en-uz\" href=\"https://www.ibm.com/uz-en\" />\\n<link rel=\"alternate\" hreflang=\"es-ve\" href=\"https://www.ibm.com/ve-es\" />\\n<link rel=\"alternate\" hreflang=\"en-vn\" href=\"https://www.ibm.com/vn-en\" />\\n<link rel=\"alternate\" hreflang=\"en-zm\" href=\"https://www.ibm.com/zm-en\" />\\n<link rel=\"alternate\" hreflang=\"en-zw\" href=\"https://www.ibm.com/zw-en\" />\\n<link rel=\"revision\" href=\"https://www.ibm.com/nl-en\" />\\n\\n    <title>IBM - Netherlands | IBM</title>\\n    <link rel=\\'dns-prefetch\\' href=\\'//1.www.s81c.com\\' />\\n<link rel=\\'preconnect\\' href=\\'//1.www.s81c.com\\' />\\n    <link href=\"//1.www.s81c.com/common/v18/drupal/css/www.css\" rel=\"preload\" as=\"style\"  />\\n    <link rel=\"stylesheet\" href=\"//1.www.s81c.com/common/v18/drupal/css/www.css\" media=\"all\" />\\n<link href=\"//1.www.s81c.com/common/v18/drupal/css/grid-fluid.css\" rel=\"preload\" as=\"style\"  />\\n<link rel=\"stylesheet\" href=\"//1.www.s81c.com/common/v18/drupal/css/grid-fluid.css\" media=\"all\" />\\n<link href=\"//1.www.s81c.com/common/v18/drupal/css/tables.css\" rel=\"preload\" as=\"style\"  />\\n<link rel=\"stylesheet\" href=\"//1.www.s81c.com/common/v18/drupal/css/tables.css\" media=\"all\" />\\n<link rel=\"preload\" href=\"//1.www.s81c.com/common/fonts/plex/v1/ibmplexsans-regular.woff2\" as=\"font\" type=\"font/woff2\" crossorigin>\\n<link rel=\"preload\" href=\"//1.www.s81c.com/common/fonts/plex/v1/ibmplexsans-regularitalic.woff2\" as=\"font\" type=\"font/woff2\" crossorigin>\\n<link rel=\"preload\" href=\"//1.www.s81c.com/common/fonts/plex/v1/ibmplexsans-semibold.woff2\" as=\"font\" type=\"font/woff2\" crossorigin>\\n<link rel=\"preload\" href=\"//1.www.s81c.com/common/fonts/icons-ibm-v12.woff\" as=\"font\" type=\"font/woff\" crossorigin>\\n<link rel=\"preload\" href=\"//1.www.s81c.com/common/fonts/plex/v1/ibmplexsans-light.woff2\" as=\"font\" type=\"font/woff2\" crossorigin>\\n    <link rel=\"stylesheet\" media=\"all\" href=\"//1.www.s81c.com/common/v19a/css/www.css\" />\\n<link rel=\"stylesheet\" media=\"all\" href=\"//1.cms.s81c.com/sites/default/files/css/css_cHaADSu5GWf8HsCSOolltYAFYQVVllF4UVEOUC5CWcM.css\" />\\n<link rel=\"stylesheet\" media=\"all\" href=\"//1.cms.s81c.com/sites/default/files/css/css_85KPJRKrhmnymPvMs-oSJCI72T4_MxK5_sB_aTl-i90.css\" />\\n\\n    <script src=\"//1.www.s81c.com/common/stats/ibm-common.js\"></script>\\n<script src=\"//1.www.s81c.com/common/v18/drupal/js/www.js\" defer></script>\\n<script src=\"//1.www.s81c.com/common/carbon/plex/load-non-latin-plex.js\" defer></script>\\n<script src=\"//1.www.s81c.com/common/v19a/js/www.js\" defer></script>\\n\\n    <noscript>\\n      <link rel=\"stylesheet\" type=\"text/css\" href=\"//1.cms.s81c.com/modules/contrib/hc_fractal/dist/css/no-js.css\" />\\n    </noscript>\\n  </head>\\n  <body id=\"ibm-com\"  uuid=\"13191044-6a14-4729-9e45-bd694fad7d27\" class=\"path-node page-node-type-page-wrapper ibm-type\">\\n    \\n      <div class=\"dialog-off-canvas-main-canvas\" data-off-canvas-main-canvas>\\n    <div id=\"ibm-top\" class=\"ibm-landing-page\">\\n    <div class=\"region region-masthead\">\\n    \\n\\n    \\n    \\n\\n<div id=\"ibm-masthead\" role=\"banner\" aria-label=\"IBM\" data-mhtype=\"alternate\" class=\"simple  ibm-mhtype-alternate\">\\n  <div id=\"ibm-universal-nav\">\\n    <nav role=\"navigation\" aria-label=\"IBM\">\\n      <div id=\"ibm-home\"><a href=\"https://www.ibm.com/nl/en\">IBM®</a></div>\\n                    <!-- Menu -->\\n              \\n              <ul aria-label=\"\" role=\"toolbar\" class=\"ibm-masthead-categories\">\\n\\n              </ul>\\n      \\n      <ul id=\"ibm-menu-links\" role=\"toolbar\" aria-label=\"Site map\">\\n        <li><a href=\"https://www.ibm.com/sitemap/nl/en\">Site map</a></li>\\n      </ul>\\n    </nav>\\n\\n          <div id=\"ibm-search-module\" role=\"search\" aria-labelledby=\"ibm-masthead\">\\n        <form id=\"ibm-search-form\" action=\"https://www.ibm.com/Search/\" method=\"get\">\\n          <p>\\n            <label for=\"q\">IBM</label>\\n            <input type=\"text\" maxlength=\"100\" value=\"\" placeholder=Search name=\"q\" id=\"q\" aria-label=\"Search\"/>\\n            <input type=\"hidden\" value=\"18\" name=\"v\"/>\\n            <input type=\"hidden\" value=\"utf\" name=\"en\"/>\\n            <input type=\"hidden\" value=\"en\" name=\"lang\"/>\\n            <input type=\"hidden\" value=\"nl\" name=\"cc\"/>\\n            <input type=\"submit\" id=\"ibm-search\" class=\"ibm-btn-search\" value=\"Submit\"/>\\n          </p>\\n        </form>\\n      </div>\\n    \\n\\n  </div> \\n  </div>\\n\\n  </div>\\n\\n  <div id=\"ibm-content-wrapper\">\\n      <header  aria-label=\"Navigation Header\">\\n        \\n\\n  </header>\\n\\n\\n\\n      <div class=\"region region-help\">\\n    <div data-drupal-messages-fallback class=\"hidden\"></div>\\n\\n  </div>\\n\\n      <div class=\"region region-content\">\\n    <div id=\"block-ibm-duo-content\">\\n  \\n    \\n      \\n\\n\\n\\n\\n\\n\\n            \\n\\n\\n\\n\\n\\n\\n\\n\\n  <section  role=\"article\" about=\"/nl-en/node/2598576\" class=\"ibm-duo-leadspace ibm-duo-leadspace-large ibm-background-gray-100\" data-bg-lazy-load>\\n    <div class=\"ibm-grid-container ibm-duo-leadspace-large__container\">\\n      <div class=\"ibm-grid-col-sm-4-4 ibm-grid-col-md-8-8 ibm-grid-col-lg-16-16 ibm-grid-col-seamless ibm-duo-leadspace-large__bg\">\\n\\n                  <div class=\"picturefill-background ibm-duo-leadspace-large__image ani-reveal ani-fadeIn\">\\n            <span data-src=\"//1.cms.s81c.com/sites/default/files/2021-11-08/20210531-Mayflower-AI-25917-ls-2304x983.jpg\"></span>\\n            <span data-src=\"//1.cms.s81c.com/sites/default/files/2021-11-08/20210531-Mayflower-AI-25917-mobile-720x360.jpg\" data-media=\"(min-width: 320px)\"></span>\\n            <span data-src=\"//1.cms.s81c.com/sites/default/files/2021-11-08/20210531-Mayflower-AI-25917-ls-2304x983.jpg\" data-media=\"(min-width: 672px)\"></span>\\n          </div>\\n        \\n              </div>\\n\\n      <div class=\"ibm-grid-col-sm-4-4 ibm-grid-col-md-8-4 ibm-grid-col-lg-16-7 ibm-duo-leadspace-large__content\">\\n                  <div class=\"ibm-grid-col-sm-4-3 ibm-grid-col-lg-16-12 ibm-grid-col-xlg-16-16 ibm-grid-col-seamless ibm-mb-4 ibm-duo-leadspace-large__headline ani-reveal ani-fadeInUp\" data-wow-delay=\".2s\">\\n            <h1 class=\"bx--type-expressive-heading-05 bx--type-light ibm-textcolor-gray-10 ibm-pb-0 ibm-mb-0\">\\n                  <span>Mayflower autonomous ship</span>\\n\\n            </h1>\\n          </div>\\n        \\n        <div class=\"ibm-duo-leadspace-large__subhead\">\\n                      <div class=\"ibm-grid-col-sm-4-3 ibm-grid-col-lg-16-10 ibm-grid-col-xlg-16-12 ibm-grid-col-seamless ani-reveal ani-fadeInUp\" data-wow-delay=\".4s\">\\n              <p class=\"bx--type-expressive-heading-03 ibm-textcolor-gray-30 ibm-mb-0\">\\n                    <span>Pushing the limits of autonomous navigation with AI and automation.</span>\\n\\n              </p>\\n            </div>\\n          \\n            \\n            <div class=\"ibm-btn-row ibm-button-link ibm-mt-4 ani-reveal ani-fadeInUp\" data-wow-delay=\".6s\">\\n          \\n\\n        \\n  \\n  \\n  \\n\\n\\n\\n\\n        \\n  <div class=\\'ibm-duo-button-item\\'>\\n    <a  target=\"_self\" href=\"https://www.ibm.com/nl-en/cloud/automation/mayflower-autonomous-ship?lnk=nlhpv18l1\" class=\"ibm-btn-pri ibm-duo-btn-cta ibm-duo-u--link-icon\">\\n      Explore the technology\\n      \\n    \\n        \\n\\n                      <svg focusable=\"false\" class=\"ibm-duo-u--link-icon--arrow-right\" preserveAspectRatio=\"xMidYMid meet\" xmlns=\"http://www.w3.org/2000/svg\" fill=\"currentColor\" aria-hidden=\"true\" aria-label=\"View this link\" width=\"20\" height=\"20\" viewBox=\"0 0 20 20\" slot=\"icon\"><path d=\"M11.8 2.8L10.8 3.8 16.2 9.3 1 9.3 1 10.7 16.2 10.7 10.8 16.2 11.8 17.2 19 10z\"></path></svg>\\n          \\n    \\n    </a>\\n  </div>\\n\\n      </div>\\n  <div class=\"ibm-grid-col-sm-4-4 ani-reveal ani-fadeInUp\" data-wow-delay=\".7s\">\\n      </div>\\n\\n          \\n        </div>\\n      </div>\\n\\n      <div class=\"ibm-grid-col-sm-4-1 ibm-grid-col-md-8-0 ibm-grid-col-lg-16-1\"></div>\\n\\n      <div class=\"ibm-grid-col-sm-4-4 ibm-grid-col-md-8-4 ibm-grid-col-lg-16-8 ibm-grid-col-xlg-16-8 ibm-grid-col-seamless ibm-duo-leadspace-large__media-full\">\\n              </div>\\n    </div>\\n  </section>\\n\\n\\n\\n      \\n\\n\\n  \\n\\n<main role=\"main\" aria-labelledby=\"ibm-pagetitle-h1\">\\n  <div id=\"ibm-pcon\">\\n    <div id=\"ibm-content\">\\n      <div id=\"ibm-content-body\" class=\"ibm-padding-top-0\">\\n        <div id=\"ibm-content-main\">\\n          \\n                    \\n          <div class=\"node__content\">\\n                                                \\n\\n  \\n\\n\\n\\n\\n\\n  <section  role=\"article\" about=\"/nl-en/node/2640888\" id=\"2640888\" class=\"ibm-duo-band ibm-duo-module-12a ibm-background-cool-gray-10\" data-bg-lazy-load>\\n    \\n                      \\n\\n  \\n\\n\\n\\n\\n\\n<div class=\"ibm-grid-container ibm-duo-u--pt-4 ibm-duo-u--pb-4 \">\\n  <div class=\"ibm-grid-col-sm-4-4 ibm-grid-col-md-8-6 ibm-grid-col-lg-16-8 ibm-duo-module-12a__content\">\\n    \\n          <div class=\"ibm-duo-module-12a__subhead ibm-textcolor-gray-90\">\\n                    <p>We’re hiring! Look for your opportunity today</p>\\n      \\n      </div>\\n    \\n      </div>\\n\\n  \\n    <div class=\"ibm-grid-col-sm-4-0 ibm-grid-col-md-8-2 ibm-grid-col-lg-16-4\"></div>\\n          <div class=\"ibm-grid-col-sm-4-4 ibm-grid-col-md-8-4 ibm-grid-col-lg-16-4 ibm-duo-module-12a__cta ani-reveal ani-fadeInUp\">\\n                  \\n\\n        \\n  \\n  \\n  \\n\\n\\n\\n\\n        \\n  <div class=\\'ibm-duo-button-item\\'>\\n    <a  target=\"_self\" href=\"https://www.ibm.com/nl-en/campaign/employment?lnk=nlhpv18nf1\" class=\"ibm-btn-pri ibm-duo-btn-cta ibm-duo-u--link-icon\">\\n      Join IBM and shape our future\\n      \\n    \\n        \\n\\n                      <svg focusable=\"false\" class=\"ibm-duo-u--link-icon--arrow-right\" preserveAspectRatio=\"xMidYMid meet\" xmlns=\"http://www.w3.org/2000/svg\" fill=\"currentColor\" aria-hidden=\"true\" aria-label=\"View this link\" width=\"20\" height=\"20\" viewBox=\"0 0 20 20\" slot=\"icon\"><path d=\"M11.8 2.8L10.8 3.8 16.2 9.3 1 9.3 1 10.7 16.2 10.7 10.8 16.2 11.8 17.2 19 10z\"></path></svg>\\n          \\n    \\n    </a>\\n  </div>\\n\\n              </div>\\n      </div>\\n\\n\\n              </section>\\n\\n              \\n\\n\\n\\n\\n\\n\\n  <section  role=\"article\" about=\"/nl-en/node/2598600\" data-ibm-cm-avoid=\"true\" id=\"2598600\" class=\"ibm-duo-band ibm-duo-module-1b ibm-duo-u--pt-4 ibm-duo-u--pb-4 ibm-background-white-core\" data-bg-lazy-load>\\n    <div class=\"ibm-grid-container ibm-duo-module-1b__container\">\\n      <div class=\"ibm-grid-col-sm-4-4 ibm-grid-col-md-8-4 ibm-grid-col-lg-16-4\">\\n        \\n\\n  <div class=\"ibm-duo-heading__headline ibm-grid-col-sm-4-4 ibm-grid-col-md-8-6 ibm-grid-col-lg-16-8 ibm-grid-col-seamless ibm-mb-3 ani-reveal ani-fadeInUp\">\\n    <h2 class=\"bx--type-productive-heading-02 ibm-textcolor-gray-90 ibm-pb-0 ibm-mb-0\">\\n          <span > Inside IBM</span>\\n\\n    </h2>\\n  </div>\\n\\n\\n      </div>\\n\\n      \\n                                \\n        \\n        <div class=\"ibm-grid-col-sm-4-4 ibm-grid-col-md-8-8 ibm-grid-col-lg-16-12 ibm-grid-col-seamless\">\\n          <div class=\"ibm-duo-carousel ibm-duo-carousel__1b ani-reveal ani-fadeInUp\" data-widget=\"setsameheight\" data-always=\"true\" data-items=\".ibm-duo-card__heading\">\\n\\n          \\n                      <div class=\"ibm-grid-col-sm-4-4 ibm-grid-col-md-8-4 ibm-duo-carousel__item ibm-duo-carousel-1b__item\">\\n                  \\n\\n\\n\\n\\n\\n\\n\\n\\n\\n<div class=\"ibm-card ibm-duo-card ibm-duo-card--auto-height ibm-card--noborder ibm-mb-0\">\\n\\n  \\n        \\n\\n        \\n  \\n  \\n  \\n\\n\\n\\n    <a  target=\"_self\" href=\"https://www.ibm.com/nl-en/events/think-summit/?lnk=nlhpv18f1\" class=\"ibm-blocklink ibm-duo-card__link ibm-duo-u--link-icon--rtl ibm-background-cool-gray-10 ibm-duo-card--hover-light\">\\n    \\n          <div class=\"ibm-card__image ibm-duo-card__image ibm-duo-u--ratio--sixteen-nine\">\\n                  \\n\\n<img loading=\"lazy\" src=\"//1.cms.s81c.com/sites/default/files/2021-11-08/Landing_Page_Banner_444x320%20without%20IBM%20logo.jpg\" alt=\"Image with Think logo in green and purpple\"\\n        class=\"\"\\n  />\\n        \\n                                                      </div>\\n    \\n    <div class=\"ibm-card__content ibm-duo-card__content\">\\n      <div class=\"ibm-grid-container ibm-pb-3\">\\n                  <div class=\"ibm-grid-col-sm-4-4 ibm-grid-col-md-8-6 ibm-grid-col-lg-16-12 ibm-duo-card__heading\">\\n            <h3 class=\"bx--type-productive-heading-02 ibm-type-semibold ibm-mb-1 ibm-textcolor-gray-90 ibm-pb-0\">\\n                  <span > Think Summit Netherlands</span>\\n\\n            </h3>\\n          </div>\\n        \\n                  <div class=\"ibm-grid-col-sm-4-4 ibm-grid-col-md-8-6 ibm-grid-col-lg-16-14 ibm-duo-card__desc\">\\n            <div class=\"ibm-card__subheading bx--type-body-short-02 ibm-mb-0 ibm-textcolor-gray-70 ibm-pb-0\">\\n                          <p>All content is now available on demand.\\xa0 Re-emerge with purpose and put technology into action while focusing on collaboration.</p>\\n      \\n            </div>\\n          </div>\\n              </div>\\n    </div>\\n\\n          <div class=\"ibm-card__bottom ibm-duo-card__bottom\">\\n          <div class=\"ibm-grid-container\">\\n            <div class=\"ibm-grid-col-sm-4-4 ibm-grid-col-md-8-8 ibm-grid-col-lg-16-16\">\\n                                          \\n\\n        \\n  \\n  \\n  \\n\\n\\n\\n    <p class=\"ibm-duo-u--link-icon ibm-textcolor-blue-60\">\\n    <span class=\"ibm-textcolor-blue-60\">View on demand now</span>\\n    \\n    \\n        \\n\\n                      <svg focusable=\"false\" class=\"ibm-duo-u--link-icon--arrow-right\" preserveAspectRatio=\"xMidYMid meet\" xmlns=\"http://www.w3.org/2000/svg\" fill=\"currentColor\" aria-hidden=\"true\" aria-label=\"View this link\" width=\"20\" height=\"20\" viewBox=\"0 0 20 20\" slot=\"icon\"><path d=\"M11.8 2.8L10.8 3.8 16.2 9.3 1 9.3 1 10.7 16.2 10.7 10.8 16.2 11.8 17.2 19 10z\"></path></svg>\\n          \\n    \\n  </p>\\n\\n            </div>\\n          </div>\\n      </div>\\n    \\n  \\n  </a>\\n\\n    </div>\\n\\n\\n              </div>\\n                      <div class=\"ibm-grid-col-sm-4-4 ibm-grid-col-md-8-4 ibm-duo-carousel__item ibm-duo-carousel-1b__item\">\\n                  \\n\\n\\n\\n\\n\\n\\n\\n\\n\\n<div class=\"ibm-card ibm-duo-card ibm-duo-card--auto-height ibm-card--noborder ibm-mb-0\">\\n\\n  \\n        \\n\\n        \\n  \\n  \\n  \\n\\n\\n\\n    <a  target=\"_self\" href=\"https://www.ibm.com/nl-en/consulting?lnk=nlhpv18f2\" class=\"ibm-blocklink ibm-duo-card__link ibm-duo-u--link-icon--rtl ibm-background-cool-gray-10 ibm-duo-card--hover-light\">\\n    \\n          <div class=\"ibm-card__image ibm-duo-card__image ibm-duo-u--ratio--sixteen-nine\">\\n                  \\n\\n<img loading=\"lazy\" src=\"//1.cms.s81c.com/sites/default/files/2021-11-09/IBM%20consulting.gif\" alt=\"Pictures of various people\"\\n        class=\"\"\\n  />\\n        \\n                                                      </div>\\n    \\n    <div class=\"ibm-card__content ibm-duo-card__content\">\\n      <div class=\"ibm-grid-container ibm-pb-3\">\\n                  <div class=\"ibm-grid-col-sm-4-4 ibm-grid-col-md-8-6 ibm-grid-col-lg-16-12 ibm-duo-card__heading\">\\n            <h3 class=\"bx--type-productive-heading-02 ibm-type-semibold ibm-mb-1 ibm-textcolor-gray-90 ibm-pb-0\">\\n                  <span > Say hello to IBM Consulting</span>\\n\\n            </h3>\\n          </div>\\n        \\n                  <div class=\"ibm-grid-col-sm-4-4 ibm-grid-col-md-8-6 ibm-grid-col-lg-16-14 ibm-duo-card__desc\">\\n            <div class=\"ibm-card__subheading bx--type-body-short-02 ibm-mb-0 ibm-textcolor-gray-70 ibm-pb-0\">\\n                          <p>Together, we can turn ideas into action faster than we ever could alone.</p>\\n      \\n            </div>\\n          </div>\\n              </div>\\n    </div>\\n\\n          <div class=\"ibm-card__bottom ibm-duo-card__bottom\">\\n          <div class=\"ibm-grid-container\">\\n            <div class=\"ibm-grid-col-sm-4-4 ibm-grid-col-md-8-8 ibm-grid-col-lg-16-16\">\\n                                          \\n\\n        \\n  \\n  \\n  \\n\\n\\n\\n    <p class=\"ibm-duo-u--link-icon ibm-textcolor-blue-60\">\\n    <span class=\"ibm-textcolor-blue-60\">Navigate the new rules of modern business with a partner you trust</span>\\n    \\n    \\n        \\n\\n                      <svg focusable=\"false\" class=\"ibm-duo-u--link-icon--arrow-right\" preserveAspectRatio=\"xMidYMid meet\" xmlns=\"http://www.w3.org/2000/svg\" fill=\"currentColor\" aria-hidden=\"true\" aria-label=\"View this link\" width=\"20\" height=\"20\" viewBox=\"0 0 20 20\" slot=\"icon\"><path d=\"M11.8 2.8L10.8 3.8 16.2 9.3 1 9.3 1 10.7 16.2 10.7 10.8 16.2 11.8 17.2 19 10z\"></path></svg>\\n          \\n    \\n  </p>\\n\\n            </div>\\n          </div>\\n      </div>\\n    \\n  \\n  </a>\\n\\n    </div>\\n\\n\\n              </div>\\n                      <div class=\"ibm-grid-col-sm-4-4 ibm-grid-col-md-8-4 ibm-duo-carousel__item ibm-duo-carousel-1b__item\">\\n                  \\n\\n\\n\\n\\n\\n\\n\\n\\n\\n<div class=\"ibm-card ibm-duo-card ibm-duo-card--auto-height ibm-card--noborder ibm-mb-0\">\\n\\n  \\n        \\n\\n        \\n  \\n  \\n  \\n\\n\\n\\n    <a  target=\"_self\" href=\"https://www.ibm.com/nl-en/marketing/this-is-ibm?lnk=nlhpv18f3\" class=\"ibm-blocklink ibm-duo-card__link ibm-duo-u--link-icon--rtl ibm-background-cool-gray-10 ibm-duo-card--hover-light\">\\n    \\n          <div class=\"ibm-card__image ibm-duo-card__image ibm-duo-u--ratio--sixteen-nine\">\\n                  \\n\\n<img loading=\"lazy\" src=\"//1.cms.s81c.com/sites/default/files/2021-04-20/This%20is%20IBM.jpg\" alt=\"picture collage with cards representing people activities\"\\n        class=\"\"\\n  />\\n        \\n                                                      </div>\\n    \\n    <div class=\"ibm-card__content ibm-duo-card__content\">\\n      <div class=\"ibm-grid-container ibm-pb-3\">\\n                  <div class=\"ibm-grid-col-sm-4-4 ibm-grid-col-md-8-6 ibm-grid-col-lg-16-12 ibm-duo-card__heading\">\\n            <h3 class=\"bx--type-productive-heading-02 ibm-type-semibold ibm-mb-1 ibm-textcolor-gray-90 ibm-pb-0\">\\n                  <span > This is IBM</span>\\n\\n            </h3>\\n          </div>\\n        \\n                  <div class=\"ibm-grid-col-sm-4-4 ibm-grid-col-md-8-6 ibm-grid-col-lg-16-14 ibm-duo-card__desc\">\\n            <div class=\"ibm-card__subheading bx--type-body-short-02 ibm-mb-0 ibm-textcolor-gray-70 ibm-pb-0\">\\n                          <p>Discover the impact IBM has on everyone, every day.</p>\\n      \\n            </div>\\n          </div>\\n              </div>\\n    </div>\\n\\n          <div class=\"ibm-card__bottom ibm-duo-card__bottom\">\\n          <div class=\"ibm-grid-container\">\\n            <div class=\"ibm-grid-col-sm-4-4 ibm-grid-col-md-8-8 ibm-grid-col-lg-16-16\">\\n                                          \\n\\n        \\n  \\n  \\n  \\n\\n\\n\\n    <p class=\"ibm-duo-u--link-icon ibm-textcolor-blue-60\">\\n    <span class=\"ibm-textcolor-blue-60\">This is the world we&#039;re helping to build</span>\\n    \\n    \\n        \\n\\n                      <svg focusable=\"false\" class=\"ibm-duo-u--link-icon--arrow-right\" preserveAspectRatio=\"xMidYMid meet\" xmlns=\"http://www.w3.org/2000/svg\" fill=\"currentColor\" aria-hidden=\"true\" aria-label=\"View this link\" width=\"20\" height=\"20\" viewBox=\"0 0 20 20\" slot=\"icon\"><path d=\"M11.8 2.8L10.8 3.8 16.2 9.3 1 9.3 1 10.7 16.2 10.7 10.8 16.2 11.8 17.2 19 10z\"></path></svg>\\n          \\n    \\n  </p>\\n\\n            </div>\\n          </div>\\n      </div>\\n    \\n  \\n  </a>\\n\\n    </div>\\n\\n\\n              </div>\\n                      <div class=\"ibm-grid-col-sm-4-4 ibm-grid-col-md-8-4 ibm-duo-carousel__item ibm-duo-carousel-1b__item\">\\n                  \\n\\n\\n\\n\\n\\n\\n\\n\\n\\n<div class=\"ibm-card ibm-duo-card ibm-duo-card--auto-height ibm-card--noborder ibm-mb-0\">\\n\\n  \\n        \\n\\n        \\n  \\n  \\n  \\n\\n\\n\\n    <a  target=\"_self\" href=\"/nl-en/financing/pre-owned/ibm-certified-used-equipment?nlhpv18f4=\" class=\"ibm-blocklink ibm-duo-card__link ibm-duo-u--link-icon--rtl ibm-background-cool-gray-10 ibm-duo-card--hover-light\">\\n    \\n          <div class=\"ibm-card__image ibm-duo-card__image ibm-duo-u--ratio--sixteen-nine\">\\n                  \\n\\n<img loading=\"lazy\" src=\"//1.cms.s81c.com/sites/default/files/2021-04-20/ICPO-Environmental-HP-2.jpg\" alt=\"People walking on a bridge in the nature\"\\n        class=\"\"\\n  />\\n        \\n                                                      </div>\\n    \\n    <div class=\"ibm-card__content ibm-duo-card__content\">\\n      <div class=\"ibm-grid-container ibm-pb-3\">\\n                  <div class=\"ibm-grid-col-sm-4-4 ibm-grid-col-md-8-6 ibm-grid-col-lg-16-12 ibm-duo-card__heading\">\\n            <h3 class=\"bx--type-productive-heading-02 ibm-type-semibold ibm-mb-1 ibm-textcolor-gray-90 ibm-pb-0\">\\n                  <span > Sustainability and refurbished IT</span>\\n\\n            </h3>\\n          </div>\\n        \\n                  <div class=\"ibm-grid-col-sm-4-4 ibm-grid-col-md-8-6 ibm-grid-col-lg-16-14 ibm-duo-card__desc\">\\n            <div class=\"ibm-card__subheading bx--type-body-short-02 ibm-mb-0 ibm-textcolor-gray-70 ibm-pb-0\">\\n                          <p>Reduce your environmental impact with IBM Certified pre-owned servers and storage.</p>\\n      \\n            </div>\\n          </div>\\n              </div>\\n    </div>\\n\\n          <div class=\"ibm-card__bottom ibm-duo-card__bottom\">\\n          <div class=\"ibm-grid-container\">\\n            <div class=\"ibm-grid-col-sm-4-4 ibm-grid-col-md-8-8 ibm-grid-col-lg-16-16\">\\n                                          \\n\\n        \\n  \\n  \\n  \\n\\n\\n\\n    <p class=\"ibm-duo-u--link-icon ibm-textcolor-blue-60\">\\n    <span class=\"ibm-textcolor-blue-60\">Explore our available inventory</span>\\n    \\n    \\n        \\n\\n                      <svg focusable=\"false\" class=\"ibm-duo-u--link-icon--arrow-right\" preserveAspectRatio=\"xMidYMid meet\" xmlns=\"http://www.w3.org/2000/svg\" fill=\"currentColor\" aria-hidden=\"true\" aria-label=\"View this link\" width=\"20\" height=\"20\" viewBox=\"0 0 20 20\" slot=\"icon\"><path d=\"M11.8 2.8L10.8 3.8 16.2 9.3 1 9.3 1 10.7 16.2 10.7 10.8 16.2 11.8 17.2 19 10z\"></path></svg>\\n          \\n    \\n  </p>\\n\\n            </div>\\n          </div>\\n      </div>\\n    \\n  \\n  </a>\\n\\n    </div>\\n\\n\\n              </div>\\n                    <span class=\"ibm-duo-carousel__counter ibm-duo-carousel__counter--4 bx--type-body-long-01 ibm-mb-1 ibm-textcolor-gray-90\"></span>\\n          </div>\\n        </div>\\n      \\n    </div>\\n  </section>\\n\\n              \\n\\n\\n\\n\\n\\n\\n  <section  role=\"article\" about=\"/nl-en/node/2598712\" data-ibm-cm-avoid=\"true\" id=\"2598712\" class=\"ibm-duo-band ibm-duo-module-1b ibm-duo-u--pt-4 ibm-duo-u--pb-4 ibm-background-cool-gray-10\" data-bg-lazy-load>\\n    <div class=\"ibm-grid-container ibm-duo-module-1b__container\">\\n      <div class=\"ibm-grid-col-sm-4-4 ibm-grid-col-md-8-4 ibm-grid-col-lg-16-4\">\\n        \\n\\n  <div class=\"ibm-duo-heading__headline ibm-grid-col-sm-4-4 ibm-grid-col-md-8-6 ibm-grid-col-lg-16-8 ibm-grid-col-seamless ibm-mb-3 ani-reveal ani-fadeInUp\">\\n    <h2 class=\"bx--type-productive-heading-02 ibm-textcolor-gray-90 ibm-pb-0 ibm-mb-0\">\\n          <span > Explore product trials and offers</span>\\n\\n    </h2>\\n  </div>\\n\\n\\n  <div class=\"ibm-duo-heading__cta ibm-grid-col-sm-4-4 ibm-grid-col-md-8-8 ibm-grid-col-lg-16-15 ibm-grid-col-seamless ibm-mt-3 ibm-mb-3 ani-reveal ani-fadeInUp\">\\n          \\n\\n        \\n  \\n  \\n  \\n\\n\\n\\n  \\n  \\n  <p class=\\'ibm-mb-0 ibm-duo-u--pr-2 ibm-pb-1\\'>\\n    <a  target=\"_self\" href=\"/nl-en/products/offers-and-discounts?lnk=hpv18t5\" class=\"ibm-duo-u--link-icon ibm-textcolor-blue-60 ibm-duo-u--link-icon--rtl\">\\n      <span>See current deals</span>\\n      \\n    \\n        \\n\\n                      <svg focusable=\"false\" class=\"ibm-duo-u--link-icon--arrow-right\" preserveAspectRatio=\"xMidYMid meet\" xmlns=\"http://www.w3.org/2000/svg\" fill=\"currentColor\" aria-hidden=\"true\" aria-label=\"View this link\" width=\"20\" height=\"20\" viewBox=\"0 0 20 20\" slot=\"icon\"><path d=\"M11.8 2.8L10.8 3.8 16.2 9.3 1 9.3 1 10.7 16.2 10.7 10.8 16.2 11.8 17.2 19 10z\"></path></svg>\\n          \\n    \\n    </a>\\n  </p>\\n\\n\\n      </div>\\n      </div>\\n\\n      \\n                                \\n        \\n        <div class=\"ibm-grid-col-sm-4-4 ibm-grid-col-md-8-8 ibm-grid-col-lg-16-12 ibm-grid-col-seamless\">\\n          <div class=\"ibm-duo-carousel ibm-duo-carousel__1b ani-reveal ani-fadeInUp\" data-widget=\"setsameheight\" data-always=\"true\" data-items=\".ibm-duo-card__heading\">\\n\\n          \\n                      <div class=\"ibm-grid-col-sm-4-4 ibm-grid-col-md-8-4 ibm-duo-carousel__item ibm-duo-carousel-1b__item\">\\n                  \\n\\n\\n\\n\\n\\n\\n\\n\\n\\n<div class=\"ibm-card ibm-duo-card ibm-duo-card--auto-height ibm-card--noborder ibm-mb-0\">\\n\\n  \\n        \\n\\n        \\n  \\n  \\n  \\n\\n\\n\\n    <a  target=\"_self\" href=\"https://www.ibm.com/cloud/watson-assistant?lnk=nlhpv18t1\" class=\"ibm-blocklink ibm-duo-card__link ibm-duo-u--link-icon--rtl ibm-background-white-core ibm-duo-card--hover-light\">\\n    \\n          <div class=\"ibm-card__image ibm-duo-card__image ibm-duo-u--ratio--sixteen-nine\">\\n                  \\n\\n<img loading=\"lazy\" src=\"//1.cms.s81c.com/sites/default/files/2021-08-17/Watson-Assistant-23212-700x420_0.png\" alt=\"Screenshot of the IBM Watson Assistant template\"\\n        class=\"\"\\n  />\\n        \\n                                                      </div>\\n    \\n    <div class=\"ibm-card__content ibm-duo-card__content\">\\n      <div class=\"ibm-grid-container ibm-pb-3\">\\n                  <div class=\"ibm-grid-col-sm-4-4 ibm-grid-col-md-8-6 ibm-grid-col-lg-16-12 ibm-duo-card__heading\">\\n            <h3 class=\"bx--type-productive-heading-02 ibm-type-semibold ibm-mb-1 ibm-textcolor-gray-90 ibm-pb-0\">\\n                  <span > IBM Watson Assistant</span>\\n\\n            </h3>\\n          </div>\\n        \\n                  <div class=\"ibm-grid-col-sm-4-4 ibm-grid-col-md-8-6 ibm-grid-col-lg-16-14 ibm-duo-card__desc\">\\n            <div class=\"ibm-card__subheading bx--type-body-short-02 ibm-mb-0 ibm-textcolor-gray-70 ibm-pb-0\">\\n                          <p>Help your customers on any channel with AI-powered chat and voice</p>\\n      \\n            </div>\\n          </div>\\n              </div>\\n    </div>\\n\\n          <div class=\"ibm-card__bottom ibm-duo-card__bottom\">\\n          <div class=\"ibm-grid-container\">\\n            <div class=\"ibm-grid-col-sm-4-4 ibm-grid-col-md-8-8 ibm-grid-col-lg-16-16\">\\n                                          \\n\\n        \\n  \\n  \\n  \\n\\n\\n\\n    <p class=\"ibm-duo-u--link-icon ibm-textcolor-blue-60\">\\n    <span class=\"ibm-textcolor-blue-60\">Get started free</span>\\n    \\n    \\n        \\n\\n                      <svg focusable=\"false\" class=\"ibm-duo-u--link-icon--arrow-right\" preserveAspectRatio=\"xMidYMid meet\" xmlns=\"http://www.w3.org/2000/svg\" fill=\"currentColor\" aria-hidden=\"true\" aria-label=\"View this link\" width=\"20\" height=\"20\" viewBox=\"0 0 20 20\" slot=\"icon\"><path d=\"M11.8 2.8L10.8 3.8 16.2 9.3 1 9.3 1 10.7 16.2 10.7 10.8 16.2 11.8 17.2 19 10z\"></path></svg>\\n          \\n    \\n  </p>\\n\\n            </div>\\n          </div>\\n      </div>\\n    \\n  \\n  </a>\\n\\n    </div>\\n\\n\\n              </div>\\n                      <div class=\"ibm-grid-col-sm-4-4 ibm-grid-col-md-8-4 ibm-duo-carousel__item ibm-duo-carousel-1b__item\">\\n                  \\n\\n\\n\\n\\n\\n\\n\\n\\n\\n<div class=\"ibm-card ibm-duo-card ibm-duo-card--auto-height ibm-card--noborder ibm-mb-0\">\\n\\n  \\n        \\n\\n        \\n  \\n  \\n  \\n\\n\\n\\n    <a  target=\"_self\" href=\"https://www.ibm.com/nl-en/cloud/satellite?lnk=nlhpv18t2\" class=\"ibm-blocklink ibm-duo-card__link ibm-duo-u--link-icon--rtl ibm-background-white-core ibm-duo-card--hover-light\">\\n    \\n          <div class=\"ibm-card__image ibm-duo-card__image ibm-duo-u--ratio--sixteen-nine\">\\n                  \\n\\n<img loading=\"lazy\" src=\"//1.cms.s81c.com/sites/default/files/2021-07-30/Satellite-Template-444x254-%281%29_0.jpg\" alt=\"Screenshot of IBM Cloud Satellite template\"\\n        class=\"\"\\n  />\\n        \\n                                                      </div>\\n    \\n    <div class=\"ibm-card__content ibm-duo-card__content\">\\n      <div class=\"ibm-grid-container ibm-pb-3\">\\n                  <div class=\"ibm-grid-col-sm-4-4 ibm-grid-col-md-8-6 ibm-grid-col-lg-16-12 ibm-duo-card__heading\">\\n            <h3 class=\"bx--type-productive-heading-02 ibm-type-semibold ibm-mb-1 ibm-textcolor-gray-90 ibm-pb-0\">\\n                  <span > IBM Cloud Satellite</span>\\n\\n            </h3>\\n          </div>\\n        \\n                  <div class=\"ibm-grid-col-sm-4-4 ibm-grid-col-md-8-6 ibm-grid-col-lg-16-14 ibm-duo-card__desc\">\\n            <div class=\"ibm-card__subheading bx--type-body-short-02 ibm-mb-0 ibm-textcolor-gray-70 ibm-pb-0\">\\n                          <p>Build applications fast and run them securely anywhere</p>\\n      \\n            </div>\\n          </div>\\n              </div>\\n    </div>\\n\\n          <div class=\"ibm-card__bottom ibm-duo-card__bottom\">\\n          <div class=\"ibm-grid-container\">\\n            <div class=\"ibm-grid-col-sm-4-4 ibm-grid-col-md-8-8 ibm-grid-col-lg-16-16\">\\n                                          \\n\\n        \\n  \\n  \\n  \\n\\n\\n\\n    <p class=\"ibm-duo-u--link-icon ibm-textcolor-blue-60\">\\n    <span class=\"ibm-textcolor-blue-60\">Try a no-cost IBM Garage consultation</span>\\n    \\n    \\n        \\n\\n                      <svg focusable=\"false\" class=\"ibm-duo-u--link-icon--arrow-right\" preserveAspectRatio=\"xMidYMid meet\" xmlns=\"http://www.w3.org/2000/svg\" fill=\"currentColor\" aria-hidden=\"true\" aria-label=\"View this link\" width=\"20\" height=\"20\" viewBox=\"0 0 20 20\" slot=\"icon\"><path d=\"M11.8 2.8L10.8 3.8 16.2 9.3 1 9.3 1 10.7 16.2 10.7 10.8 16.2 11.8 17.2 19 10z\"></path></svg>\\n          \\n    \\n  </p>\\n\\n            </div>\\n          </div>\\n      </div>\\n    \\n  \\n  </a>\\n\\n    </div>\\n\\n\\n              </div>\\n                      <div class=\"ibm-grid-col-sm-4-4 ibm-grid-col-md-8-4 ibm-duo-carousel__item ibm-duo-carousel-1b__item\">\\n                  \\n\\n\\n\\n\\n\\n\\n\\n\\n\\n<div class=\"ibm-card ibm-duo-card ibm-duo-card--auto-height ibm-card--noborder ibm-mb-0\">\\n\\n  \\n        \\n\\n        \\n  \\n  \\n  \\n\\n\\n\\n    <a  target=\"_self\" href=\"https://www.ibm.com/nl-en/cloud/sap?lnk=nlhpv18t3\" class=\"ibm-blocklink ibm-duo-card__link ibm-duo-u--link-icon--rtl ibm-background-white-core ibm-duo-card--hover-light\">\\n    \\n          <div class=\"ibm-card__image ibm-duo-card__image ibm-duo-u--ratio--sixteen-nine\">\\n                  \\n\\n<img loading=\"lazy\" src=\"//1.cms.s81c.com/sites/default/files/2021-07-30/SAP-Template-444x254-%281%29_0.jpg\" alt=\"Screenshot of SAP on IBM Cloud page\"\\n        class=\"\"\\n  />\\n        \\n                                                      </div>\\n    \\n    <div class=\"ibm-card__content ibm-duo-card__content\">\\n      <div class=\"ibm-grid-container ibm-pb-3\">\\n                  <div class=\"ibm-grid-col-sm-4-4 ibm-grid-col-md-8-6 ibm-grid-col-lg-16-12 ibm-duo-card__heading\">\\n            <h3 class=\"bx--type-productive-heading-02 ibm-type-semibold ibm-mb-1 ibm-textcolor-gray-90 ibm-pb-0\">\\n                  <span > SAP on IBM Cloud</span>\\n\\n            </h3>\\n          </div>\\n        \\n                  <div class=\"ibm-grid-col-sm-4-4 ibm-grid-col-md-8-6 ibm-grid-col-lg-16-14 ibm-duo-card__desc\">\\n            <div class=\"ibm-card__subheading bx--type-body-short-02 ibm-mb-0 ibm-textcolor-gray-70 ibm-pb-0\">\\n                          <p>An enterprise-ready cloud that manages your security, reliability and compliance needs</p>\\n      \\n            </div>\\n          </div>\\n              </div>\\n    </div>\\n\\n          <div class=\"ibm-card__bottom ibm-duo-card__bottom\">\\n          <div class=\"ibm-grid-container\">\\n            <div class=\"ibm-grid-col-sm-4-4 ibm-grid-col-md-8-8 ibm-grid-col-lg-16-16\">\\n                                          \\n\\n        \\n  \\n  \\n  \\n\\n\\n\\n    <p class=\"ibm-duo-u--link-icon ibm-textcolor-blue-60\">\\n    <span class=\"ibm-textcolor-blue-60\">Explore now</span>\\n    \\n    \\n        \\n\\n                      <svg focusable=\"false\" class=\"ibm-duo-u--link-icon--arrow-right\" preserveAspectRatio=\"xMidYMid meet\" xmlns=\"http://www.w3.org/2000/svg\" fill=\"currentColor\" aria-hidden=\"true\" aria-label=\"View this link\" width=\"20\" height=\"20\" viewBox=\"0 0 20 20\" slot=\"icon\"><path d=\"M11.8 2.8L10.8 3.8 16.2 9.3 1 9.3 1 10.7 16.2 10.7 10.8 16.2 11.8 17.2 19 10z\"></path></svg>\\n          \\n    \\n  </p>\\n\\n            </div>\\n          </div>\\n      </div>\\n    \\n  \\n  </a>\\n\\n    </div>\\n\\n\\n              </div>\\n                      <div class=\"ibm-grid-col-sm-4-4 ibm-grid-col-md-8-4 ibm-duo-carousel__item ibm-duo-carousel-1b__item\">\\n                  \\n\\n\\n\\n\\n\\n\\n\\n\\n\\n<div class=\"ibm-card ibm-duo-card ibm-duo-card--auto-height ibm-card--noborder ibm-mb-0\">\\n\\n  \\n        \\n\\n        \\n  \\n  \\n  \\n\\n\\n\\n    <a  target=\"_self\" href=\"https://www.ibm.com/cloud/blog/announcements/ibm-cloud-for-vmware-special-promotion?lnk=nlhpv18t4\" class=\"ibm-blocklink ibm-duo-card__link ibm-duo-u--link-icon--rtl ibm-background-white-core ibm-duo-card--hover-light\">\\n    \\n          <div class=\"ibm-card__image ibm-duo-card__image ibm-duo-u--ratio--sixteen-nine\">\\n                  \\n\\n<img loading=\"lazy\" src=\"//1.cms.s81c.com/sites/default/files/2021-07-30/VM-Template-444x254-%281%29_0.jpg\" alt=\"Screenshot of VMware template\"\\n        class=\"\"\\n  />\\n        \\n                                                      </div>\\n    \\n    <div class=\"ibm-card__content ibm-duo-card__content\">\\n      <div class=\"ibm-grid-container ibm-pb-3\">\\n                  <div class=\"ibm-grid-col-sm-4-4 ibm-grid-col-md-8-6 ibm-grid-col-lg-16-12 ibm-duo-card__heading\">\\n            <h3 class=\"bx--type-productive-heading-02 ibm-type-semibold ibm-mb-1 ibm-textcolor-gray-90 ibm-pb-0\">\\n                  <span > IBM Cloud for VMware Solutions</span>\\n\\n            </h3>\\n          </div>\\n        \\n                  <div class=\"ibm-grid-col-sm-4-4 ibm-grid-col-md-8-6 ibm-grid-col-lg-16-14 ibm-duo-card__desc\">\\n            <div class=\"ibm-card__subheading bx--type-body-short-02 ibm-mb-0 ibm-textcolor-gray-70 ibm-pb-0\">\\n                          <p>Seamlessly modernize your VMware workloads and applications with IBM Cloud</p>\\n      \\n            </div>\\n          </div>\\n              </div>\\n    </div>\\n\\n          <div class=\"ibm-card__bottom ibm-duo-card__bottom\">\\n          <div class=\"ibm-grid-container\">\\n            <div class=\"ibm-grid-col-sm-4-4 ibm-grid-col-md-8-8 ibm-grid-col-lg-16-16\">\\n                                          \\n\\n        \\n  \\n  \\n  \\n\\n\\n\\n    <p class=\"ibm-duo-u--link-icon ibm-textcolor-blue-60\">\\n    <span class=\"ibm-textcolor-blue-60\">Get started at no cost</span>\\n    \\n    \\n        \\n\\n                      <svg focusable=\"false\" class=\"ibm-duo-u--link-icon--arrow-right\" preserveAspectRatio=\"xMidYMid meet\" xmlns=\"http://www.w3.org/2000/svg\" fill=\"currentColor\" aria-hidden=\"true\" aria-label=\"View this link\" width=\"20\" height=\"20\" viewBox=\"0 0 20 20\" slot=\"icon\"><path d=\"M11.8 2.8L10.8 3.8 16.2 9.3 1 9.3 1 10.7 16.2 10.7 10.8 16.2 11.8 17.2 19 10z\"></path></svg>\\n          \\n    \\n  </p>\\n\\n            </div>\\n          </div>\\n      </div>\\n    \\n  \\n  </a>\\n\\n    </div>\\n\\n\\n              </div>\\n                    <span class=\"ibm-duo-carousel__counter ibm-duo-carousel__counter--4 bx--type-body-long-01 ibm-mb-1 ibm-textcolor-gray-90\"></span>\\n          </div>\\n        </div>\\n      \\n    </div>\\n  </section>\\n\\n              \\n\\n\\n\\n\\n\\n\\n  <section  role=\"article\" lang=\"en\" about=\"/en/node/2725178\" data-ibm-cm-avoid=\"true\" id=\"2725178\" class=\"ibm-duo-band ibm-duo-module-2b ibm-duo-u--pt-4 ibm-duo-u--pb-4 ibm-background-white-core\" data-bg-lazy-load>\\n    <div class=\"ibm-grid-container ibm-duo-module-2b__container\">\\n\\n      <div class=\"ibm-grid-col-sm-4-4 ibm-grid-col-md-8-4 ibm-grid-col-lg-16-4\">\\n        \\n\\n  <div class=\"ibm-duo-heading__headline ibm-grid-col-sm-4-4 ibm-grid-col-md-8-6 ibm-grid-col-lg-16-8 ibm-grid-col-seamless ibm-mb-3 ani-reveal ani-fadeInUp\">\\n    <h2 class=\"bx--type-productive-heading-02 ibm-textcolor-gray-90 ibm-pb-0 ibm-mb-0\">\\n          <span > Explore popular and trending technologies</span>\\n\\n    </h2>\\n  </div>\\n\\n\\n      </div>\\n\\n      \\n                                \\n        \\n        <div class=\"ibm-grid-col-sm-4-4 ibm-grid-col-md-8-8 ibm-grid-col-lg-16-12 ibm-grid-col-seamless\">\\n          <div class=\"ibm-duo-carousel ibm-duo-carousel__2b ani-reveal ani-fadeInUp\" data-widget=\"setsameheight\" data-always=\"true\" data-items=\".ibm-duo-card__heading\">\\n\\n            \\n                          <div class=\"ibm-grid-col-sm-4-4 ibm-grid-col-md-8-4 ibm-duo-carousel__item ibm-duo-carousel-2b__item\">\\n                    \\n\\n\\n\\n\\n\\n<div class=\"ibm-card ibm-duo-card ibm-card--noborder ibm-mb-0\">\\n\\n  \\n      <div class=\"ibm-blocklink ibm-duo-card__link ibm-background-cool-gray-10\">\\n          <div class=\"ibm-card__content ibm-duo-card__content\">\\n      <div class=\"ibm-grid-container\">\\n        <div class=\"ibm-grid-col-sm-4-4 ibm-grid-col-md-8-7 ibm-grid-col-lg-16-14 ibm-pb-4\">\\n          \\n          \\n          \\n                      <div class=\"bx--type-body-long-02 ibm-textcolor-gray-70 ibm-mb-3 ibm-duo-card__desc\">\\n                          <p><strong>Tools for developers\\xa0</strong><br />\\n\\xa0</p>\\n\\n<ul><li><a href=\"https://developer.ibm.com/depmodels/cloud/?lnk=hpv18ct16\">Cloud</a></li>\\n\\t<li><a href=\"https://developer.ibm.com/technologies/artificial-intelligence?lnk=hpv18ct19\">Artificial intelligence</a></li>\\n\\t<li><a href=\"https://www.ibm.com/demos/?lnk=hpv18ct12\">Demos</a></li>\\n\\t<li><a href=\"https://developer.ibm.com/?lnk=hpv18ct9\">IBM Developer</a></li>\\n\\t<li><a href=\"https://www.ibm.com/docs/en?lnk=hpv18ct14\">Documentation</a></li>\\n\\t<li><a data-entity-substitution=\"\" data-entity-type=\"\" data-entity-uuid=\"\" href=\"https://www.redbooks.ibm.com/?lnk=ushpv18ct10\">Redbooks</a></li>\\n\\t<li><a href=\"https://www.ibm.com/support/home/?lnk=hpv18ct11\">Support</a></li>\\n\\t<li><a href=\"https://www.ibm.com/training/?lnk=hpv18ct15\">Training and Skills</a></li>\\n</ul>\\n      \\n            </div>\\n                  </div>\\n      </div>\\n    </div>\\n\\n      \\n    </div>\\n  </div>\\n\\n\\n                </div>\\n                          <div class=\"ibm-grid-col-sm-4-4 ibm-grid-col-md-8-4 ibm-duo-carousel__item ibm-duo-carousel-2b__item\">\\n                    \\n\\n\\n\\n\\n\\n<div class=\"ibm-card ibm-duo-card ibm-card--noborder ibm-mb-0\">\\n\\n  \\n      <div class=\"ibm-blocklink ibm-duo-card__link ibm-background-cool-gray-10\">\\n          <div class=\"ibm-card__content ibm-duo-card__content\">\\n      <div class=\"ibm-grid-container\">\\n        <div class=\"ibm-grid-col-sm-4-4 ibm-grid-col-md-8-7 ibm-grid-col-lg-16-14 ibm-pb-4\">\\n          \\n          \\n          \\n                      <div class=\"bx--type-body-long-02 ibm-textcolor-gray-70 ibm-mb-3 ibm-duo-card__desc\">\\n                          <p>\\xa0<strong>Tools for business</strong><br />\\n\\xa0</p>\\n\\n<ul><li><a href=\"/cloud/hybrid?lnk=hpv18pt14\">Hybrid Cloud</a></li>\\n\\t<li><a href=\"/cloud/learn/public-cloud?lnk=hpv18ct1\">Public Cloud</a></li>\\n\\t<li><a href=\"/watson?lnk=ushpv18pt17\">IBM Watson</a></li>\\n\\t<li><a href=\"/garage?lnk=hpv18pt13\">IBM Garage</a></li>\\n\\t<li><a href=\"/blockchain?lnk=hpv18pt4\">Blockchain</a></li>\\n\\t<li><a href=\"https://www.ibm.com/thought-leadership/institute-business-value/?lnk=hpv18pt12\">Institute for Business Value</a></li>\\n\\t<li><a href=\"/analytics?lnk=hpv18pt1\">Data &amp;\\xa0analytics</a></li>\\n\\t<li><a href=\"/security?lnk=hpv18pt9\">Security</a></li>\\n\\t<li><a href=\"/financing?lnk=hpv18pt3\">Financing</a></li>\\n\\t<li><a href=\"https://www.ibm.com/quantum-computing?lnk=hpv18pt16\">Quantum computing</a></li>\\n</ul>\\n      \\n            </div>\\n                  </div>\\n      </div>\\n    </div>\\n\\n      \\n    </div>\\n  </div>\\n\\n\\n                </div>\\n                          <div class=\"ibm-grid-col-sm-4-4 ibm-grid-col-md-8-4 ibm-duo-carousel__item ibm-duo-carousel-2b__item\">\\n                    \\n\\n\\n\\n\\n\\n<div class=\"ibm-card ibm-duo-card ibm-card--noborder ibm-mb-0\">\\n\\n  \\n      <div class=\"ibm-blocklink ibm-duo-card__link ibm-background-cool-gray-10\">\\n          <div class=\"ibm-card__content ibm-duo-card__content\">\\n      <div class=\"ibm-grid-container\">\\n        <div class=\"ibm-grid-col-sm-4-4 ibm-grid-col-md-8-7 ibm-grid-col-lg-16-14 ibm-pb-4\">\\n          \\n          \\n          \\n                      <div class=\"bx--type-body-long-02 ibm-textcolor-gray-70 ibm-mb-3 ibm-duo-card__desc\">\\n                          <p><strong>\\xa0Trending in tech</strong><br />\\n\\xa0</p>\\n\\n<ul><li><a href=\"/cloud/hybrid?lnk=hpv18ct20\">Hybrid cloud</a></li>\\n\\t<li><a href=\"/cloud/learn/public-cloud?lnk=hpv18ct1\">Public cloud</a></li>\\n\\t<li><a href=\"/cloud/redhat?lnk=hpv18ct13\">Red Hat</a></li>\\n\\t<li><a href=\"/watson?lnk=hpv18ct3\">Artificial intelligence</a></li>\\n\\t<li><a href=\"https://www.ibm.com/quantum-computing?lnk=hpv18ct18\">Quantum computing</a></li>\\n\\t<li><a href=\"/cloud/learn/kubernetes?lnk=hpv18ct8\">Kubernetes</a></li>\\n\\t<li><a href=\"/products/spss-statistics?lnk=ushpv18ct7\">SPSS</a></li>\\n\\t<li><a href=\"/blockchain?lnk=hpv18ct1\">Blockchain</a></li>\\n\\t<li><a href=\"https://www.ibm.com/employment?lnk=hpv18ct2\">Careers</a></li>\\n</ul>\\n      \\n            </div>\\n                  </div>\\n      </div>\\n    </div>\\n\\n      \\n    </div>\\n  </div>\\n\\n\\n                </div>\\n                        <span class=\"ibm-duo-carousel__counter ibm-duo-carousel__counter--3 bx--type-body-long-01 ibm-mb-1 ibm-textcolor-gray-90\"></span>\\n          </div>\\n        </div>\\n      \\n    </div>\\n  </section>\\n\\n              \\n\\n\\n\\n\\n\\n  <section  role=\"article\" about=\"/nl-en/node/2598824\" id=\"2598824\" class=\"ibm-duo-band ibm-duo-module-11a-double ibm-background-gray-100\" data-bg-lazy-load>\\n          <div class=\"ibm-grid-container\" data-widget=\"setsameheight\" data-always=\"true\" data-items=\".ibm-duo-module-11a-double__headline\">\\n                  <div class=\"ibm-grid-col-sm-4-4 ibm-grid-col-md-8-4 ibm-grid-col-lg-16-8 ibm-grid-col-seamless\">\\n                \\n\\n\\n\\n\\n<div class=\"ibm-duo-module-11a-double ibm-duo-module-11a-double__item ibm-background-gray-100\">\\n      <div class=\"ibm-duo-module-11a-double__bg  ani-reveal ani-fadeInUp\" style=\"background-image:url(\\'//1.cms.s81c.com/sites/default/files/2021-08-13/720x656-mvp.jpg\\')\" role=\"img\" aria-label=\"man standing armswide and high on a large rock\"></div>\\n  \\n  <div class=\"ibm-grid-container ibm-duo-module-11a-double__content\">\\n    <div class=\"ibm-grid-col-sm-4-4 ibm-grid-col-md-8-8 ibm-grid-col-lg-16-10\">\\n              <div class=\"ibm-grid-col-sm-4-3 ibm-grid-col-md-8-6 ibm-grid-col-lg-16-16 ibm-grid-col-seamless\">\\n          <h2 class=\"bx--type-expressive-heading-05 ibm-type-light ibm-textcolor-gray-10 ibm-mb-3 ibm-pb-0 ibm-duo-module-11a-double__headline ani-reveal ani-fadeInUp\">\\n                <span > Co-create your MVP</span>\\n\\n          </h2>\\n        </div>\\n      \\n              <div class=\"ibm-grid-col-sm-4-3 ibm-grid-col-md-8-6 ibm-grid-col-lg-16-12 ibm-grid-col-seamless\">\\n          <div class=\"bx--type-body-long-02 ibm-textcolor-gray-30 ibm-mb-0 ibm-duo-module-11a-double__subhead ibm-pb-1 ani-reveal ani-fadeInUp\">\\n                        <p>Learn how to identify the right MVP use case for optimal success</p>\\n      \\n          </div>\\n        </div>\\n          </div>\\n  </div>\\n\\n      <div class=\"ibm-duo-module-11a-double__cta\">\\n      <div class=\"ibm-grid-container\">\\n        <div class=\"ibm-grid-col-sm-4-2 ibm-grid-col-md-8-4 ibm-grid-col-lg-16-8\"></div>\\n        <div class=\"ibm-grid-col-sm-4-2 ibm-grid-col-md-8-4 ibm-grid-col-lg-16-8 ibm-duo-module-11a-double__cta-wrapper\">\\n          \\n\\n        \\n  \\n  \\n  \\n\\n\\n\\n\\n  <a  target=\"_blank\" href=\"https://www.ibm.com/blogs/think/be-en/2021/07/09/identify-the-right-mvp-use-case/?lnk=hpv18cs1\" class=\"ibm-duo-cta ani-reveal ani-fadeInUp\">\\n    <p class=\\'ibm-type-e ibm-textcolor-white-core ibm-p ibm-mb-0\\'>Discover different types of use cases</p>\\n    <div class=\"ibm-duo-u--link-icon\">\\n      \\n    \\n        \\n\\n                      <svg focusable=\"false\" class=\"ibm-duo-u--link-icon--arrow-right\" preserveAspectRatio=\"xMidYMid meet\" xmlns=\"http://www.w3.org/2000/svg\" fill=\"currentColor\" aria-hidden=\"true\" aria-label=\"View this link\" width=\"20\" height=\"20\" viewBox=\"0 0 20 20\" slot=\"icon\"><path d=\"M11.8 2.8L10.8 3.8 16.2 9.3 1 9.3 1 10.7 16.2 10.7 10.8 16.2 11.8 17.2 19 10z\"></path></svg>\\n          \\n    \\n    </div>\\n  </a>\\n\\n\\n        </div>\\n      </div>\\n    </div>\\n  </div>\\n\\n\\n            </div>\\n                  <div class=\"ibm-grid-col-sm-4-4 ibm-grid-col-md-8-4 ibm-grid-col-lg-16-8 ibm-grid-col-seamless\">\\n                \\n\\n\\n\\n\\n<div class=\"ibm-duo-module-11a-double ibm-duo-module-11a-double__item ibm-background-gray-100\">\\n      <div class=\"ibm-duo-module-11a-double__bg  ani-reveal ani-fadeInUp\" style=\"background-image:url(\\'//1.cms.s81c.com/sites/default/files/2021-08-17/720x656-abn.jpg\\')\" role=\"img\" aria-label=\"\"></div>\\n  \\n  <div class=\"ibm-grid-container ibm-duo-module-11a-double__content\">\\n    <div class=\"ibm-grid-col-sm-4-4 ibm-grid-col-md-8-8 ibm-grid-col-lg-16-10\">\\n              <div class=\"ibm-grid-col-sm-4-3 ibm-grid-col-md-8-6 ibm-grid-col-lg-16-16 ibm-grid-col-seamless\">\\n          <h2 class=\"bx--type-expressive-heading-05 ibm-type-light ibm-textcolor-gray-10 ibm-mb-3 ibm-pb-0 ibm-duo-module-11a-double__headline ani-reveal ani-fadeInUp\">\\n                <span > Just ask Anna</span>\\n\\n          </h2>\\n        </div>\\n      \\n              <div class=\"ibm-grid-col-sm-4-3 ibm-grid-col-md-8-6 ibm-grid-col-lg-16-12 ibm-grid-col-seamless\">\\n          <div class=\"bx--type-body-long-02 ibm-textcolor-gray-30 ibm-mb-0 ibm-duo-module-11a-double__subhead ibm-pb-1 ani-reveal ani-fadeInUp\">\\n                        <p>ABN AMRO advances its digital transformation with virtual agents</p>\\n      \\n          </div>\\n        </div>\\n          </div>\\n  </div>\\n\\n      <div class=\"ibm-duo-module-11a-double__cta\">\\n      <div class=\"ibm-grid-container\">\\n        <div class=\"ibm-grid-col-sm-4-2 ibm-grid-col-md-8-4 ibm-grid-col-lg-16-8\"></div>\\n        <div class=\"ibm-grid-col-sm-4-2 ibm-grid-col-md-8-4 ibm-grid-col-lg-16-8 ibm-duo-module-11a-double__cta-wrapper\">\\n          \\n\\n        \\n  \\n  \\n  \\n\\n\\n\\n\\n  <a  target=\"_self\" href=\"https://www.ibm.com/case-studies/abn-amro-bank?lnk=hpv18cs2\" class=\"ibm-duo-cta ani-reveal ani-fadeInUp\">\\n    <p class=\\'ibm-type-e ibm-textcolor-white-core ibm-p ibm-mb-0\\'>See how conversational AI improves the digital banking experience</p>\\n    <div class=\"ibm-duo-u--link-icon\">\\n      \\n    \\n        \\n\\n                      <svg focusable=\"false\" class=\"ibm-duo-u--link-icon--arrow-right\" preserveAspectRatio=\"xMidYMid meet\" xmlns=\"http://www.w3.org/2000/svg\" fill=\"currentColor\" aria-hidden=\"true\" aria-label=\"View this link\" width=\"20\" height=\"20\" viewBox=\"0 0 20 20\" slot=\"icon\"><path d=\"M11.8 2.8L10.8 3.8 16.2 9.3 1 9.3 1 10.7 16.2 10.7 10.8 16.2 11.8 17.2 19 10z\"></path></svg>\\n          \\n    \\n    </div>\\n  </a>\\n\\n\\n        </div>\\n      </div>\\n    </div>\\n  </div>\\n\\n\\n            </div>\\n              <div>\\n      </section>\\n\\n      \\n          </div>\\n\\n        </div>       </div>     </div>   </div> </main>\\n\\n  </div>\\n\\n  </div>\\n\\n  </div>\\n    <footer role=\"contentinfo\" aria-label=\"IBM\">\\n      <div class=\"region region-footer\">\\n    \\n\\n<div id=\"ibm-footer-module\">\\n    <section role=\"region\" aria-label=\"Resources\">\\n\\n            <div class=\"ibm-columns\">\\n              </div>\\n      \\n        \\n    </section>\\n\\n</div>\\n\\n\\n<div id=\"ibm-footer\">\\n\\n    <div class=\"ibm-columns\">\\n      <div class=\"ibm-col-1-1\">\\n                  <div class=\"ibm-footer-corporate-links\">\\n            <ul>\\n                            <li id=\"ibm-truste-cp\">\\n                <a href=\"#\" onclick=\"truste.eu.clickListener();return false;\">Cookie preferences</a>\\n              </li>\\n            </ul>\\n          </div>\\n        \\n                </div>\\n    </div>\\n\\n</div>\\n\\n  </div>\\n\\n  </footer>\\n  \\n</div>\\n\\n  </div>\\n\\n    \\n    <script type=\"application/json\" data-drupal-selector=\"drupal-settings-json\">{\"path\":{\"baseUrl\":\"\\\\/\",\"scriptPath\":null,\"pathPrefix\":\"nl-en\\\\/\",\"currentPath\":\"node\\\\/2598578\",\"currentPathIsAdmin\":false,\"isFront\":false,\"currentLanguage\":\"en-nl\"},\"pluralDelimiter\":\"\\\\u0003\",\"suppressDeprecationErrors\":true,\"ajaxPageState\":{\"libraries\":\"hc_fractal\\\\/01-1b,hc_fractal\\\\/02-2b,hc_fractal\\\\/05-5e,hc_fractal\\\\/11-11a-double,hc_fractal\\\\/12-12a,hc_fractal\\\\/animations,hc_fractal\\\\/card,hc_fractal\\\\/card-image,hc_fractal\\\\/full-width-double,hc_fractal\\\\/full-width-text,hc_fractal\\\\/heading,hc_fractal\\\\/image,hc_fractal\\\\/main_css,hc_fractal\\\\/main_js,hc_fractal\\\\/picturefill_background,hc_fractal\\\\/slick,ibm_ckeditor\\\\/ibm_ckeditor_table_style,ibm_duo\\\\/ibm_duo,ibm_tmgmt_concurrency\\\\/ibm_tmgmt_concurrency_messaging,ibm_tmgmt_concurrency\\\\/ibm_tmgmt_concurrency_publisher,ibm_tmgmt_concurrency\\\\/ibm_tmgmt_concurrency_publisher_finish,metadata\\\\/focus_area,northstar\\\\/font,northstar\\\\/grid-fluid,northstar\\\\/shame,northstar\\\\/stats,northstar\\\\/tables,system\\\\/base,tactic_codes\\\\/tactic_codes\",\"theme\":\"ibm_duo\",\"theme_token\":\"GZrQnFcMb9ZWY1ASB5fdKsrprjPlofHIbEdM9XhPXnQ\"},\"ajaxTrustedUrl\":[],\"ibm_tmgmt_concurrency_publisher\":{\"nid\":\"2598578\",\"language\":\"en-nl\",\"submit_button\":\"#edit-submit\",\"form\":\"#content-moderation-entity-moderation-form\",\"route\":\"entity.node.canonical\"},\"user\":{\"uid\":0,\"permissionsHash\":\"38c521f2e73acba97a244c38ca669a8077be690dd45b09557a61cf00896ec935\"}}</script>\\n<script src=\"//1.cms.s81c.com/sites/default/files/js/js_P8-xl8MDsjn0l2X5M-qJaHxICcDZeZl2rLszwy-vd34.js\"></script>\\n<script src=\"//www.ibm.com/common/digitaladvisor/cm-app/latest/cm-app.min.js\" defer></script>\\n<script src=\"//1.www.s81c.com/common/v18/drupal/js/tables.js\" defer></script>\\n<script src=\"//1.cms.s81c.com/modules/contrib/hc_fractal/dist/js/interactions.js?v=1.1.11\" defer></script>\\n<script src=\"//1.cms.s81c.com/modules/contrib/hc_fractal/dist/js/background-image-lazy-load.js?v=1.1.11\" defer></script>\\n<script src=\"//1.cms.s81c.com/modules/contrib/hc_fractal/dist/js/v18-widgets.js?v=1.1.11\" defer></script>\\n<script src=\"//1.www.s81c.com/common/js/tactic.js\" defer></script>\\n<script src=\"//1.www.s81c.com/common/js/tacticbindlinks.js\" defer></script>\\n<script src=\"//1.cms.s81c.com/sites/default/files/js/js_W_bHvUagE3lFYZ970giSXaOtloIBMvGEE_Phl54d5lY.js\"></script>\\n<script src=\"//1.cms.s81c.com/modules/contrib/hc_fractal/dist/js/slick-sliders.js?v=1.1.17\" defer></script>\\n<script src=\"//1.cms.s81c.com/modules/contrib/hc_fractal/dist/js/plugins/picturefill-background.js?v=1.1.10\" defer></script>\\n\\n      <script type=\"text/javascript\"  src=\"/fdJi/ntPD/IS/fUOk/EgfQ/hEiEXNDz/R3weTgo7RAE/CQ/deQR9pKR0B\"></script></body>\\n</html>\\n'"
            ]
          },
          "metadata": {},
          "execution_count": 51
        }
      ]
    },
    {
      "cell_type": "markdown",
      "metadata": {
        "id": "VmTLvaZ9S4Sd"
      },
      "source": [
        "We create a <code>BeautifulSoup</code> object using the <code>BeautifulSoup</code> constructor\n"
      ]
    },
    {
      "cell_type": "code",
      "metadata": {
        "id": "p-2t22cUS4Sd"
      },
      "source": [
        "soup = BeautifulSoup(data,\"html.parser\")  # create a soup object using the variable 'data'"
      ],
      "execution_count": 52,
      "outputs": []
    },
    {
      "cell_type": "markdown",
      "metadata": {
        "id": "udPYjXuZS4Sd"
      },
      "source": [
        "Scrape all links\n"
      ]
    },
    {
      "cell_type": "code",
      "metadata": {
        "colab": {
          "base_uri": "https://localhost:8080/"
        },
        "id": "Jvt1WzLSS4Sd",
        "outputId": "9e465e29-a3ac-430c-9663-54c44ba9d38c"
      },
      "source": [
        "for link in soup.find_all('a',href=True):  # in html anchor/link is represented by the tag <a>\n",
        "\n",
        "    print(link.get('href'))\n"
      ],
      "execution_count": 53,
      "outputs": [
        {
          "output_type": "stream",
          "name": "stdout",
          "text": [
            "https://www.ibm.com/nl/en\n",
            "https://www.ibm.com/sitemap/nl/en\n",
            "https://www.ibm.com/nl-en/cloud/automation/mayflower-autonomous-ship?lnk=nlhpv18l1\n",
            "https://www.ibm.com/nl-en/campaign/employment?lnk=nlhpv18nf1\n",
            "https://www.ibm.com/nl-en/events/think-summit/?lnk=nlhpv18f1\n",
            "https://www.ibm.com/nl-en/consulting?lnk=nlhpv18f2\n",
            "https://www.ibm.com/nl-en/marketing/this-is-ibm?lnk=nlhpv18f3\n",
            "/nl-en/financing/pre-owned/ibm-certified-used-equipment?nlhpv18f4=\n",
            "/nl-en/products/offers-and-discounts?lnk=hpv18t5\n",
            "https://www.ibm.com/cloud/watson-assistant?lnk=nlhpv18t1\n",
            "https://www.ibm.com/nl-en/cloud/satellite?lnk=nlhpv18t2\n",
            "https://www.ibm.com/nl-en/cloud/sap?lnk=nlhpv18t3\n",
            "https://www.ibm.com/cloud/blog/announcements/ibm-cloud-for-vmware-special-promotion?lnk=nlhpv18t4\n",
            "https://developer.ibm.com/depmodels/cloud/?lnk=hpv18ct16\n",
            "https://developer.ibm.com/technologies/artificial-intelligence?lnk=hpv18ct19\n",
            "https://www.ibm.com/demos/?lnk=hpv18ct12\n",
            "https://developer.ibm.com/?lnk=hpv18ct9\n",
            "https://www.ibm.com/docs/en?lnk=hpv18ct14\n",
            "https://www.redbooks.ibm.com/?lnk=ushpv18ct10\n",
            "https://www.ibm.com/support/home/?lnk=hpv18ct11\n",
            "https://www.ibm.com/training/?lnk=hpv18ct15\n",
            "/cloud/hybrid?lnk=hpv18pt14\n",
            "/cloud/learn/public-cloud?lnk=hpv18ct1\n",
            "/watson?lnk=ushpv18pt17\n",
            "/garage?lnk=hpv18pt13\n",
            "/blockchain?lnk=hpv18pt4\n",
            "https://www.ibm.com/thought-leadership/institute-business-value/?lnk=hpv18pt12\n",
            "/analytics?lnk=hpv18pt1\n",
            "/security?lnk=hpv18pt9\n",
            "/financing?lnk=hpv18pt3\n",
            "https://www.ibm.com/quantum-computing?lnk=hpv18pt16\n",
            "/cloud/hybrid?lnk=hpv18ct20\n",
            "/cloud/learn/public-cloud?lnk=hpv18ct1\n",
            "/cloud/redhat?lnk=hpv18ct13\n",
            "/watson?lnk=hpv18ct3\n",
            "https://www.ibm.com/quantum-computing?lnk=hpv18ct18\n",
            "/cloud/learn/kubernetes?lnk=hpv18ct8\n",
            "/products/spss-statistics?lnk=ushpv18ct7\n",
            "/blockchain?lnk=hpv18ct1\n",
            "https://www.ibm.com/employment?lnk=hpv18ct2\n",
            "https://www.ibm.com/blogs/think/be-en/2021/07/09/identify-the-right-mvp-use-case/?lnk=hpv18cs1\n",
            "https://www.ibm.com/case-studies/abn-amro-bank?lnk=hpv18cs2\n",
            "#\n"
          ]
        }
      ]
    },
    {
      "cell_type": "markdown",
      "metadata": {
        "id": "evhMeEM-S4Sd"
      },
      "source": [
        "## Scrape  all images  Tags\n"
      ]
    },
    {
      "cell_type": "code",
      "metadata": {
        "colab": {
          "base_uri": "https://localhost:8080/"
        },
        "id": "gmWUN01US4Se",
        "outputId": "b133bda8-022d-41b4-bd99-b5e22d469b42"
      },
      "source": [
        "for link in soup.find_all('img'):# in html image is represented by the tag <img>\n",
        "    print(link)\n",
        "    print(link.get('src'))"
      ],
      "execution_count": 54,
      "outputs": [
        {
          "output_type": "stream",
          "name": "stdout",
          "text": [
            "<img alt=\"Image with Think logo in green and purpple\" class=\"\" loading=\"lazy\" src=\"//1.cms.s81c.com/sites/default/files/2021-11-08/Landing_Page_Banner_444x320%20without%20IBM%20logo.jpg\"/>\n",
            "//1.cms.s81c.com/sites/default/files/2021-11-08/Landing_Page_Banner_444x320%20without%20IBM%20logo.jpg\n",
            "<img alt=\"Pictures of various people\" class=\"\" loading=\"lazy\" src=\"//1.cms.s81c.com/sites/default/files/2021-11-09/IBM%20consulting.gif\"/>\n",
            "//1.cms.s81c.com/sites/default/files/2021-11-09/IBM%20consulting.gif\n",
            "<img alt=\"picture collage with cards representing people activities\" class=\"\" loading=\"lazy\" src=\"//1.cms.s81c.com/sites/default/files/2021-04-20/This%20is%20IBM.jpg\"/>\n",
            "//1.cms.s81c.com/sites/default/files/2021-04-20/This%20is%20IBM.jpg\n",
            "<img alt=\"People walking on a bridge in the nature\" class=\"\" loading=\"lazy\" src=\"//1.cms.s81c.com/sites/default/files/2021-04-20/ICPO-Environmental-HP-2.jpg\"/>\n",
            "//1.cms.s81c.com/sites/default/files/2021-04-20/ICPO-Environmental-HP-2.jpg\n",
            "<img alt=\"Screenshot of the IBM Watson Assistant template\" class=\"\" loading=\"lazy\" src=\"//1.cms.s81c.com/sites/default/files/2021-08-17/Watson-Assistant-23212-700x420_0.png\"/>\n",
            "//1.cms.s81c.com/sites/default/files/2021-08-17/Watson-Assistant-23212-700x420_0.png\n",
            "<img alt=\"Screenshot of IBM Cloud Satellite template\" class=\"\" loading=\"lazy\" src=\"//1.cms.s81c.com/sites/default/files/2021-07-30/Satellite-Template-444x254-%281%29_0.jpg\"/>\n",
            "//1.cms.s81c.com/sites/default/files/2021-07-30/Satellite-Template-444x254-%281%29_0.jpg\n",
            "<img alt=\"Screenshot of SAP on IBM Cloud page\" class=\"\" loading=\"lazy\" src=\"//1.cms.s81c.com/sites/default/files/2021-07-30/SAP-Template-444x254-%281%29_0.jpg\"/>\n",
            "//1.cms.s81c.com/sites/default/files/2021-07-30/SAP-Template-444x254-%281%29_0.jpg\n",
            "<img alt=\"Screenshot of VMware template\" class=\"\" loading=\"lazy\" src=\"//1.cms.s81c.com/sites/default/files/2021-07-30/VM-Template-444x254-%281%29_0.jpg\"/>\n",
            "//1.cms.s81c.com/sites/default/files/2021-07-30/VM-Template-444x254-%281%29_0.jpg\n"
          ]
        }
      ]
    },
    {
      "cell_type": "markdown",
      "metadata": {
        "id": "sqZ-92eoS4Se"
      },
      "source": [
        "## Scrape data from HTML tables\n"
      ]
    },
    {
      "cell_type": "code",
      "metadata": {
        "id": "no508sjkS4Se"
      },
      "source": [
        "#The below url contains an html table with data about colors and color codes.\n",
        "url = \"https://cf-courses-data.s3.us.cloud-object-storage.appdomain.cloud/IBM-DA0321EN-SkillsNetwork/labs/datasets/HTMLColorCodes.html\""
      ],
      "execution_count": 55,
      "outputs": []
    },
    {
      "cell_type": "markdown",
      "metadata": {
        "id": "AO0JHcIVS4Se"
      },
      "source": [
        "Before proceeding to scrape a web site, you need to examine the contents, and the way data is organized on the website. Open the above url in your browser and check how many rows and columns are there in the color table.\n"
      ]
    },
    {
      "cell_type": "code",
      "metadata": {
        "id": "ccIIgTQyS4Se"
      },
      "source": [
        "# get the contents of the webpage in text format and store in a variable called data\n",
        "data  = requests.get(url).text"
      ],
      "execution_count": 56,
      "outputs": []
    },
    {
      "cell_type": "code",
      "metadata": {
        "id": "jjztc0RYS4Se"
      },
      "source": [
        "soup = BeautifulSoup(data,\"html.parser\")"
      ],
      "execution_count": 57,
      "outputs": []
    },
    {
      "cell_type": "code",
      "metadata": {
        "id": "m0A3EPeKS4Se"
      },
      "source": [
        "#find a html table in the web page\n",
        "table = soup.find('table') # in html table is represented by the tag <table>"
      ],
      "execution_count": 58,
      "outputs": []
    },
    {
      "cell_type": "code",
      "metadata": {
        "colab": {
          "base_uri": "https://localhost:8080/"
        },
        "id": "X20O2FRLS4Sf",
        "outputId": "45c34bc8-aa25-4882-8869-8623bfec551e"
      },
      "source": [
        "#Get all rows from the table\n",
        "for row in table.find_all('tr'): # in html table row is represented by the tag <tr>\n",
        "    # Get all columns in each row.\n",
        "    cols = row.find_all('td') # in html a column is represented by the tag <td>\n",
        "    color_name = cols[2].string # store the value in column 3 as color_name\n",
        "    color_code = cols[3].string # store the value in column 4 as color_code\n",
        "    print(\"{}--->{}\".format(color_name,color_code))"
      ],
      "execution_count": 59,
      "outputs": [
        {
          "output_type": "stream",
          "name": "stdout",
          "text": [
            "Color Name--->None\n",
            "lightsalmon--->#FFA07A\n",
            "salmon--->#FA8072\n",
            "darksalmon--->#E9967A\n",
            "lightcoral--->#F08080\n",
            "coral--->#FF7F50\n",
            "tomato--->#FF6347\n",
            "orangered--->#FF4500\n",
            "gold--->#FFD700\n",
            "orange--->#FFA500\n",
            "darkorange--->#FF8C00\n",
            "lightyellow--->#FFFFE0\n",
            "lemonchiffon--->#FFFACD\n",
            "papayawhip--->#FFEFD5\n",
            "moccasin--->#FFE4B5\n",
            "peachpuff--->#FFDAB9\n",
            "palegoldenrod--->#EEE8AA\n",
            "khaki--->#F0E68C\n",
            "darkkhaki--->#BDB76B\n",
            "yellow--->#FFFF00\n",
            "lawngreen--->#7CFC00\n",
            "chartreuse--->#7FFF00\n",
            "limegreen--->#32CD32\n",
            "lime--->#00FF00\n",
            "forestgreen--->#228B22\n",
            "green--->#008000\n",
            "powderblue--->#B0E0E6\n",
            "lightblue--->#ADD8E6\n",
            "lightskyblue--->#87CEFA\n",
            "skyblue--->#87CEEB\n",
            "deepskyblue--->#00BFFF\n",
            "lightsteelblue--->#B0C4DE\n",
            "dodgerblue--->#1E90FF\n"
          ]
        }
      ]
    },
    {
      "cell_type": "markdown",
      "metadata": {
        "id": "N9SPezQxS4Sf"
      },
      "source": [
        "## Scrape data from HTML tables into a DataFrame using BeautifulSoup and Pandas\n"
      ]
    },
    {
      "cell_type": "code",
      "metadata": {
        "id": "H55uLL2nS4Sf"
      },
      "source": [
        "import pandas as pd"
      ],
      "execution_count": 60,
      "outputs": []
    },
    {
      "cell_type": "code",
      "metadata": {
        "id": "6RgfklheS4Sf"
      },
      "source": [
        "#The below url contains html tables with data about world population.\n",
        "url = \"https://en.wikipedia.org/wiki/World_population\""
      ],
      "execution_count": 61,
      "outputs": []
    },
    {
      "cell_type": "markdown",
      "metadata": {
        "id": "bQ9BczsgS4Sf"
      },
      "source": [
        "Before proceeding to scrape a web site, you need to examine the contents, and the way data is organized on the website. Open the above url in your browser and check the tables on the webpage.\n"
      ]
    },
    {
      "cell_type": "code",
      "metadata": {
        "id": "ktb2ySYAS4Sf"
      },
      "source": [
        "# get the contents of the webpage in text format and store in a variable called data\n",
        "data  = requests.get(url).text"
      ],
      "execution_count": 62,
      "outputs": []
    },
    {
      "cell_type": "code",
      "metadata": {
        "id": "ZNDrmxSES4Sg"
      },
      "source": [
        "soup = BeautifulSoup(data,\"html.parser\")"
      ],
      "execution_count": 63,
      "outputs": []
    },
    {
      "cell_type": "code",
      "metadata": {
        "id": "_cBzuny3S4Sg"
      },
      "source": [
        "#find all html tables in the web page\n",
        "tables = soup.find_all('table') # in html table is represented by the tag <table>"
      ],
      "execution_count": 64,
      "outputs": []
    },
    {
      "cell_type": "code",
      "metadata": {
        "colab": {
          "base_uri": "https://localhost:8080/"
        },
        "id": "id54uYSrS4Sg",
        "outputId": "f3a66825-9ee0-4c56-b98a-24ece695149b"
      },
      "source": [
        "# we can see how many tables were found by checking the length of the tables list\n",
        "len(tables)"
      ],
      "execution_count": 65,
      "outputs": [
        {
          "output_type": "execute_result",
          "data": {
            "text/plain": [
              "26"
            ]
          },
          "metadata": {},
          "execution_count": 65
        }
      ]
    },
    {
      "cell_type": "markdown",
      "metadata": {
        "id": "QLa8IGj8S4Sg"
      },
      "source": [
        "Assume that we are looking for the `10 most densly populated countries` table, we can look through the tables list and find the right one we are look for based on the data in each table or we can search for the table name if it is in the table but this option might not always work.\n"
      ]
    },
    {
      "cell_type": "code",
      "metadata": {
        "colab": {
          "base_uri": "https://localhost:8080/"
        },
        "id": "K4fX25bCS4Sg",
        "outputId": "0226112f-92e5-490d-f20d-aff894f9081a"
      },
      "source": [
        "for index,table in enumerate(tables):\n",
        "    if (\"10 most densely populated countries\" in str(table)):\n",
        "        table_index = index\n",
        "print(table_index)"
      ],
      "execution_count": 66,
      "outputs": [
        {
          "output_type": "stream",
          "name": "stdout",
          "text": [
            "5\n"
          ]
        }
      ]
    },
    {
      "cell_type": "markdown",
      "metadata": {
        "id": "IbGthhwZS4Sh"
      },
      "source": [
        "See if you can locate the table name of the table, `10 most densly populated countries`, below.\n"
      ]
    },
    {
      "cell_type": "code",
      "metadata": {
        "colab": {
          "base_uri": "https://localhost:8080/"
        },
        "id": "R9h4IZP1S4Sh",
        "outputId": "19caa212-352f-4024-dc41-4caf8da638a4"
      },
      "source": [
        "print(tables[table_index].prettify())"
      ],
      "execution_count": 67,
      "outputs": [
        {
          "output_type": "stream",
          "name": "stdout",
          "text": [
            "<table class=\"wikitable sortable\" style=\"text-align:right\">\n",
            " <caption>\n",
            "  10 most densely populated countries\n",
            "  <small>\n",
            "   (with population above 5 million)\n",
            "  </small>\n",
            " </caption>\n",
            " <tbody>\n",
            "  <tr>\n",
            "   <th>\n",
            "    Rank\n",
            "   </th>\n",
            "   <th>\n",
            "    Country\n",
            "   </th>\n",
            "   <th>\n",
            "    Population\n",
            "   </th>\n",
            "   <th>\n",
            "    Area\n",
            "    <br/>\n",
            "    <small>\n",
            "     (km\n",
            "     <sup>\n",
            "      2\n",
            "     </sup>\n",
            "     )\n",
            "    </small>\n",
            "   </th>\n",
            "   <th>\n",
            "    Density\n",
            "    <br/>\n",
            "    <small>\n",
            "     (pop/km\n",
            "     <sup>\n",
            "      2\n",
            "     </sup>\n",
            "     )\n",
            "    </small>\n",
            "   </th>\n",
            "  </tr>\n",
            "  <tr>\n",
            "   <td>\n",
            "    1\n",
            "   </td>\n",
            "   <td align=\"left\">\n",
            "    <span class=\"flagicon\">\n",
            "     <img alt=\"\" class=\"thumbborder\" data-file-height=\"600\" data-file-width=\"900\" decoding=\"async\" height=\"15\" src=\"//upload.wikimedia.org/wikipedia/commons/thumb/4/48/Flag_of_Singapore.svg/23px-Flag_of_Singapore.svg.png\" srcset=\"//upload.wikimedia.org/wikipedia/commons/thumb/4/48/Flag_of_Singapore.svg/35px-Flag_of_Singapore.svg.png 1.5x, //upload.wikimedia.org/wikipedia/commons/thumb/4/48/Flag_of_Singapore.svg/45px-Flag_of_Singapore.svg.png 2x\" width=\"23\"/>\n",
            "    </span>\n",
            "    <a href=\"/wiki/Singapore\" title=\"Singapore\">\n",
            "     Singapore\n",
            "    </a>\n",
            "   </td>\n",
            "   <td>\n",
            "    5,704,000\n",
            "   </td>\n",
            "   <td>\n",
            "    710\n",
            "   </td>\n",
            "   <td>\n",
            "    8,033\n",
            "   </td>\n",
            "  </tr>\n",
            "  <tr>\n",
            "   <td>\n",
            "    2\n",
            "   </td>\n",
            "   <td align=\"left\">\n",
            "    <span class=\"flagicon\">\n",
            "     <img alt=\"\" class=\"thumbborder\" data-file-height=\"600\" data-file-width=\"1000\" decoding=\"async\" height=\"14\" src=\"//upload.wikimedia.org/wikipedia/commons/thumb/f/f9/Flag_of_Bangladesh.svg/23px-Flag_of_Bangladesh.svg.png\" srcset=\"//upload.wikimedia.org/wikipedia/commons/thumb/f/f9/Flag_of_Bangladesh.svg/35px-Flag_of_Bangladesh.svg.png 1.5x, //upload.wikimedia.org/wikipedia/commons/thumb/f/f9/Flag_of_Bangladesh.svg/46px-Flag_of_Bangladesh.svg.png 2x\" width=\"23\"/>\n",
            "    </span>\n",
            "    <a href=\"/wiki/Bangladesh\" title=\"Bangladesh\">\n",
            "     Bangladesh\n",
            "    </a>\n",
            "   </td>\n",
            "   <td>\n",
            "    171,790,000\n",
            "   </td>\n",
            "   <td>\n",
            "    143,998\n",
            "   </td>\n",
            "   <td>\n",
            "    1,193\n",
            "   </td>\n",
            "  </tr>\n",
            "  <tr>\n",
            "   <td>\n",
            "    3\n",
            "   </td>\n",
            "   <td align=\"left\">\n",
            "    <p>\n",
            "     <span class=\"flagicon\">\n",
            "      <img alt=\"\" class=\"thumbborder\" data-file-height=\"600\" data-file-width=\"1200\" decoding=\"async\" height=\"12\" src=\"//upload.wikimedia.org/wikipedia/commons/thumb/0/00/Flag_of_Palestine.svg/23px-Flag_of_Palestine.svg.png\" srcset=\"//upload.wikimedia.org/wikipedia/commons/thumb/0/00/Flag_of_Palestine.svg/35px-Flag_of_Palestine.svg.png 1.5x, //upload.wikimedia.org/wikipedia/commons/thumb/0/00/Flag_of_Palestine.svg/46px-Flag_of_Palestine.svg.png 2x\" width=\"23\"/>\n",
            "     </span>\n",
            "     <a href=\"/wiki/State_of_Palestine\" title=\"State of Palestine\">\n",
            "      Palestine\n",
            "     </a>\n",
            "    </p>\n",
            "   </td>\n",
            "   <td>\n",
            "    5,266,785\n",
            "   </td>\n",
            "   <td>\n",
            "    6,020\n",
            "   </td>\n",
            "   <td>\n",
            "    847\n",
            "   </td>\n",
            "  </tr>\n",
            "  <tr>\n",
            "   <td>\n",
            "    4\n",
            "   </td>\n",
            "   <td align=\"left\">\n",
            "    <span class=\"flagicon\">\n",
            "     <img alt=\"\" class=\"thumbborder\" data-file-height=\"600\" data-file-width=\"900\" decoding=\"async\" height=\"15\" src=\"//upload.wikimedia.org/wikipedia/commons/thumb/5/59/Flag_of_Lebanon.svg/23px-Flag_of_Lebanon.svg.png\" srcset=\"//upload.wikimedia.org/wikipedia/commons/thumb/5/59/Flag_of_Lebanon.svg/35px-Flag_of_Lebanon.svg.png 1.5x, //upload.wikimedia.org/wikipedia/commons/thumb/5/59/Flag_of_Lebanon.svg/45px-Flag_of_Lebanon.svg.png 2x\" width=\"23\"/>\n",
            "    </span>\n",
            "    <a href=\"/wiki/Lebanon\" title=\"Lebanon\">\n",
            "     Lebanon\n",
            "    </a>\n",
            "   </td>\n",
            "   <td>\n",
            "    6,856,000\n",
            "   </td>\n",
            "   <td>\n",
            "    10,452\n",
            "   </td>\n",
            "   <td>\n",
            "    656\n",
            "   </td>\n",
            "  </tr>\n",
            "  <tr>\n",
            "   <td>\n",
            "    5\n",
            "   </td>\n",
            "   <td align=\"left\">\n",
            "    <span class=\"flagicon\">\n",
            "     <img alt=\"\" class=\"thumbborder\" data-file-height=\"600\" data-file-width=\"900\" decoding=\"async\" height=\"15\" src=\"//upload.wikimedia.org/wikipedia/commons/thumb/7/72/Flag_of_the_Republic_of_China.svg/23px-Flag_of_the_Republic_of_China.svg.png\" srcset=\"//upload.wikimedia.org/wikipedia/commons/thumb/7/72/Flag_of_the_Republic_of_China.svg/35px-Flag_of_the_Republic_of_China.svg.png 1.5x, //upload.wikimedia.org/wikipedia/commons/thumb/7/72/Flag_of_the_Republic_of_China.svg/45px-Flag_of_the_Republic_of_China.svg.png 2x\" width=\"23\"/>\n",
            "    </span>\n",
            "    <a href=\"/wiki/Taiwan\" title=\"Taiwan\">\n",
            "     Taiwan\n",
            "    </a>\n",
            "   </td>\n",
            "   <td>\n",
            "    23,604,000\n",
            "   </td>\n",
            "   <td>\n",
            "    36,193\n",
            "   </td>\n",
            "   <td>\n",
            "    652\n",
            "   </td>\n",
            "  </tr>\n",
            "  <tr>\n",
            "   <td>\n",
            "    6\n",
            "   </td>\n",
            "   <td align=\"left\">\n",
            "    <span class=\"flagicon\">\n",
            "     <img alt=\"\" class=\"thumbborder\" data-file-height=\"600\" data-file-width=\"900\" decoding=\"async\" height=\"15\" src=\"//upload.wikimedia.org/wikipedia/commons/thumb/0/09/Flag_of_South_Korea.svg/23px-Flag_of_South_Korea.svg.png\" srcset=\"//upload.wikimedia.org/wikipedia/commons/thumb/0/09/Flag_of_South_Korea.svg/35px-Flag_of_South_Korea.svg.png 1.5x, //upload.wikimedia.org/wikipedia/commons/thumb/0/09/Flag_of_South_Korea.svg/45px-Flag_of_South_Korea.svg.png 2x\" width=\"23\"/>\n",
            "    </span>\n",
            "    <a href=\"/wiki/South_Korea\" title=\"South Korea\">\n",
            "     South Korea\n",
            "    </a>\n",
            "   </td>\n",
            "   <td>\n",
            "    51,781,000\n",
            "   </td>\n",
            "   <td>\n",
            "    99,538\n",
            "   </td>\n",
            "   <td>\n",
            "    520\n",
            "   </td>\n",
            "  </tr>\n",
            "  <tr>\n",
            "   <td>\n",
            "    7\n",
            "   </td>\n",
            "   <td align=\"left\">\n",
            "    <span class=\"flagicon\">\n",
            "     <img alt=\"\" class=\"thumbborder\" data-file-height=\"720\" data-file-width=\"1080\" decoding=\"async\" height=\"15\" src=\"//upload.wikimedia.org/wikipedia/commons/thumb/1/17/Flag_of_Rwanda.svg/23px-Flag_of_Rwanda.svg.png\" srcset=\"//upload.wikimedia.org/wikipedia/commons/thumb/1/17/Flag_of_Rwanda.svg/35px-Flag_of_Rwanda.svg.png 1.5x, //upload.wikimedia.org/wikipedia/commons/thumb/1/17/Flag_of_Rwanda.svg/45px-Flag_of_Rwanda.svg.png 2x\" width=\"23\"/>\n",
            "    </span>\n",
            "    <a href=\"/wiki/Rwanda\" title=\"Rwanda\">\n",
            "     Rwanda\n",
            "    </a>\n",
            "   </td>\n",
            "   <td>\n",
            "    12,374,000\n",
            "   </td>\n",
            "   <td>\n",
            "    26,338\n",
            "   </td>\n",
            "   <td>\n",
            "    470\n",
            "   </td>\n",
            "  </tr>\n",
            "  <tr>\n",
            "   <td>\n",
            "    8\n",
            "   </td>\n",
            "   <td align=\"left\">\n",
            "    <span class=\"flagicon\">\n",
            "     <img alt=\"\" class=\"thumbborder\" data-file-height=\"600\" data-file-width=\"1000\" decoding=\"async\" height=\"14\" src=\"//upload.wikimedia.org/wikipedia/commons/thumb/5/56/Flag_of_Haiti.svg/23px-Flag_of_Haiti.svg.png\" srcset=\"//upload.wikimedia.org/wikipedia/commons/thumb/5/56/Flag_of_Haiti.svg/35px-Flag_of_Haiti.svg.png 1.5x, //upload.wikimedia.org/wikipedia/commons/thumb/5/56/Flag_of_Haiti.svg/46px-Flag_of_Haiti.svg.png 2x\" width=\"23\"/>\n",
            "    </span>\n",
            "    <a href=\"/wiki/Haiti\" title=\"Haiti\">\n",
            "     Haiti\n",
            "    </a>\n",
            "   </td>\n",
            "   <td>\n",
            "    11,578,000\n",
            "   </td>\n",
            "   <td>\n",
            "    27,065\n",
            "   </td>\n",
            "   <td>\n",
            "    428\n",
            "   </td>\n",
            "  </tr>\n",
            "  <tr>\n",
            "   <td>\n",
            "    9\n",
            "   </td>\n",
            "   <td align=\"left\">\n",
            "    <span class=\"flagicon\">\n",
            "     <img alt=\"\" class=\"thumbborder\" data-file-height=\"600\" data-file-width=\"900\" decoding=\"async\" height=\"15\" src=\"//upload.wikimedia.org/wikipedia/commons/thumb/2/20/Flag_of_the_Netherlands.svg/23px-Flag_of_the_Netherlands.svg.png\" srcset=\"//upload.wikimedia.org/wikipedia/commons/thumb/2/20/Flag_of_the_Netherlands.svg/35px-Flag_of_the_Netherlands.svg.png 1.5x, //upload.wikimedia.org/wikipedia/commons/thumb/2/20/Flag_of_the_Netherlands.svg/45px-Flag_of_the_Netherlands.svg.png 2x\" width=\"23\"/>\n",
            "    </span>\n",
            "    <a href=\"/wiki/Netherlands\" title=\"Netherlands\">\n",
            "     Netherlands\n",
            "    </a>\n",
            "   </td>\n",
            "   <td>\n",
            "    17,660,000\n",
            "   </td>\n",
            "   <td>\n",
            "    41,526\n",
            "   </td>\n",
            "   <td>\n",
            "    425\n",
            "   </td>\n",
            "  </tr>\n",
            "  <tr>\n",
            "   <td>\n",
            "    10\n",
            "   </td>\n",
            "   <td align=\"left\">\n",
            "    <span class=\"flagicon\">\n",
            "     <img alt=\"\" class=\"thumbborder\" data-file-height=\"800\" data-file-width=\"1100\" decoding=\"async\" height=\"15\" src=\"//upload.wikimedia.org/wikipedia/commons/thumb/d/d4/Flag_of_Israel.svg/21px-Flag_of_Israel.svg.png\" srcset=\"//upload.wikimedia.org/wikipedia/commons/thumb/d/d4/Flag_of_Israel.svg/32px-Flag_of_Israel.svg.png 1.5x, //upload.wikimedia.org/wikipedia/commons/thumb/d/d4/Flag_of_Israel.svg/41px-Flag_of_Israel.svg.png 2x\" width=\"21\"/>\n",
            "    </span>\n",
            "    <a href=\"/wiki/Israel\" title=\"Israel\">\n",
            "     Israel\n",
            "    </a>\n",
            "   </td>\n",
            "   <td>\n",
            "    9,440,000\n",
            "   </td>\n",
            "   <td>\n",
            "    22,072\n",
            "   </td>\n",
            "   <td>\n",
            "    428\n",
            "   </td>\n",
            "  </tr>\n",
            " </tbody>\n",
            "</table>\n",
            "\n"
          ]
        }
      ]
    },
    {
      "cell_type": "code",
      "metadata": {
        "colab": {
          "base_uri": "https://localhost:8080/",
          "height": 363
        },
        "id": "nzKFbko2S4Sh",
        "outputId": "fbe48f91-42c5-4321-a8fb-b8b71fb568cc"
      },
      "source": [
        "population_data = pd.DataFrame(columns=[\"Rank\", \"Country\", \"Population\", \"Area\", \"Density\"])\n",
        "\n",
        "for row in tables[table_index].tbody.find_all(\"tr\"):\n",
        "    col = row.find_all(\"td\")\n",
        "    if (col != []):\n",
        "        rank = col[0].text\n",
        "        country = col[1].text\n",
        "        population = col[2].text.strip()\n",
        "        area = col[3].text.strip()\n",
        "        density = col[4].text.strip()\n",
        "        population_data = population_data.append({\"Rank\":rank, \"Country\":country, \"Population\":population, \"Area\":area, \"Density\":density}, ignore_index=True)\n",
        "\n",
        "population_data"
      ],
      "execution_count": 68,
      "outputs": [
        {
          "output_type": "execute_result",
          "data": {
            "text/html": [
              "<div>\n",
              "<style scoped>\n",
              "    .dataframe tbody tr th:only-of-type {\n",
              "        vertical-align: middle;\n",
              "    }\n",
              "\n",
              "    .dataframe tbody tr th {\n",
              "        vertical-align: top;\n",
              "    }\n",
              "\n",
              "    .dataframe thead th {\n",
              "        text-align: right;\n",
              "    }\n",
              "</style>\n",
              "<table border=\"1\" class=\"dataframe\">\n",
              "  <thead>\n",
              "    <tr style=\"text-align: right;\">\n",
              "      <th></th>\n",
              "      <th>Rank</th>\n",
              "      <th>Country</th>\n",
              "      <th>Population</th>\n",
              "      <th>Area</th>\n",
              "      <th>Density</th>\n",
              "    </tr>\n",
              "  </thead>\n",
              "  <tbody>\n",
              "    <tr>\n",
              "      <th>0</th>\n",
              "      <td>1</td>\n",
              "      <td>Singapore</td>\n",
              "      <td>5,704,000</td>\n",
              "      <td>710</td>\n",
              "      <td>8,033</td>\n",
              "    </tr>\n",
              "    <tr>\n",
              "      <th>1</th>\n",
              "      <td>2</td>\n",
              "      <td>Bangladesh</td>\n",
              "      <td>171,790,000</td>\n",
              "      <td>143,998</td>\n",
              "      <td>1,193</td>\n",
              "    </tr>\n",
              "    <tr>\n",
              "      <th>2</th>\n",
              "      <td>3</td>\n",
              "      <td>\\n Palestine\\n\\n</td>\n",
              "      <td>5,266,785</td>\n",
              "      <td>6,020</td>\n",
              "      <td>847</td>\n",
              "    </tr>\n",
              "    <tr>\n",
              "      <th>3</th>\n",
              "      <td>4</td>\n",
              "      <td>Lebanon</td>\n",
              "      <td>6,856,000</td>\n",
              "      <td>10,452</td>\n",
              "      <td>656</td>\n",
              "    </tr>\n",
              "    <tr>\n",
              "      <th>4</th>\n",
              "      <td>5</td>\n",
              "      <td>Taiwan</td>\n",
              "      <td>23,604,000</td>\n",
              "      <td>36,193</td>\n",
              "      <td>652</td>\n",
              "    </tr>\n",
              "    <tr>\n",
              "      <th>5</th>\n",
              "      <td>6</td>\n",
              "      <td>South Korea</td>\n",
              "      <td>51,781,000</td>\n",
              "      <td>99,538</td>\n",
              "      <td>520</td>\n",
              "    </tr>\n",
              "    <tr>\n",
              "      <th>6</th>\n",
              "      <td>7</td>\n",
              "      <td>Rwanda</td>\n",
              "      <td>12,374,000</td>\n",
              "      <td>26,338</td>\n",
              "      <td>470</td>\n",
              "    </tr>\n",
              "    <tr>\n",
              "      <th>7</th>\n",
              "      <td>8</td>\n",
              "      <td>Haiti</td>\n",
              "      <td>11,578,000</td>\n",
              "      <td>27,065</td>\n",
              "      <td>428</td>\n",
              "    </tr>\n",
              "    <tr>\n",
              "      <th>8</th>\n",
              "      <td>9</td>\n",
              "      <td>Netherlands</td>\n",
              "      <td>17,660,000</td>\n",
              "      <td>41,526</td>\n",
              "      <td>425</td>\n",
              "    </tr>\n",
              "    <tr>\n",
              "      <th>9</th>\n",
              "      <td>10</td>\n",
              "      <td>Israel</td>\n",
              "      <td>9,440,000</td>\n",
              "      <td>22,072</td>\n",
              "      <td>428</td>\n",
              "    </tr>\n",
              "  </tbody>\n",
              "</table>\n",
              "</div>"
            ],
            "text/plain": [
              "  Rank           Country   Population     Area Density\n",
              "0    1         Singapore    5,704,000      710   8,033\n",
              "1    2        Bangladesh  171,790,000  143,998   1,193\n",
              "2    3  \\n Palestine\\n\\n    5,266,785    6,020     847\n",
              "3    4           Lebanon    6,856,000   10,452     656\n",
              "4    5            Taiwan   23,604,000   36,193     652\n",
              "5    6       South Korea   51,781,000   99,538     520\n",
              "6    7            Rwanda   12,374,000   26,338     470\n",
              "7    8             Haiti   11,578,000   27,065     428\n",
              "8    9       Netherlands   17,660,000   41,526     425\n",
              "9   10            Israel    9,440,000   22,072     428"
            ]
          },
          "metadata": {},
          "execution_count": 68
        }
      ]
    },
    {
      "cell_type": "markdown",
      "metadata": {
        "id": "F-DDHoTPS4Sh"
      },
      "source": [
        "## Scrape data from HTML tables into a DataFrame using BeautifulSoup and read_html\n"
      ]
    },
    {
      "cell_type": "markdown",
      "metadata": {
        "id": "YS9FEZgdS4Sh"
      },
      "source": [
        "Using the same `url`, `data`, `soup`, and `tables` object as in the last section we can use the `read_html` function to create a DataFrame.\n",
        "\n",
        "Remember the table we need is located in `tables[table_index]`\n",
        "\n",
        "We can now use the `pandas` function `read_html` and give it the string version of the table as well as the `flavor` which is the parsing engine `bs4`.\n"
      ]
    },
    {
      "cell_type": "code",
      "metadata": {
        "colab": {
          "base_uri": "https://localhost:8080/"
        },
        "id": "kJ5Q50DPS4Sh",
        "outputId": "e4e374f4-29ca-4fc5-cc70-4f0e1a7c444d"
      },
      "source": [
        "pd.read_html(str(tables[5]), flavor='bs4')"
      ],
      "execution_count": 69,
      "outputs": [
        {
          "output_type": "execute_result",
          "data": {
            "text/plain": [
              "[   Rank      Country  Population  Area(km2)  Density(pop/km2)\n",
              " 0     1    Singapore     5704000        710              8033\n",
              " 1     2   Bangladesh   171790000     143998              1193\n",
              " 2     3    Palestine     5266785       6020               847\n",
              " 3     4      Lebanon     6856000      10452               656\n",
              " 4     5       Taiwan    23604000      36193               652\n",
              " 5     6  South Korea    51781000      99538               520\n",
              " 6     7       Rwanda    12374000      26338               470\n",
              " 7     8        Haiti    11578000      27065               428\n",
              " 8     9  Netherlands    17660000      41526               425\n",
              " 9    10       Israel     9440000      22072               428]"
            ]
          },
          "metadata": {},
          "execution_count": 69
        }
      ]
    },
    {
      "cell_type": "markdown",
      "metadata": {
        "id": "5LGT2PzCS4Si"
      },
      "source": [
        "The function `read_html` always returns a list of DataFrames so we must pick the one we want out of the list.\n"
      ]
    },
    {
      "cell_type": "code",
      "metadata": {
        "colab": {
          "base_uri": "https://localhost:8080/",
          "height": 363
        },
        "id": "IejxR3_SS4Si",
        "outputId": "e462bb21-68d6-415e-8f40-847dcfe782c3"
      },
      "source": [
        "population_data_read_html = pd.read_html(str(tables[5]), flavor='bs4')[0]\n",
        "\n",
        "population_data_read_html"
      ],
      "execution_count": 70,
      "outputs": [
        {
          "output_type": "execute_result",
          "data": {
            "text/html": [
              "<div>\n",
              "<style scoped>\n",
              "    .dataframe tbody tr th:only-of-type {\n",
              "        vertical-align: middle;\n",
              "    }\n",
              "\n",
              "    .dataframe tbody tr th {\n",
              "        vertical-align: top;\n",
              "    }\n",
              "\n",
              "    .dataframe thead th {\n",
              "        text-align: right;\n",
              "    }\n",
              "</style>\n",
              "<table border=\"1\" class=\"dataframe\">\n",
              "  <thead>\n",
              "    <tr style=\"text-align: right;\">\n",
              "      <th></th>\n",
              "      <th>Rank</th>\n",
              "      <th>Country</th>\n",
              "      <th>Population</th>\n",
              "      <th>Area(km2)</th>\n",
              "      <th>Density(pop/km2)</th>\n",
              "    </tr>\n",
              "  </thead>\n",
              "  <tbody>\n",
              "    <tr>\n",
              "      <th>0</th>\n",
              "      <td>1</td>\n",
              "      <td>Singapore</td>\n",
              "      <td>5704000</td>\n",
              "      <td>710</td>\n",
              "      <td>8033</td>\n",
              "    </tr>\n",
              "    <tr>\n",
              "      <th>1</th>\n",
              "      <td>2</td>\n",
              "      <td>Bangladesh</td>\n",
              "      <td>171790000</td>\n",
              "      <td>143998</td>\n",
              "      <td>1193</td>\n",
              "    </tr>\n",
              "    <tr>\n",
              "      <th>2</th>\n",
              "      <td>3</td>\n",
              "      <td>Palestine</td>\n",
              "      <td>5266785</td>\n",
              "      <td>6020</td>\n",
              "      <td>847</td>\n",
              "    </tr>\n",
              "    <tr>\n",
              "      <th>3</th>\n",
              "      <td>4</td>\n",
              "      <td>Lebanon</td>\n",
              "      <td>6856000</td>\n",
              "      <td>10452</td>\n",
              "      <td>656</td>\n",
              "    </tr>\n",
              "    <tr>\n",
              "      <th>4</th>\n",
              "      <td>5</td>\n",
              "      <td>Taiwan</td>\n",
              "      <td>23604000</td>\n",
              "      <td>36193</td>\n",
              "      <td>652</td>\n",
              "    </tr>\n",
              "    <tr>\n",
              "      <th>5</th>\n",
              "      <td>6</td>\n",
              "      <td>South Korea</td>\n",
              "      <td>51781000</td>\n",
              "      <td>99538</td>\n",
              "      <td>520</td>\n",
              "    </tr>\n",
              "    <tr>\n",
              "      <th>6</th>\n",
              "      <td>7</td>\n",
              "      <td>Rwanda</td>\n",
              "      <td>12374000</td>\n",
              "      <td>26338</td>\n",
              "      <td>470</td>\n",
              "    </tr>\n",
              "    <tr>\n",
              "      <th>7</th>\n",
              "      <td>8</td>\n",
              "      <td>Haiti</td>\n",
              "      <td>11578000</td>\n",
              "      <td>27065</td>\n",
              "      <td>428</td>\n",
              "    </tr>\n",
              "    <tr>\n",
              "      <th>8</th>\n",
              "      <td>9</td>\n",
              "      <td>Netherlands</td>\n",
              "      <td>17660000</td>\n",
              "      <td>41526</td>\n",
              "      <td>425</td>\n",
              "    </tr>\n",
              "    <tr>\n",
              "      <th>9</th>\n",
              "      <td>10</td>\n",
              "      <td>Israel</td>\n",
              "      <td>9440000</td>\n",
              "      <td>22072</td>\n",
              "      <td>428</td>\n",
              "    </tr>\n",
              "  </tbody>\n",
              "</table>\n",
              "</div>"
            ],
            "text/plain": [
              "   Rank      Country  Population  Area(km2)  Density(pop/km2)\n",
              "0     1    Singapore     5704000        710              8033\n",
              "1     2   Bangladesh   171790000     143998              1193\n",
              "2     3    Palestine     5266785       6020               847\n",
              "3     4      Lebanon     6856000      10452               656\n",
              "4     5       Taiwan    23604000      36193               652\n",
              "5     6  South Korea    51781000      99538               520\n",
              "6     7       Rwanda    12374000      26338               470\n",
              "7     8        Haiti    11578000      27065               428\n",
              "8     9  Netherlands    17660000      41526               425\n",
              "9    10       Israel     9440000      22072               428"
            ]
          },
          "metadata": {},
          "execution_count": 70
        }
      ]
    },
    {
      "cell_type": "markdown",
      "metadata": {
        "id": "g7yenIeMS4Si"
      },
      "source": [
        "## Scrape data from HTML tables into a DataFrame using read_html\n"
      ]
    },
    {
      "cell_type": "markdown",
      "metadata": {
        "id": "5JvkV7_wS4Si"
      },
      "source": [
        "We can also use the `read_html` function to directly get DataFrames from a `url`.\n"
      ]
    },
    {
      "cell_type": "code",
      "metadata": {
        "id": "b2yfqpcrS4Si"
      },
      "source": [
        "dataframe_list = pd.read_html(url, flavor='bs4')"
      ],
      "execution_count": 71,
      "outputs": []
    },
    {
      "cell_type": "markdown",
      "metadata": {
        "id": "w4FR32I8S4Si"
      },
      "source": [
        "We can see there are 25 DataFrames just like when we used `find_all` on the `soup` object.\n"
      ]
    },
    {
      "cell_type": "code",
      "metadata": {
        "colab": {
          "base_uri": "https://localhost:8080/"
        },
        "id": "Afjmqp7OS4Si",
        "outputId": "a4d0c860-bfac-421e-c9fa-d2f096ea0032"
      },
      "source": [
        "len(dataframe_list)"
      ],
      "execution_count": 72,
      "outputs": [
        {
          "output_type": "execute_result",
          "data": {
            "text/plain": [
              "26"
            ]
          },
          "metadata": {},
          "execution_count": 72
        }
      ]
    },
    {
      "cell_type": "markdown",
      "metadata": {
        "id": "2bHNxlLUS4Sj"
      },
      "source": [
        "Finally we can pick the DataFrame we need out of the list.\n"
      ]
    },
    {
      "cell_type": "code",
      "metadata": {
        "colab": {
          "base_uri": "https://localhost:8080/",
          "height": 363
        },
        "id": "VkgaISOuS4Sj",
        "outputId": "a58c6c58-1e20-4608-bb9f-d78c88ded22a"
      },
      "source": [
        "dataframe_list[5]"
      ],
      "execution_count": 73,
      "outputs": [
        {
          "output_type": "execute_result",
          "data": {
            "text/html": [
              "<div>\n",
              "<style scoped>\n",
              "    .dataframe tbody tr th:only-of-type {\n",
              "        vertical-align: middle;\n",
              "    }\n",
              "\n",
              "    .dataframe tbody tr th {\n",
              "        vertical-align: top;\n",
              "    }\n",
              "\n",
              "    .dataframe thead th {\n",
              "        text-align: right;\n",
              "    }\n",
              "</style>\n",
              "<table border=\"1\" class=\"dataframe\">\n",
              "  <thead>\n",
              "    <tr style=\"text-align: right;\">\n",
              "      <th></th>\n",
              "      <th>Rank</th>\n",
              "      <th>Country</th>\n",
              "      <th>Population</th>\n",
              "      <th>Area(km2)</th>\n",
              "      <th>Density(pop/km2)</th>\n",
              "    </tr>\n",
              "  </thead>\n",
              "  <tbody>\n",
              "    <tr>\n",
              "      <th>0</th>\n",
              "      <td>1</td>\n",
              "      <td>Singapore</td>\n",
              "      <td>5704000</td>\n",
              "      <td>710</td>\n",
              "      <td>8033</td>\n",
              "    </tr>\n",
              "    <tr>\n",
              "      <th>1</th>\n",
              "      <td>2</td>\n",
              "      <td>Bangladesh</td>\n",
              "      <td>171790000</td>\n",
              "      <td>143998</td>\n",
              "      <td>1193</td>\n",
              "    </tr>\n",
              "    <tr>\n",
              "      <th>2</th>\n",
              "      <td>3</td>\n",
              "      <td>Palestine</td>\n",
              "      <td>5266785</td>\n",
              "      <td>6020</td>\n",
              "      <td>847</td>\n",
              "    </tr>\n",
              "    <tr>\n",
              "      <th>3</th>\n",
              "      <td>4</td>\n",
              "      <td>Lebanon</td>\n",
              "      <td>6856000</td>\n",
              "      <td>10452</td>\n",
              "      <td>656</td>\n",
              "    </tr>\n",
              "    <tr>\n",
              "      <th>4</th>\n",
              "      <td>5</td>\n",
              "      <td>Taiwan</td>\n",
              "      <td>23604000</td>\n",
              "      <td>36193</td>\n",
              "      <td>652</td>\n",
              "    </tr>\n",
              "    <tr>\n",
              "      <th>5</th>\n",
              "      <td>6</td>\n",
              "      <td>South Korea</td>\n",
              "      <td>51781000</td>\n",
              "      <td>99538</td>\n",
              "      <td>520</td>\n",
              "    </tr>\n",
              "    <tr>\n",
              "      <th>6</th>\n",
              "      <td>7</td>\n",
              "      <td>Rwanda</td>\n",
              "      <td>12374000</td>\n",
              "      <td>26338</td>\n",
              "      <td>470</td>\n",
              "    </tr>\n",
              "    <tr>\n",
              "      <th>7</th>\n",
              "      <td>8</td>\n",
              "      <td>Haiti</td>\n",
              "      <td>11578000</td>\n",
              "      <td>27065</td>\n",
              "      <td>428</td>\n",
              "    </tr>\n",
              "    <tr>\n",
              "      <th>8</th>\n",
              "      <td>9</td>\n",
              "      <td>Netherlands</td>\n",
              "      <td>17660000</td>\n",
              "      <td>41526</td>\n",
              "      <td>425</td>\n",
              "    </tr>\n",
              "    <tr>\n",
              "      <th>9</th>\n",
              "      <td>10</td>\n",
              "      <td>Israel</td>\n",
              "      <td>9440000</td>\n",
              "      <td>22072</td>\n",
              "      <td>428</td>\n",
              "    </tr>\n",
              "  </tbody>\n",
              "</table>\n",
              "</div>"
            ],
            "text/plain": [
              "   Rank      Country  Population  Area(km2)  Density(pop/km2)\n",
              "0     1    Singapore     5704000        710              8033\n",
              "1     2   Bangladesh   171790000     143998              1193\n",
              "2     3    Palestine     5266785       6020               847\n",
              "3     4      Lebanon     6856000      10452               656\n",
              "4     5       Taiwan    23604000      36193               652\n",
              "5     6  South Korea    51781000      99538               520\n",
              "6     7       Rwanda    12374000      26338               470\n",
              "7     8        Haiti    11578000      27065               428\n",
              "8     9  Netherlands    17660000      41526               425\n",
              "9    10       Israel     9440000      22072               428"
            ]
          },
          "metadata": {},
          "execution_count": 73
        }
      ]
    },
    {
      "cell_type": "markdown",
      "metadata": {
        "id": "w7rz0SqDS4Sj"
      },
      "source": [
        "We can also use the `match` parameter to select the specific table we want. If the table contains a string matching the text it will be read.\n"
      ]
    },
    {
      "cell_type": "code",
      "metadata": {
        "colab": {
          "base_uri": "https://localhost:8080/",
          "height": 363
        },
        "id": "lhYuU4DIS4Sj",
        "outputId": "be9d510e-d64b-446f-e3f9-6eb585028ef3"
      },
      "source": [
        "pd.read_html(url, match=\"10 most densely populated countries\", flavor='bs4')[0]"
      ],
      "execution_count": 74,
      "outputs": [
        {
          "output_type": "execute_result",
          "data": {
            "text/html": [
              "<div>\n",
              "<style scoped>\n",
              "    .dataframe tbody tr th:only-of-type {\n",
              "        vertical-align: middle;\n",
              "    }\n",
              "\n",
              "    .dataframe tbody tr th {\n",
              "        vertical-align: top;\n",
              "    }\n",
              "\n",
              "    .dataframe thead th {\n",
              "        text-align: right;\n",
              "    }\n",
              "</style>\n",
              "<table border=\"1\" class=\"dataframe\">\n",
              "  <thead>\n",
              "    <tr style=\"text-align: right;\">\n",
              "      <th></th>\n",
              "      <th>Rank</th>\n",
              "      <th>Country</th>\n",
              "      <th>Population</th>\n",
              "      <th>Area(km2)</th>\n",
              "      <th>Density(pop/km2)</th>\n",
              "    </tr>\n",
              "  </thead>\n",
              "  <tbody>\n",
              "    <tr>\n",
              "      <th>0</th>\n",
              "      <td>1</td>\n",
              "      <td>Singapore</td>\n",
              "      <td>5704000</td>\n",
              "      <td>710</td>\n",
              "      <td>8033</td>\n",
              "    </tr>\n",
              "    <tr>\n",
              "      <th>1</th>\n",
              "      <td>2</td>\n",
              "      <td>Bangladesh</td>\n",
              "      <td>171790000</td>\n",
              "      <td>143998</td>\n",
              "      <td>1193</td>\n",
              "    </tr>\n",
              "    <tr>\n",
              "      <th>2</th>\n",
              "      <td>3</td>\n",
              "      <td>Palestine</td>\n",
              "      <td>5266785</td>\n",
              "      <td>6020</td>\n",
              "      <td>847</td>\n",
              "    </tr>\n",
              "    <tr>\n",
              "      <th>3</th>\n",
              "      <td>4</td>\n",
              "      <td>Lebanon</td>\n",
              "      <td>6856000</td>\n",
              "      <td>10452</td>\n",
              "      <td>656</td>\n",
              "    </tr>\n",
              "    <tr>\n",
              "      <th>4</th>\n",
              "      <td>5</td>\n",
              "      <td>Taiwan</td>\n",
              "      <td>23604000</td>\n",
              "      <td>36193</td>\n",
              "      <td>652</td>\n",
              "    </tr>\n",
              "    <tr>\n",
              "      <th>5</th>\n",
              "      <td>6</td>\n",
              "      <td>South Korea</td>\n",
              "      <td>51781000</td>\n",
              "      <td>99538</td>\n",
              "      <td>520</td>\n",
              "    </tr>\n",
              "    <tr>\n",
              "      <th>6</th>\n",
              "      <td>7</td>\n",
              "      <td>Rwanda</td>\n",
              "      <td>12374000</td>\n",
              "      <td>26338</td>\n",
              "      <td>470</td>\n",
              "    </tr>\n",
              "    <tr>\n",
              "      <th>7</th>\n",
              "      <td>8</td>\n",
              "      <td>Haiti</td>\n",
              "      <td>11578000</td>\n",
              "      <td>27065</td>\n",
              "      <td>428</td>\n",
              "    </tr>\n",
              "    <tr>\n",
              "      <th>8</th>\n",
              "      <td>9</td>\n",
              "      <td>Netherlands</td>\n",
              "      <td>17660000</td>\n",
              "      <td>41526</td>\n",
              "      <td>425</td>\n",
              "    </tr>\n",
              "    <tr>\n",
              "      <th>9</th>\n",
              "      <td>10</td>\n",
              "      <td>Israel</td>\n",
              "      <td>9440000</td>\n",
              "      <td>22072</td>\n",
              "      <td>428</td>\n",
              "    </tr>\n",
              "  </tbody>\n",
              "</table>\n",
              "</div>"
            ],
            "text/plain": [
              "   Rank      Country  Population  Area(km2)  Density(pop/km2)\n",
              "0     1    Singapore     5704000        710              8033\n",
              "1     2   Bangladesh   171790000     143998              1193\n",
              "2     3    Palestine     5266785       6020               847\n",
              "3     4      Lebanon     6856000      10452               656\n",
              "4     5       Taiwan    23604000      36193               652\n",
              "5     6  South Korea    51781000      99538               520\n",
              "6     7       Rwanda    12374000      26338               470\n",
              "7     8        Haiti    11578000      27065               428\n",
              "8     9  Netherlands    17660000      41526               425\n",
              "9    10       Israel     9440000      22072               428"
            ]
          },
          "metadata": {},
          "execution_count": 74
        }
      ]
    },
    {
      "cell_type": "markdown",
      "metadata": {
        "id": "4pEZpoXAS4Sj"
      },
      "source": [
        "## Authors\n"
      ]
    },
    {
      "cell_type": "markdown",
      "metadata": {
        "id": "FlfILs2WS4Sj"
      },
      "source": [
        "Ramesh Sannareddy\n"
      ]
    },
    {
      "cell_type": "markdown",
      "metadata": {
        "id": "HELl9xURS4Sj"
      },
      "source": [
        "### Other Contributors\n"
      ]
    },
    {
      "cell_type": "markdown",
      "metadata": {
        "id": "-K5PJNeaS4Sk"
      },
      "source": [
        "Rav Ahuja\n"
      ]
    },
    {
      "cell_type": "markdown",
      "metadata": {
        "id": "4u7j6edpS4Sk"
      },
      "source": [
        "## Change Log\n"
      ]
    },
    {
      "cell_type": "markdown",
      "metadata": {
        "id": "Tq5Y4jO0S4Sk"
      },
      "source": [
        "| Date (YYYY-MM-DD) | Version | Changed By                                               | Change Description |\n",
        "| ----------------- | ------- | -------------------------------------------------------- | ------------------ |\n",
        "| 2021-08-04        | 0.2     | Made changes to markdown of nextsibling                  |                    |\n",
        "| 2020-10-17        | 0.1     | Joseph Santarcangelo  Created initial version of the lab |                    |\n"
      ]
    },
    {
      "cell_type": "markdown",
      "metadata": {
        "id": "JzRqUdNrS4Sk"
      },
      "source": [
        "Copyright © 2020 IBM Corporation. This notebook and its source code are released under the terms of the [MIT License](https://cognitiveclass.ai/mit-license?utm_medium=Exinfluencer&utm_source=Exinfluencer&utm_content=000026UJ&utm_term=10006555&utm_id=NA-SkillsNetwork-Channel-SkillsNetworkCoursesIBMDeveloperSkillsNetworkPY0220ENSkillsNetwork23455606-2021-01-01&cm_mmc=Email_Newsletter-\\_-Developer_Ed%2BTech-\\_-WW_WW-\\_-SkillsNetwork-Courses-IBMDeveloperSkillsNetwork-PY0101EN-SkillsNetwork-19487395&cm_mmca1=000026UJ&cm_mmca2=10006555&cm_mmca3=M12345678&cvosrc=email.Newsletter.M12345678&cvo_campaign=000026UJ).\n"
      ]
    },
    {
      "cell_type": "code",
      "metadata": {
        "id": "REmG_LsjS4Sl"
      },
      "source": [
        ""
      ],
      "execution_count": null,
      "outputs": []
    },
    {
      "cell_type": "code",
      "metadata": {
        "id": "qJLRSBj2S4Sl"
      },
      "source": [
        ""
      ],
      "execution_count": null,
      "outputs": []
    }
  ]
}